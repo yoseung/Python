{
 "cells": [
  {
   "cell_type": "markdown",
   "id": "ab384950-e4e9-4c78-b07c-22e8b723fffe",
   "metadata": {},
   "source": [
    "## 파이썬 입문 part.2"
   ]
  },
  {
   "cell_type": "code",
   "execution_count": 2,
   "id": "15e0674b-55dc-48da-aead-3f5777d6c456",
   "metadata": {},
   "outputs": [],
   "source": [
    "import numpy as np\n",
    "import pandas as pd\n",
    "import requests\n",
    "from PIL import Image \n",
    "%config Completer.use_jedi = False #자동완성 꺼줌"
   ]
  },
  {
   "cell_type": "markdown",
   "id": "97f203c7-5fde-4da8-90cb-546ad227df0f",
   "metadata": {},
   "source": [
    "* `붕어빵 틀을 클래스, 어떻게 만들지 알려주는데 매서드, 안에 어떤 소스 추가 할지가 속성 추가, 그렇게 만들어진게 붕어빵이 객체(=인스턴스)임`\n",
    "* 사실 인스턴스와 객체는 같은 것을 뜻합니다. 보통 객체만 지칭할 때는 그냥 객체라고 부르지만 클래스와 연관지어서 말할 때는 인스턴스라고 부릅니다. https://gksid102.tistory.com/21"
   ]
  },
  {
   "cell_type": "markdown",
   "id": "36062976-732c-42e3-9501-0936d7186b6c",
   "metadata": {},
   "source": [
    "* 넘파이는 [ , ] [ ][ ] 둘다 되고\n",
    "* 리스트는 [ ][ ]\n",
    "* 딕셔너리는 [ ][ ] 키값으로만\n",
    "* 데이터 프레임에선 인덱싱을 iloc, loc을 이용함\n",
    "* 랜덤분포 만들때는 shape기능이 아니고 size기능을 씀\n",
    "* 쿼리에서 인덱스 고유값은 조건문 쓸때 \"전체 조건문\" 해주고 '고유값' 따로 붙여줘야 함\n",
    "* axis=0 같은 칼럼 끼리, axix=1 같은 행 끼리\n",
    "\n",
    "\n",
    "* 클래스로 함수정의 시 규칙\n",
    "* 규칙1: class안에서 정의된 함수는 첫번째 입력으로 무조건 self\n",
    "* 규칙2: class안에서 정의된 변수 (title, url, end)를 쓰려면 \"self.변수이름\"의 형태로 써야함"
   ]
  },
  {
   "cell_type": "code",
   "execution_count": 211,
   "id": "293d3b0e-6253-40aa-b5d8-1f945af6674c",
   "metadata": {},
   "outputs": [],
   "source": [
    "# 질문 10주차-1\n",
    "#df.query(\"index <= '202212311' or index == '202212457'\") # 고유값에는 ''를 따로해줘야 하는 건가 잘 모르겠음,,\n",
    "#df.query('att >= @_mean')"
   ]
  },
  {
   "cell_type": "markdown",
   "id": "ce9f4597-1394-4323-98c4-e3914569a5fc",
   "metadata": {},
   "source": [
    "### 10주차(1): 데이터 프레임 열 및 행추출, 활용"
   ]
  },
  {
   "cell_type": "code",
   "execution_count": 52,
   "id": "382721a1-ac87-488b-8a1a-78369840ceaa",
   "metadata": {},
   "outputs": [
    {
     "ename": "TypeError",
     "evalue": "string indices must be integers",
     "output_type": "error",
     "traceback": [
      "\u001b[1;31m---------------------------------------------------------------------------\u001b[0m",
      "\u001b[1;31mTypeError\u001b[0m                                 Traceback (most recent call last)",
      "\u001b[1;32m~\\AppData\\Local\\Temp/ipykernel_3552/636427780.py\u001b[0m in \u001b[0;36m<module>\u001b[1;34m\u001b[0m\n\u001b[0;32m      1\u001b[0m \u001b[0ma\u001b[0m\u001b[1;33m=\u001b[0m\u001b[1;34m'asdf'\u001b[0m\u001b[1;33m\u001b[0m\u001b[1;33m\u001b[0m\u001b[0m\n\u001b[1;32m----> 2\u001b[1;33m \u001b[0ma\u001b[0m\u001b[1;33m[\u001b[0m\u001b[1;33m[\u001b[0m\u001b[1;36m1\u001b[0m\u001b[1;33m,\u001b[0m\u001b[1;36m2\u001b[0m\u001b[1;33m]\u001b[0m\u001b[1;33m]\u001b[0m \u001b[1;31m# 정수인덱스를 리스트화 시켜서 인덱싱하는 것은 불가능\u001b[0m\u001b[1;33m\u001b[0m\u001b[1;33m\u001b[0m\u001b[0m\n\u001b[0m",
      "\u001b[1;31mTypeError\u001b[0m: string indices must be integers"
     ]
    }
   ],
   "source": [
    "a='asdf'\n",
    "a[[1,2]] # 정수인덱스를 리스트화 시켜서 인덱싱하는 것은 불가능 "
   ]
  },
  {
   "cell_type": "markdown",
   "id": "3022a7f9-cb25-487e-8c50-584ced6f1e93",
   "metadata": {},
   "source": [
    "`-` 팬시인덱싱"
   ]
  },
  {
   "cell_type": "code",
   "execution_count": 53,
   "id": "f006f397-ffd5-472e-b272-6a5cfed709a1",
   "metadata": {},
   "outputs": [
    {
     "data": {
      "text/plain": [
       "array([56, 57, 60])"
      ]
     },
     "execution_count": 53,
     "metadata": {},
     "output_type": "execute_result"
    }
   ],
   "source": [
    "#팬시 인덱싱\n",
    "a=np.arange(55,61)\n",
    "a[[1,2,-1]]"
   ]
  },
  {
   "cell_type": "code",
   "execution_count": 54,
   "id": "797477e1-8e1d-43d6-8bad-df58945ae2e0",
   "metadata": {},
   "outputs": [
    {
     "data": {
      "text/plain": [
       "array([56, 57, 60])"
      ]
     },
     "execution_count": 54,
     "metadata": {},
     "output_type": "execute_result"
    }
   ],
   "source": [
    "a[np.array([1,2,-1])]"
   ]
  },
  {
   "cell_type": "code",
   "execution_count": 55,
   "id": "2cd808e7-5800-47f0-a502-9ecb614fb87b",
   "metadata": {},
   "outputs": [
    {
     "data": {
      "text/plain": [
       "array([55, 56])"
      ]
     },
     "execution_count": 55,
     "metadata": {},
     "output_type": "execute_result"
    }
   ],
   "source": [
    "a[[True,True,False,False,False,False]]"
   ]
  },
  {
   "cell_type": "code",
   "execution_count": 56,
   "id": "4067b82d-624b-48ea-9d38-ba7d061c59b4",
   "metadata": {},
   "outputs": [
    {
     "data": {
      "text/plain": [
       "array([55, 56, 57])"
      ]
     },
     "execution_count": 56,
     "metadata": {},
     "output_type": "execute_result"
    }
   ],
   "source": [
    "a[a<58]"
   ]
  },
  {
   "cell_type": "markdown",
   "id": "a4799062-dc00-49c9-9656-5f55dc3f2f7d",
   "metadata": {},
   "source": [
    "`-` 2차원 자료의 인덱싱"
   ]
  },
  {
   "cell_type": "code",
   "execution_count": 57,
   "id": "9323fbf0-6f71-44cd-83af-3e3b3444a74c",
   "metadata": {},
   "outputs": [
    {
     "data": {
      "text/plain": [
       "array([[ 0,  1,  2],\n",
       "       [ 3,  4,  5],\n",
       "       [ 6,  7,  8],\n",
       "       [ 9, 10, 11]])"
      ]
     },
     "execution_count": 57,
     "metadata": {},
     "output_type": "execute_result"
    }
   ],
   "source": [
    "a = np.arange(4*3).reshape(4,3)\n",
    "a"
   ]
  },
  {
   "cell_type": "code",
   "execution_count": 58,
   "id": "4d529662-b6a8-4c84-80db-4e40074258b4",
   "metadata": {},
   "outputs": [
    {
     "data": {
      "text/plain": [
       "array([1, 4])"
      ]
     },
     "execution_count": 58,
     "metadata": {},
     "output_type": "execute_result"
    }
   ],
   "source": [
    "a[0:2,1]"
   ]
  },
  {
   "cell_type": "code",
   "execution_count": 59,
   "id": "88735c1b-7788-46b2-b63b-2131b7c353ab",
   "metadata": {},
   "outputs": [
    {
     "data": {
      "text/plain": [
       "array([[1],\n",
       "       [4]])"
      ]
     },
     "execution_count": 59,
     "metadata": {},
     "output_type": "execute_result"
    }
   ],
   "source": [
    "# 차원을 유지하면서 인덱싱하고 싶다면\n",
    "a = np.arange(4*3).reshape(4,3)\n",
    "a[0:2,[1]]"
   ]
  },
  {
   "cell_type": "markdown",
   "id": "68265934-134d-44b8-82a6-b0fb47fe3eaa",
   "metadata": {},
   "source": [
    "`-` Hash"
   ]
  },
  {
   "cell_type": "code",
   "execution_count": 60,
   "id": "dbedc665-6261-4944-a829-e23f889c4af0",
   "metadata": {},
   "outputs": [],
   "source": [
    "np.random.seed(43052)\n",
    "att = np.random.choice(np.arange(10,21)*5,200)\n",
    "rep = np.random.choice(np.arange(5,21)*5,200)\n",
    "mid = np.random.choice(np.arange(0,21)*5,200)\n",
    "fin = np.random.choice(np.arange(0,21)*5,200)\n",
    "key = ['202212'+str(s) for s in np.random.choice(np.arange(300,501),200,replace=False)]\n",
    "test_dic = {key[i] : {'att':att[i], 'rep':rep[i], 'mid':mid[i], 'fin':fin[i]} for i in range(200)}\n",
    "test_ndarray = np.array([key,att,rep,mid,fin],dtype=np.int64).T\n",
    "del(att);del(rep);del(mid);del(fin);del(key)"
   ]
  },
  {
   "cell_type": "markdown",
   "id": "f1b56dd6-7791-4ec5-a95f-61edbe751f6a",
   "metadata": {},
   "source": [
    "* 학번 '202212460'에 해당하는 학생의 출석점수를 알고 싶다면?"
   ]
  },
  {
   "cell_type": "code",
   "execution_count": 61,
   "id": "73f49d4e-e827-4d58-9f29-712e7199d56b",
   "metadata": {},
   "outputs": [
    {
     "data": {
      "text/plain": [
       "55"
      ]
     },
     "execution_count": 61,
     "metadata": {},
     "output_type": "execute_result"
    }
   ],
   "source": [
    "#풀이 1 (numpy)\n",
    "test_dic['202212460']['att'] "
   ]
  },
  {
   "cell_type": "code",
   "execution_count": 62,
   "id": "ff9ea7d9-5168-42a0-acab-0f514d186bc0",
   "metadata": {},
   "outputs": [
    {
     "data": {
      "text/plain": [
       "array([55], dtype=int64)"
      ]
     },
     "execution_count": 62,
     "metadata": {},
     "output_type": "execute_result"
    }
   ],
   "source": [
    "#풀이 2 (hash)\n",
    "test_ndarray[test_ndarray[:,0] == 202212460, 1]\n",
    "#test_ndarray의 첫칼럼은 student id 이고 두번째 칼럼은 att라는 사실을 암기하고 있어야 한다."
   ]
  },
  {
   "cell_type": "markdown",
   "id": "ebf84d37-2106-490c-9201-8918ec76885e",
   "metadata": {},
   "source": [
    "* 풀이 2는 1에 비해 가독성이 없음(위치로 접근하기에)\n",
    "* 요약: hash 스타일로 정보를 추출하는 것이 유용할 때가 있다. 그리고 보통 hash 스타일로 정보를 뽑는 것이 유리하다. (사실 numpy는 정보추출을 위해 개발된 자료형이 아니라 행렬 및 벡터의 수학연산을 지원하기 위해 개발된 자료형이다)\n",
    "* 소망: 정보를 추출할때는 hash 스타일도 유용하다는 것은 이해함 \n",
    "* 하지만 나는 가끔 넘파이스타일로 정보를 뽑고 싶은걸? 그리고 딕셔너리 형태가 아니고 엑셀처럼(행렬처럼) 데이터를 보고 싶은걸? \n",
    "* `판다스의 개발 동기: 엑셀처럼 데이터를 테이블 형태로 정리하고 싶다-> 걍 가독성있게 만들고 싶단거`"
   ]
  },
  {
   "cell_type": "markdown",
   "id": "bb1d603b-8f98-4766-b4dc-013972e2d77c",
   "metadata": {},
   "source": [
    "### 판다스로 바꾸는 방법"
   ]
  },
  {
   "cell_type": "code",
   "execution_count": 78,
   "id": "f5a2cd62-56ce-4bb7-838e-c3b756c7382d",
   "metadata": {},
   "outputs": [],
   "source": [
    "test_ndarray = np.array([key,att,rep,mid,fin],dtype=np.int64).T"
   ]
  },
  {
   "cell_type": "code",
   "execution_count": 79,
   "id": "b6b9eef4-4421-4823-8a7a-c30fbfb9d946",
   "metadata": {},
   "outputs": [
    {
     "data": {
      "text/html": [
       "<div>\n",
       "<style scoped>\n",
       "    .dataframe tbody tr th:only-of-type {\n",
       "        vertical-align: middle;\n",
       "    }\n",
       "\n",
       "    .dataframe tbody tr th {\n",
       "        vertical-align: top;\n",
       "    }\n",
       "\n",
       "    .dataframe thead th {\n",
       "        text-align: right;\n",
       "    }\n",
       "</style>\n",
       "<table border=\"1\" class=\"dataframe\">\n",
       "  <thead>\n",
       "    <tr style=\"text-align: right;\">\n",
       "      <th></th>\n",
       "      <th>att</th>\n",
       "      <th>rep</th>\n",
       "      <th>mid</th>\n",
       "      <th>fin</th>\n",
       "    </tr>\n",
       "  </thead>\n",
       "  <tbody>\n",
       "    <tr>\n",
       "      <th>202212380</th>\n",
       "      <td>65</td>\n",
       "      <td>55</td>\n",
       "      <td>50</td>\n",
       "      <td>40</td>\n",
       "    </tr>\n",
       "    <tr>\n",
       "      <th>202212370</th>\n",
       "      <td>95</td>\n",
       "      <td>100</td>\n",
       "      <td>50</td>\n",
       "      <td>80</td>\n",
       "    </tr>\n",
       "    <tr>\n",
       "      <th>202212363</th>\n",
       "      <td>65</td>\n",
       "      <td>90</td>\n",
       "      <td>60</td>\n",
       "      <td>30</td>\n",
       "    </tr>\n",
       "  </tbody>\n",
       "</table>\n",
       "</div>"
      ],
      "text/plain": [
       "           att  rep  mid  fin\n",
       "202212380   65   55   50   40\n",
       "202212370   95  100   50   80\n",
       "202212363   65   90   60   30"
      ]
     },
     "execution_count": 79,
     "metadata": {},
     "output_type": "execute_result"
    }
   ],
   "source": [
    "# 방법1)\n",
    "np.random.seed(43052)\n",
    "att = np.random.choice(np.arange(10,21)*5,20)\n",
    "rep = np.random.choice(np.arange(5,21)*5,20)\n",
    "mid = np.random.choice(np.arange(0,21)*5,20)\n",
    "fin = np.random.choice(np.arange(0,21)*5,20)\n",
    "key = ['202212'+str(s) for s in np.random.choice(np.arange(300,501),20,replace=False)]\n",
    "test_dic = {key[i] : {'att':att[i], 'rep':rep[i], 'mid':mid[i], 'fin':fin[i]} for i in range(20)}\n",
    "\n",
    "pd.DataFrame(test_dic).T.head(3) #얼마나 가독성이 좋아 슬라이싱 하기도 쉽고!!"
   ]
  },
  {
   "cell_type": "code",
   "execution_count": 80,
   "id": "c62cd4d1-c9bc-48c7-b45a-d507974b5f79",
   "metadata": {},
   "outputs": [
    {
     "data": {
      "text/html": [
       "<div>\n",
       "<style scoped>\n",
       "    .dataframe tbody tr th:only-of-type {\n",
       "        vertical-align: middle;\n",
       "    }\n",
       "\n",
       "    .dataframe tbody tr th {\n",
       "        vertical-align: top;\n",
       "    }\n",
       "\n",
       "    .dataframe thead th {\n",
       "        text-align: right;\n",
       "    }\n",
       "</style>\n",
       "<table border=\"1\" class=\"dataframe\">\n",
       "  <thead>\n",
       "    <tr style=\"text-align: right;\">\n",
       "      <th></th>\n",
       "      <th>202212380</th>\n",
       "      <th>202212370</th>\n",
       "      <th>202212363</th>\n",
       "      <th>202212488</th>\n",
       "      <th>202212312</th>\n",
       "      <th>202212377</th>\n",
       "      <th>202212463</th>\n",
       "      <th>202212471</th>\n",
       "      <th>202212400</th>\n",
       "      <th>202212469</th>\n",
       "      <th>202212318</th>\n",
       "      <th>202212432</th>\n",
       "      <th>202212443</th>\n",
       "      <th>202212367</th>\n",
       "      <th>202212458</th>\n",
       "      <th>202212396</th>\n",
       "      <th>202212482</th>\n",
       "      <th>202212452</th>\n",
       "      <th>202212387</th>\n",
       "      <th>202212354</th>\n",
       "    </tr>\n",
       "  </thead>\n",
       "  <tbody>\n",
       "    <tr>\n",
       "      <th>att</th>\n",
       "      <td>65</td>\n",
       "      <td>95</td>\n",
       "      <td>65</td>\n",
       "      <td>55</td>\n",
       "      <td>80</td>\n",
       "      <td>75</td>\n",
       "      <td>65</td>\n",
       "      <td>60</td>\n",
       "      <td>95</td>\n",
       "      <td>90</td>\n",
       "      <td>55</td>\n",
       "      <td>95</td>\n",
       "      <td>95</td>\n",
       "      <td>50</td>\n",
       "      <td>50</td>\n",
       "      <td>95</td>\n",
       "      <td>50</td>\n",
       "      <td>65</td>\n",
       "      <td>70</td>\n",
       "      <td>90</td>\n",
       "    </tr>\n",
       "    <tr>\n",
       "      <th>rep</th>\n",
       "      <td>55</td>\n",
       "      <td>100</td>\n",
       "      <td>90</td>\n",
       "      <td>80</td>\n",
       "      <td>30</td>\n",
       "      <td>40</td>\n",
       "      <td>45</td>\n",
       "      <td>60</td>\n",
       "      <td>65</td>\n",
       "      <td>80</td>\n",
       "      <td>75</td>\n",
       "      <td>95</td>\n",
       "      <td>55</td>\n",
       "      <td>80</td>\n",
       "      <td>55</td>\n",
       "      <td>30</td>\n",
       "      <td>50</td>\n",
       "      <td>55</td>\n",
       "      <td>70</td>\n",
       "      <td>90</td>\n",
       "    </tr>\n",
       "    <tr>\n",
       "      <th>mid</th>\n",
       "      <td>50</td>\n",
       "      <td>50</td>\n",
       "      <td>60</td>\n",
       "      <td>75</td>\n",
       "      <td>30</td>\n",
       "      <td>100</td>\n",
       "      <td>45</td>\n",
       "      <td>25</td>\n",
       "      <td>20</td>\n",
       "      <td>80</td>\n",
       "      <td>35</td>\n",
       "      <td>45</td>\n",
       "      <td>15</td>\n",
       "      <td>40</td>\n",
       "      <td>15</td>\n",
       "      <td>30</td>\n",
       "      <td>45</td>\n",
       "      <td>15</td>\n",
       "      <td>40</td>\n",
       "      <td>80</td>\n",
       "    </tr>\n",
       "  </tbody>\n",
       "</table>\n",
       "</div>"
      ],
      "text/plain": [
       "     202212380  202212370  202212363  202212488  202212312  202212377  \\\n",
       "att         65         95         65         55         80         75   \n",
       "rep         55        100         90         80         30         40   \n",
       "mid         50         50         60         75         30        100   \n",
       "\n",
       "     202212463  202212471  202212400  202212469  202212318  202212432  \\\n",
       "att         65         60         95         90         55         95   \n",
       "rep         45         60         65         80         75         95   \n",
       "mid         45         25         20         80         35         45   \n",
       "\n",
       "     202212443  202212367  202212458  202212396  202212482  202212452  \\\n",
       "att         95         50         50         95         50         65   \n",
       "rep         55         80         55         30         50         55   \n",
       "mid         15         40         15         30         45         15   \n",
       "\n",
       "     202212387  202212354  \n",
       "att         70         90  \n",
       "rep         70         90  \n",
       "mid         40         80  "
      ]
     },
     "execution_count": 80,
     "metadata": {},
     "output_type": "execute_result"
    }
   ],
   "source": [
    "pd.DataFrame(test_dic).head(3) #전치시켜서 행과 열의 위치를 바꿔야 가독성 좋음"
   ]
  },
  {
   "cell_type": "code",
   "execution_count": 81,
   "id": "71b99fa7-9370-4866-8a51-e4a9a688b60b",
   "metadata": {},
   "outputs": [
    {
     "data": {
      "text/html": [
       "<div>\n",
       "<style scoped>\n",
       "    .dataframe tbody tr th:only-of-type {\n",
       "        vertical-align: middle;\n",
       "    }\n",
       "\n",
       "    .dataframe tbody tr th {\n",
       "        vertical-align: top;\n",
       "    }\n",
       "\n",
       "    .dataframe thead th {\n",
       "        text-align: right;\n",
       "    }\n",
       "</style>\n",
       "<table border=\"1\" class=\"dataframe\">\n",
       "  <thead>\n",
       "    <tr style=\"text-align: right;\">\n",
       "      <th></th>\n",
       "      <th>att</th>\n",
       "      <th>rep</th>\n",
       "      <th>mid</th>\n",
       "      <th>fin</th>\n",
       "    </tr>\n",
       "  </thead>\n",
       "  <tbody>\n",
       "    <tr>\n",
       "      <th>202212380</th>\n",
       "      <td>65</td>\n",
       "      <td>55</td>\n",
       "      <td>50</td>\n",
       "      <td>40</td>\n",
       "    </tr>\n",
       "    <tr>\n",
       "      <th>202212370</th>\n",
       "      <td>95</td>\n",
       "      <td>100</td>\n",
       "      <td>50</td>\n",
       "      <td>80</td>\n",
       "    </tr>\n",
       "    <tr>\n",
       "      <th>202212363</th>\n",
       "      <td>65</td>\n",
       "      <td>90</td>\n",
       "      <td>60</td>\n",
       "      <td>30</td>\n",
       "    </tr>\n",
       "  </tbody>\n",
       "</table>\n",
       "</div>"
      ],
      "text/plain": [
       "           att  rep  mid  fin\n",
       "202212380   65   55   50   40\n",
       "202212370   95  100   50   80\n",
       "202212363   65   90   60   30"
      ]
     },
     "execution_count": 81,
     "metadata": {},
     "output_type": "execute_result"
    }
   ],
   "source": [
    "# 방법2)\n",
    "test_dic2 = {'att':{key[i]:att[i] for i in range(20)}, \n",
    "             'rep':{key[i]:rep[i] for i in range(20)},\n",
    "             'mid':{key[i]:mid[i] for i in range(20)},\n",
    "             'fin':{key[i]:fin[i] for i in range(20)}}\n",
    "\n",
    "pd.DataFrame(test_dic2).head(3)"
   ]
  },
  {
   "cell_type": "code",
   "execution_count": 82,
   "id": "e42bc612-3950-4042-a0cd-79a031cff05a",
   "metadata": {},
   "outputs": [
    {
     "data": {
      "text/html": [
       "<div>\n",
       "<style scoped>\n",
       "    .dataframe tbody tr th:only-of-type {\n",
       "        vertical-align: middle;\n",
       "    }\n",
       "\n",
       "    .dataframe tbody tr th {\n",
       "        vertical-align: top;\n",
       "    }\n",
       "\n",
       "    .dataframe thead th {\n",
       "        text-align: right;\n",
       "    }\n",
       "</style>\n",
       "<table border=\"1\" class=\"dataframe\">\n",
       "  <thead>\n",
       "    <tr style=\"text-align: right;\">\n",
       "      <th></th>\n",
       "      <th>att</th>\n",
       "      <th>rep</th>\n",
       "      <th>mid</th>\n",
       "      <th>fin</th>\n",
       "    </tr>\n",
       "  </thead>\n",
       "  <tbody>\n",
       "    <tr>\n",
       "      <th>202212380</th>\n",
       "      <td>65</td>\n",
       "      <td>55</td>\n",
       "      <td>50</td>\n",
       "      <td>40</td>\n",
       "    </tr>\n",
       "    <tr>\n",
       "      <th>202212370</th>\n",
       "      <td>95</td>\n",
       "      <td>100</td>\n",
       "      <td>50</td>\n",
       "      <td>80</td>\n",
       "    </tr>\n",
       "    <tr>\n",
       "      <th>202212363</th>\n",
       "      <td>65</td>\n",
       "      <td>90</td>\n",
       "      <td>60</td>\n",
       "      <td>30</td>\n",
       "    </tr>\n",
       "  </tbody>\n",
       "</table>\n",
       "</div>"
      ],
      "text/plain": [
       "           att  rep  mid  fin\n",
       "202212380   65   55   50   40\n",
       "202212370   95  100   50   80\n",
       "202212363   65   90   60   30"
      ]
     },
     "execution_count": 82,
     "metadata": {},
     "output_type": "execute_result"
    }
   ],
   "source": [
    "# 방법3)\n",
    "pd.DataFrame({'att':att, 'rep':rep, 'mid':mid, 'fin':fin},index=key).head(3)"
   ]
  },
  {
   "cell_type": "code",
   "execution_count": 83,
   "id": "0082e292-a8c7-41c7-88be-7a817910f437",
   "metadata": {},
   "outputs": [
    {
     "data": {
      "text/html": [
       "<div>\n",
       "<style scoped>\n",
       "    .dataframe tbody tr th:only-of-type {\n",
       "        vertical-align: middle;\n",
       "    }\n",
       "\n",
       "    .dataframe tbody tr th {\n",
       "        vertical-align: top;\n",
       "    }\n",
       "\n",
       "    .dataframe thead th {\n",
       "        text-align: right;\n",
       "    }\n",
       "</style>\n",
       "<table border=\"1\" class=\"dataframe\">\n",
       "  <thead>\n",
       "    <tr style=\"text-align: right;\">\n",
       "      <th></th>\n",
       "      <th>att</th>\n",
       "      <th>rep</th>\n",
       "      <th>mid</th>\n",
       "      <th>fin</th>\n",
       "    </tr>\n",
       "  </thead>\n",
       "  <tbody>\n",
       "    <tr>\n",
       "      <th>202212380</th>\n",
       "      <td>65</td>\n",
       "      <td>55</td>\n",
       "      <td>50</td>\n",
       "      <td>40</td>\n",
       "    </tr>\n",
       "    <tr>\n",
       "      <th>202212370</th>\n",
       "      <td>95</td>\n",
       "      <td>100</td>\n",
       "      <td>50</td>\n",
       "      <td>80</td>\n",
       "    </tr>\n",
       "    <tr>\n",
       "      <th>202212363</th>\n",
       "      <td>65</td>\n",
       "      <td>90</td>\n",
       "      <td>60</td>\n",
       "      <td>30</td>\n",
       "    </tr>\n",
       "  </tbody>\n",
       "</table>\n",
       "</div>"
      ],
      "text/plain": [
       "           att  rep  mid  fin\n",
       "202212380   65   55   50   40\n",
       "202212370   95  100   50   80\n",
       "202212363   65   90   60   30"
      ]
     },
     "execution_count": 83,
     "metadata": {},
     "output_type": "execute_result"
    }
   ],
   "source": [
    "# 방법4)\n",
    "df = pd.DataFrame({'att':att, 'rep':rep, 'mid':mid, 'fin':fin}) #키값 아직 연결안함\n",
    "df = df.set_index([key]) #set_index 사용법 검색하면 나온다,,\n",
    "df.head(3)"
   ]
  },
  {
   "cell_type": "markdown",
   "id": "2390981e-30a0-4831-8b96-e8d82be96e56",
   "metadata": {},
   "source": [
    "#### 데이터 프레임에서 해싱으로 원하는 정보 뽑기 (마치 딕셔너리처럼)"
   ]
  },
  {
   "cell_type": "code",
   "execution_count": 84,
   "id": "cb25bf9c-4536-4f72-ab9c-cca2a51b3ffb",
   "metadata": {},
   "outputs": [
    {
     "data": {
      "text/plain": [
       "65"
      ]
     },
     "execution_count": 84,
     "metadata": {},
     "output_type": "execute_result"
    }
   ],
   "source": [
    "test_dic2['att']['202212380'] # 방법 2의 딕셔너리 형태"
   ]
  },
  {
   "cell_type": "code",
   "execution_count": 85,
   "id": "2ae34cb9-1d6d-43c4-860a-dc38a336548f",
   "metadata": {},
   "outputs": [
    {
     "data": {
      "text/plain": [
       "65"
      ]
     },
     "execution_count": 85,
     "metadata": {},
     "output_type": "execute_result"
    }
   ],
   "source": [
    "df['att']['202212380'] #데이터 프레임"
   ]
  },
  {
   "cell_type": "markdown",
   "id": "5af0da56-8bda-45e0-b6e7-4e997791d5b4",
   "metadata": {},
   "source": [
    "#### 인덱싱으로 정보를 뽑는 기능 (마치 리스트나 넘파이처럼)"
   ]
  },
  {
   "cell_type": "markdown",
   "id": "051556cf-53fa-4c62-860b-eb82a2969cc5",
   "metadata": {},
   "source": [
    "* 첫번째 학생의 기말고사 성적을 출력하기"
   ]
  },
  {
   "cell_type": "code",
   "execution_count": 86,
   "id": "4ae4f5db-0c22-4ef8-b0e9-91298393fee2",
   "metadata": {},
   "outputs": [
    {
     "data": {
      "text/plain": [
       "40"
      ]
     },
     "execution_count": 86,
     "metadata": {},
     "output_type": "execute_result"
    }
   ],
   "source": [
    "test_ndarray[0,-1]"
   ]
  },
  {
   "cell_type": "code",
   "execution_count": 87,
   "id": "884e490f-1108-4e05-b7af-ccfaeec4a616",
   "metadata": {},
   "outputs": [
    {
     "data": {
      "text/plain": [
       "40"
      ]
     },
     "execution_count": 87,
     "metadata": {},
     "output_type": "execute_result"
    }
   ],
   "source": [
    "df.iloc[0,-1]"
   ]
  },
  {
   "cell_type": "markdown",
   "id": "b0273e6a-a636-4d93-82b0-85502a833ca0",
   "metadata": {},
   "source": [
    "#### +) loc, iloc의 차이\n",
    "- iloc은 i가 붙은 만큼 index를 활용한 location 지정 방법 → 사용 예시 :  DataFrame.iloc[index_index, column_index]\n",
    "- loc은 index를 활용하지 않고 직접 index 및 column명을 통해 지정하는 방법 → 사용 예시 :  DataFrame.loc[index_name, column_name]"
   ]
  },
  {
   "cell_type": "code",
   "execution_count": 88,
   "id": "4f829dcc-2ed3-4a30-87aa-796533826121",
   "metadata": {},
   "outputs": [
    {
     "data": {
      "text/html": [
       "<div>\n",
       "<style scoped>\n",
       "    .dataframe tbody tr th:only-of-type {\n",
       "        vertical-align: middle;\n",
       "    }\n",
       "\n",
       "    .dataframe tbody tr th {\n",
       "        vertical-align: top;\n",
       "    }\n",
       "\n",
       "    .dataframe thead th {\n",
       "        text-align: right;\n",
       "    }\n",
       "</style>\n",
       "<table border=\"1\" class=\"dataframe\">\n",
       "  <thead>\n",
       "    <tr style=\"text-align: right;\">\n",
       "      <th></th>\n",
       "      <th>att</th>\n",
       "      <th>rep</th>\n",
       "      <th>mid</th>\n",
       "      <th>fin</th>\n",
       "    </tr>\n",
       "  </thead>\n",
       "  <tbody>\n",
       "    <tr>\n",
       "      <th>202212380</th>\n",
       "      <td>65</td>\n",
       "      <td>55</td>\n",
       "      <td>50</td>\n",
       "      <td>40</td>\n",
       "    </tr>\n",
       "    <tr>\n",
       "      <th>202212370</th>\n",
       "      <td>95</td>\n",
       "      <td>100</td>\n",
       "      <td>50</td>\n",
       "      <td>80</td>\n",
       "    </tr>\n",
       "  </tbody>\n",
       "</table>\n",
       "</div>"
      ],
      "text/plain": [
       "           att  rep  mid  fin\n",
       "202212380   65   55   50   40\n",
       "202212370   95  100   50   80"
      ]
     },
     "execution_count": 88,
     "metadata": {},
     "output_type": "execute_result"
    }
   ],
   "source": [
    "df.iloc[:2] #인덱스로 0,1 번째 인것만 출력"
   ]
  },
  {
   "cell_type": "code",
   "execution_count": 89,
   "id": "ba7b0e42-ed1d-458d-ad30-995778171d35",
   "metadata": {},
   "outputs": [
    {
     "data": {
      "text/html": [
       "<div>\n",
       "<style scoped>\n",
       "    .dataframe tbody tr th:only-of-type {\n",
       "        vertical-align: middle;\n",
       "    }\n",
       "\n",
       "    .dataframe tbody tr th {\n",
       "        vertical-align: top;\n",
       "    }\n",
       "\n",
       "    .dataframe thead th {\n",
       "        text-align: right;\n",
       "    }\n",
       "</style>\n",
       "<table border=\"1\" class=\"dataframe\">\n",
       "  <thead>\n",
       "    <tr style=\"text-align: right;\">\n",
       "      <th></th>\n",
       "      <th>att</th>\n",
       "      <th>rep</th>\n",
       "      <th>mid</th>\n",
       "      <th>fin</th>\n",
       "    </tr>\n",
       "  </thead>\n",
       "  <tbody>\n",
       "    <tr>\n",
       "      <th>202212380</th>\n",
       "      <td>65</td>\n",
       "      <td>55</td>\n",
       "      <td>50</td>\n",
       "      <td>40</td>\n",
       "    </tr>\n",
       "    <tr>\n",
       "      <th>202212370</th>\n",
       "      <td>95</td>\n",
       "      <td>100</td>\n",
       "      <td>50</td>\n",
       "      <td>80</td>\n",
       "    </tr>\n",
       "  </tbody>\n",
       "</table>\n",
       "</div>"
      ],
      "text/plain": [
       "           att  rep  mid  fin\n",
       "202212380   65   55   50   40\n",
       "202212370   95  100   50   80"
      ]
     },
     "execution_count": 89,
     "metadata": {},
     "output_type": "execute_result"
    }
   ],
   "source": [
    "df.loc[:'202212370'] #인덱스 이름으로 지정해준거 포함해서 출력됨"
   ]
  },
  {
   "cell_type": "markdown",
   "id": "c3f1cacd-efc5-48c6-9319-f177d9afd36a",
   "metadata": {},
   "source": [
    "#### 홀수번째 학생의 점수를 뽑기"
   ]
  },
  {
   "cell_type": "code",
   "execution_count": 92,
   "id": "23390570-4762-45e9-8e8d-c04ef86ceb4e",
   "metadata": {},
   "outputs": [
    {
     "data": {
      "text/plain": [
       "10"
      ]
     },
     "execution_count": 92,
     "metadata": {},
     "output_type": "execute_result"
    }
   ],
   "source": [
    "len(test_ndarray[::2])"
   ]
  },
  {
   "cell_type": "code",
   "execution_count": 93,
   "id": "e8525900-14a5-4ea0-9721-1a98f13e683c",
   "metadata": {},
   "outputs": [
    {
     "data": {
      "text/plain": [
       "10"
      ]
     },
     "execution_count": 93,
     "metadata": {},
     "output_type": "execute_result"
    }
   ],
   "source": [
    "len(df.iloc[::2])"
   ]
  },
  {
   "cell_type": "markdown",
   "id": "e914b515-4592-4fcb-bdac-d1cbc96bbb6b",
   "metadata": {},
   "source": [
    "#### 맨 끝에서 3명의 점수를 출력하고 싶다."
   ]
  },
  {
   "cell_type": "code",
   "execution_count": 98,
   "id": "847fafa3-2286-490d-931f-29d62a1f8fd0",
   "metadata": {},
   "outputs": [
    {
     "data": {
      "text/plain": [
       "array([[202212452,        65,        55,        15,        45],\n",
       "       [202212387,        70,        70,        40,        35],\n",
       "       [202212354,        90,        90,        80,        90]],\n",
       "      dtype=int64)"
      ]
     },
     "execution_count": 98,
     "metadata": {},
     "output_type": "execute_result"
    }
   ],
   "source": [
    "test_ndarray[-3:]"
   ]
  },
  {
   "cell_type": "code",
   "execution_count": 99,
   "id": "d4f8b927-403f-4093-a536-6122966327b2",
   "metadata": {},
   "outputs": [
    {
     "data": {
      "text/html": [
       "<div>\n",
       "<style scoped>\n",
       "    .dataframe tbody tr th:only-of-type {\n",
       "        vertical-align: middle;\n",
       "    }\n",
       "\n",
       "    .dataframe tbody tr th {\n",
       "        vertical-align: top;\n",
       "    }\n",
       "\n",
       "    .dataframe thead th {\n",
       "        text-align: right;\n",
       "    }\n",
       "</style>\n",
       "<table border=\"1\" class=\"dataframe\">\n",
       "  <thead>\n",
       "    <tr style=\"text-align: right;\">\n",
       "      <th></th>\n",
       "      <th>att</th>\n",
       "      <th>rep</th>\n",
       "      <th>mid</th>\n",
       "      <th>fin</th>\n",
       "    </tr>\n",
       "  </thead>\n",
       "  <tbody>\n",
       "    <tr>\n",
       "      <th>202212452</th>\n",
       "      <td>65</td>\n",
       "      <td>55</td>\n",
       "      <td>15</td>\n",
       "      <td>45</td>\n",
       "    </tr>\n",
       "    <tr>\n",
       "      <th>202212387</th>\n",
       "      <td>70</td>\n",
       "      <td>70</td>\n",
       "      <td>40</td>\n",
       "      <td>35</td>\n",
       "    </tr>\n",
       "    <tr>\n",
       "      <th>202212354</th>\n",
       "      <td>90</td>\n",
       "      <td>90</td>\n",
       "      <td>80</td>\n",
       "      <td>90</td>\n",
       "    </tr>\n",
       "  </tbody>\n",
       "</table>\n",
       "</div>"
      ],
      "text/plain": [
       "           att  rep  mid  fin\n",
       "202212452   65   55   15   45\n",
       "202212387   70   70   40   35\n",
       "202212354   90   90   80   90"
      ]
     },
     "execution_count": 99,
     "metadata": {},
     "output_type": "execute_result"
    }
   ],
   "source": [
    "df.iloc[-3:]"
   ]
  },
  {
   "cell_type": "code",
   "execution_count": 100,
   "id": "ffba5735-b90d-4ede-afbf-9e88991564f5",
   "metadata": {},
   "outputs": [
    {
     "data": {
      "text/html": [
       "<div>\n",
       "<style scoped>\n",
       "    .dataframe tbody tr th:only-of-type {\n",
       "        vertical-align: middle;\n",
       "    }\n",
       "\n",
       "    .dataframe tbody tr th {\n",
       "        vertical-align: top;\n",
       "    }\n",
       "\n",
       "    .dataframe thead th {\n",
       "        text-align: right;\n",
       "    }\n",
       "</style>\n",
       "<table border=\"1\" class=\"dataframe\">\n",
       "  <thead>\n",
       "    <tr style=\"text-align: right;\">\n",
       "      <th></th>\n",
       "      <th>att</th>\n",
       "      <th>rep</th>\n",
       "      <th>mid</th>\n",
       "      <th>fin</th>\n",
       "    </tr>\n",
       "  </thead>\n",
       "  <tbody>\n",
       "    <tr>\n",
       "      <th>202212452</th>\n",
       "      <td>65</td>\n",
       "      <td>55</td>\n",
       "      <td>15</td>\n",
       "      <td>45</td>\n",
       "    </tr>\n",
       "    <tr>\n",
       "      <th>202212387</th>\n",
       "      <td>70</td>\n",
       "      <td>70</td>\n",
       "      <td>40</td>\n",
       "      <td>35</td>\n",
       "    </tr>\n",
       "    <tr>\n",
       "      <th>202212354</th>\n",
       "      <td>90</td>\n",
       "      <td>90</td>\n",
       "      <td>80</td>\n",
       "      <td>90</td>\n",
       "    </tr>\n",
       "  </tbody>\n",
       "</table>\n",
       "</div>"
      ],
      "text/plain": [
       "           att  rep  mid  fin\n",
       "202212452   65   55   15   45\n",
       "202212387   70   70   40   35\n",
       "202212354   90   90   80   90"
      ]
     },
     "execution_count": 100,
     "metadata": {},
     "output_type": "execute_result"
    }
   ],
   "source": [
    "df[-3:]"
   ]
  },
  {
   "cell_type": "markdown",
   "id": "627ed0a4-79b4-4f10-af52-6e440663abe6",
   "metadata": {},
   "source": [
    "#### 맨 끝에서 3명의 점수중 마지막 2개의 칼럼만 출력하고 싶다."
   ]
  },
  {
   "cell_type": "code",
   "execution_count": 101,
   "id": "64ab66cf-de32-4625-aa91-6c87a0562d87",
   "metadata": {},
   "outputs": [
    {
     "data": {
      "text/plain": [
       "array([[15, 45],\n",
       "       [40, 35],\n",
       "       [80, 90]], dtype=int64)"
      ]
     },
     "execution_count": 101,
     "metadata": {},
     "output_type": "execute_result"
    }
   ],
   "source": [
    "test_ndarray[-3:,-2:]"
   ]
  },
  {
   "cell_type": "code",
   "execution_count": 102,
   "id": "6ccaa0e4-8774-4849-9513-e7065600dcb1",
   "metadata": {},
   "outputs": [
    {
     "data": {
      "text/html": [
       "<div>\n",
       "<style scoped>\n",
       "    .dataframe tbody tr th:only-of-type {\n",
       "        vertical-align: middle;\n",
       "    }\n",
       "\n",
       "    .dataframe tbody tr th {\n",
       "        vertical-align: top;\n",
       "    }\n",
       "\n",
       "    .dataframe thead th {\n",
       "        text-align: right;\n",
       "    }\n",
       "</style>\n",
       "<table border=\"1\" class=\"dataframe\">\n",
       "  <thead>\n",
       "    <tr style=\"text-align: right;\">\n",
       "      <th></th>\n",
       "      <th>mid</th>\n",
       "      <th>fin</th>\n",
       "    </tr>\n",
       "  </thead>\n",
       "  <tbody>\n",
       "    <tr>\n",
       "      <th>202212452</th>\n",
       "      <td>15</td>\n",
       "      <td>45</td>\n",
       "    </tr>\n",
       "    <tr>\n",
       "      <th>202212387</th>\n",
       "      <td>40</td>\n",
       "      <td>35</td>\n",
       "    </tr>\n",
       "    <tr>\n",
       "      <th>202212354</th>\n",
       "      <td>80</td>\n",
       "      <td>90</td>\n",
       "    </tr>\n",
       "  </tbody>\n",
       "</table>\n",
       "</div>"
      ],
      "text/plain": [
       "           mid  fin\n",
       "202212452   15   45\n",
       "202212387   40   35\n",
       "202212354   80   90"
      ]
     },
     "execution_count": 102,
     "metadata": {},
     "output_type": "execute_result"
    }
   ],
   "source": [
    "df.iloc[-3:,-2:]"
   ]
  },
  {
   "cell_type": "markdown",
   "id": "3c95dd18-2fb5-462a-b6ab-439a35d6ab6c",
   "metadata": {},
   "source": [
    "`### 궁극: 해싱과 인덱싱을 모두 지원하는 아주 우수한 자료형을 만들고 싶음`"
   ]
  },
  {
   "cell_type": "markdown",
   "id": "81a13b52-1e36-48b1-aaa8-16d9a1d56e59",
   "metadata": {},
   "source": [
    "#### 예제1: 중간고사 점수가 20점 이상이면서 동시에 출석점수가 60점미만인 학생들의 기말고사 점수를 출력"
   ]
  },
  {
   "cell_type": "code",
   "execution_count": 105,
   "id": "7a1207fc-4e22-4403-a0f4-dc461eba5f45",
   "metadata": {},
   "outputs": [
    {
     "data": {
      "text/plain": [
       "202212488    80\n",
       "202212318    25\n",
       "202212367    30\n",
       "202212482    10\n",
       "Name: fin, dtype: int32"
      ]
     },
     "execution_count": 105,
     "metadata": {},
     "output_type": "execute_result"
    }
   ],
   "source": [
    "# 방법1) 데이터 베이스 스타일\n",
    "df.query(\"mid >= 20 and att <60\")['fin']"
   ]
  },
  {
   "cell_type": "code",
   "execution_count": 124,
   "id": "7922c55e-96a4-469d-854f-cbb0f893f973",
   "metadata": {},
   "outputs": [
    {
     "data": {
      "text/plain": [
       "array([80, 25, 30, 10], dtype=int64)"
      ]
     },
     "execution_count": 124,
     "metadata": {},
     "output_type": "execute_result"
    }
   ],
   "source": [
    "# 방법2) 넘파이일때 \n",
    "test_ndarray[(test_ndarray[:,1]< 60) & (test_ndarray[:,3]>=20)][:,4]"
   ]
  },
  {
   "cell_type": "code",
   "execution_count": 125,
   "id": "1a4586bf-5611-4858-b5e9-53b951375d3c",
   "metadata": {},
   "outputs": [
    {
     "data": {
      "text/plain": [
       "array([80, 25, 30, 10], dtype=int64)"
      ]
     },
     "execution_count": 125,
     "metadata": {},
     "output_type": "execute_result"
    }
   ],
   "source": [
    "test_ndarray[(test_ndarray[:,1] < 60) & (test_ndarray[:,3] >= 20),-1] #근데 가독성 떨어짐"
   ]
  },
  {
   "cell_type": "markdown",
   "id": "185db8f3-ef64-45b6-b4e7-211a34152cbd",
   "metadata": {},
   "source": [
    "### 1단계: 판다스 사용 방법\n",
    "1) 데이터 프레임 선언\n",
    "  * 딕셔너리에서 만들거나\n",
    "  * 2차원 넘파이 배열을 만듦\n",
    "  \n",
    "2) 열의 이름 부여\n",
    "  * 딕셔너리를 통하여 만들면 딕셔너리의 key가 자동으로 열의 이름이 됨\n",
    "  * pd.DataFrame()의 옵션에 columns를 이용\n",
    "  * df.columns에 원하는 열이름을 덮어씀\n",
    "  \n",
    "2) 행의 이름 부여\n",
    "  * 중첩 dict이면 nested dic의 key가 알아서 행의 이름으로 된다.\n",
    "  * pd.DataFrame()의 index 옵션 이용\n",
    "  * df.index에 덮어씌움\n",
    "  * df.set_index() 를 이용하여 덮어씌운다"
   ]
  },
  {
   "cell_type": "code",
   "execution_count": 126,
   "id": "a4913b66-d9e5-4e8d-9c23-ca23590da639",
   "metadata": {},
   "outputs": [
    {
     "data": {
      "text/html": [
       "<div>\n",
       "<style scoped>\n",
       "    .dataframe tbody tr th:only-of-type {\n",
       "        vertical-align: middle;\n",
       "    }\n",
       "\n",
       "    .dataframe tbody tr th {\n",
       "        vertical-align: top;\n",
       "    }\n",
       "\n",
       "    .dataframe thead th {\n",
       "        text-align: right;\n",
       "    }\n",
       "</style>\n",
       "<table border=\"1\" class=\"dataframe\">\n",
       "  <thead>\n",
       "    <tr style=\"text-align: right;\">\n",
       "      <th></th>\n",
       "      <th>att</th>\n",
       "      <th>mid</th>\n",
       "    </tr>\n",
       "  </thead>\n",
       "  <tbody>\n",
       "    <tr>\n",
       "      <th>0</th>\n",
       "      <td>30</td>\n",
       "      <td>50</td>\n",
       "    </tr>\n",
       "    <tr>\n",
       "      <th>1</th>\n",
       "      <td>40</td>\n",
       "      <td>60</td>\n",
       "    </tr>\n",
       "    <tr>\n",
       "      <th>2</th>\n",
       "      <td>50</td>\n",
       "      <td>70</td>\n",
       "    </tr>\n",
       "  </tbody>\n",
       "</table>\n",
       "</div>"
      ],
      "text/plain": [
       "   att  mid\n",
       "0   30   50\n",
       "1   40   60\n",
       "2   50   70"
      ]
     },
     "execution_count": 126,
     "metadata": {},
     "output_type": "execute_result"
    }
   ],
   "source": [
    "# 1. 데이터 프레임 생성-딕셔너리 방법으로\n",
    "pd.DataFrame({'att':[30,40,50],'mid':[50,60,70]})"
   ]
  },
  {
   "cell_type": "code",
   "execution_count": 127,
   "id": "f129b2cb-108e-4c34-9504-c7c19d26b004",
   "metadata": {},
   "outputs": [
    {
     "data": {
      "text/html": [
       "<div>\n",
       "<style scoped>\n",
       "    .dataframe tbody tr th:only-of-type {\n",
       "        vertical-align: middle;\n",
       "    }\n",
       "\n",
       "    .dataframe tbody tr th {\n",
       "        vertical-align: top;\n",
       "    }\n",
       "\n",
       "    .dataframe thead th {\n",
       "        text-align: right;\n",
       "    }\n",
       "</style>\n",
       "<table border=\"1\" class=\"dataframe\">\n",
       "  <thead>\n",
       "    <tr style=\"text-align: right;\">\n",
       "      <th></th>\n",
       "      <th>att</th>\n",
       "      <th>mid</th>\n",
       "    </tr>\n",
       "  </thead>\n",
       "  <tbody>\n",
       "    <tr>\n",
       "      <th>0</th>\n",
       "      <td>30</td>\n",
       "      <td>50</td>\n",
       "    </tr>\n",
       "    <tr>\n",
       "      <th>1</th>\n",
       "      <td>40</td>\n",
       "      <td>60</td>\n",
       "    </tr>\n",
       "    <tr>\n",
       "      <th>2</th>\n",
       "      <td>50</td>\n",
       "      <td>70</td>\n",
       "    </tr>\n",
       "  </tbody>\n",
       "</table>\n",
       "</div>"
      ],
      "text/plain": [
       "   att  mid\n",
       "0   30   50\n",
       "1   40   60\n",
       "2   50   70"
      ]
     },
     "execution_count": 127,
     "metadata": {},
     "output_type": "execute_result"
    }
   ],
   "source": [
    "pd.DataFrame({'att':(30,40,50),'mid':(50,60,70)})"
   ]
  },
  {
   "cell_type": "code",
   "execution_count": 128,
   "id": "c01f44bb-38f2-4a94-8c65-6fd0415d4125",
   "metadata": {},
   "outputs": [
    {
     "data": {
      "text/html": [
       "<div>\n",
       "<style scoped>\n",
       "    .dataframe tbody tr th:only-of-type {\n",
       "        vertical-align: middle;\n",
       "    }\n",
       "\n",
       "    .dataframe tbody tr th {\n",
       "        vertical-align: top;\n",
       "    }\n",
       "\n",
       "    .dataframe thead th {\n",
       "        text-align: right;\n",
       "    }\n",
       "</style>\n",
       "<table border=\"1\" class=\"dataframe\">\n",
       "  <thead>\n",
       "    <tr style=\"text-align: right;\">\n",
       "      <th></th>\n",
       "      <th>att</th>\n",
       "      <th>mid</th>\n",
       "    </tr>\n",
       "  </thead>\n",
       "  <tbody>\n",
       "    <tr>\n",
       "      <th>0</th>\n",
       "      <td>30</td>\n",
       "      <td>50</td>\n",
       "    </tr>\n",
       "    <tr>\n",
       "      <th>1</th>\n",
       "      <td>40</td>\n",
       "      <td>60</td>\n",
       "    </tr>\n",
       "    <tr>\n",
       "      <th>2</th>\n",
       "      <td>50</td>\n",
       "      <td>70</td>\n",
       "    </tr>\n",
       "  </tbody>\n",
       "</table>\n",
       "</div>"
      ],
      "text/plain": [
       "   att  mid\n",
       "0   30   50\n",
       "1   40   60\n",
       "2   50   70"
      ]
     },
     "execution_count": 128,
     "metadata": {},
     "output_type": "execute_result"
    }
   ],
   "source": [
    "pd.DataFrame({'att':np.array([30,40,50]),'mid':np.array([50,60,70])})"
   ]
  },
  {
   "cell_type": "code",
   "execution_count": 130,
   "id": "a974b552-9c27-44b7-8781-f3eb54fd0576",
   "metadata": {},
   "outputs": [
    {
     "data": {
      "text/html": [
       "<div>\n",
       "<style scoped>\n",
       "    .dataframe tbody tr th:only-of-type {\n",
       "        vertical-align: middle;\n",
       "    }\n",
       "\n",
       "    .dataframe tbody tr th {\n",
       "        vertical-align: top;\n",
       "    }\n",
       "\n",
       "    .dataframe thead th {\n",
       "        text-align: right;\n",
       "    }\n",
       "</style>\n",
       "<table border=\"1\" class=\"dataframe\">\n",
       "  <thead>\n",
       "    <tr style=\"text-align: right;\">\n",
       "      <th></th>\n",
       "      <th>0</th>\n",
       "      <th>1</th>\n",
       "      <th>2</th>\n",
       "    </tr>\n",
       "  </thead>\n",
       "  <tbody>\n",
       "    <tr>\n",
       "      <th>0</th>\n",
       "      <td>0</td>\n",
       "      <td>1</td>\n",
       "      <td>2</td>\n",
       "    </tr>\n",
       "    <tr>\n",
       "      <th>1</th>\n",
       "      <td>3</td>\n",
       "      <td>4</td>\n",
       "      <td>5</td>\n",
       "    </tr>\n",
       "  </tbody>\n",
       "</table>\n",
       "</div>"
      ],
      "text/plain": [
       "   0  1  2\n",
       "0  0  1  2\n",
       "1  3  4  5"
      ]
     },
     "execution_count": 130,
     "metadata": {},
     "output_type": "execute_result"
    }
   ],
   "source": [
    "# 1. 데이터 프레임 만들기- 넘파이 배열로\n",
    "pd.DataFrame(np.arange(2*3).reshape(2,3))"
   ]
  },
  {
   "cell_type": "code",
   "execution_count": 131,
   "id": "9ce91a5d-6503-48e4-847a-c10d6f41aee9",
   "metadata": {},
   "outputs": [
    {
     "data": {
      "text/html": [
       "<div>\n",
       "<style scoped>\n",
       "    .dataframe tbody tr th:only-of-type {\n",
       "        vertical-align: middle;\n",
       "    }\n",
       "\n",
       "    .dataframe tbody tr th {\n",
       "        vertical-align: top;\n",
       "    }\n",
       "\n",
       "    .dataframe thead th {\n",
       "        text-align: right;\n",
       "    }\n",
       "</style>\n",
       "<table border=\"1\" class=\"dataframe\">\n",
       "  <thead>\n",
       "    <tr style=\"text-align: right;\">\n",
       "      <th></th>\n",
       "      <th>att</th>\n",
       "      <th>mid</th>\n",
       "    </tr>\n",
       "  </thead>\n",
       "  <tbody>\n",
       "    <tr>\n",
       "      <th>0</th>\n",
       "      <td>30</td>\n",
       "      <td>50</td>\n",
       "    </tr>\n",
       "    <tr>\n",
       "      <th>1</th>\n",
       "      <td>40</td>\n",
       "      <td>60</td>\n",
       "    </tr>\n",
       "    <tr>\n",
       "      <th>2</th>\n",
       "      <td>50</td>\n",
       "      <td>70</td>\n",
       "    </tr>\n",
       "  </tbody>\n",
       "</table>\n",
       "</div>"
      ],
      "text/plain": [
       "   att  mid\n",
       "0   30   50\n",
       "1   40   60\n",
       "2   50   70"
      ]
     },
     "execution_count": 131,
     "metadata": {},
     "output_type": "execute_result"
    }
   ],
   "source": [
    "# 2. 열의 이름 부여-딕셔너리를 통하여 만들면 딕셔너리의 key가 자동으로 열의 이름이 됨\n",
    "pd.DataFrame({'att':np.array([30,40,50]),'mid':np.array([50,60,70])})"
   ]
  },
  {
   "cell_type": "code",
   "execution_count": 132,
   "id": "7a18f90e-9477-428d-89ae-ed93e878061d",
   "metadata": {},
   "outputs": [
    {
     "data": {
      "text/html": [
       "<div>\n",
       "<style scoped>\n",
       "    .dataframe tbody tr th:only-of-type {\n",
       "        vertical-align: middle;\n",
       "    }\n",
       "\n",
       "    .dataframe tbody tr th {\n",
       "        vertical-align: top;\n",
       "    }\n",
       "\n",
       "    .dataframe thead th {\n",
       "        text-align: right;\n",
       "    }\n",
       "</style>\n",
       "<table border=\"1\" class=\"dataframe\">\n",
       "  <thead>\n",
       "    <tr style=\"text-align: right;\">\n",
       "      <th></th>\n",
       "      <th>X1</th>\n",
       "      <th>X2</th>\n",
       "      <th>X3</th>\n",
       "    </tr>\n",
       "  </thead>\n",
       "  <tbody>\n",
       "    <tr>\n",
       "      <th>0</th>\n",
       "      <td>0</td>\n",
       "      <td>1</td>\n",
       "      <td>2</td>\n",
       "    </tr>\n",
       "    <tr>\n",
       "      <th>1</th>\n",
       "      <td>3</td>\n",
       "      <td>4</td>\n",
       "      <td>5</td>\n",
       "    </tr>\n",
       "  </tbody>\n",
       "</table>\n",
       "</div>"
      ],
      "text/plain": [
       "   X1  X2  X3\n",
       "0   0   1   2\n",
       "1   3   4   5"
      ]
     },
     "execution_count": 132,
     "metadata": {},
     "output_type": "execute_result"
    }
   ],
   "source": [
    "#2. 열의 이름 부여-pd.DataFrame()의 옵션에 columns를 이용\n",
    "pd.DataFrame(np.arange(2*3).reshape(2,3),columns=['X1','X2','X3'])"
   ]
  },
  {
   "cell_type": "code",
   "execution_count": 133,
   "id": "84755341-211c-431b-99d9-b7f56d1e373e",
   "metadata": {},
   "outputs": [
    {
     "data": {
      "text/html": [
       "<div>\n",
       "<style scoped>\n",
       "    .dataframe tbody tr th:only-of-type {\n",
       "        vertical-align: middle;\n",
       "    }\n",
       "\n",
       "    .dataframe tbody tr th {\n",
       "        vertical-align: top;\n",
       "    }\n",
       "\n",
       "    .dataframe thead th {\n",
       "        text-align: right;\n",
       "    }\n",
       "</style>\n",
       "<table border=\"1\" class=\"dataframe\">\n",
       "  <thead>\n",
       "    <tr style=\"text-align: right;\">\n",
       "      <th></th>\n",
       "      <th>X1</th>\n",
       "      <th>X2</th>\n",
       "      <th>X3</th>\n",
       "    </tr>\n",
       "  </thead>\n",
       "  <tbody>\n",
       "    <tr>\n",
       "      <th>0</th>\n",
       "      <td>0</td>\n",
       "      <td>1</td>\n",
       "      <td>2</td>\n",
       "    </tr>\n",
       "    <tr>\n",
       "      <th>1</th>\n",
       "      <td>3</td>\n",
       "      <td>4</td>\n",
       "      <td>5</td>\n",
       "    </tr>\n",
       "  </tbody>\n",
       "</table>\n",
       "</div>"
      ],
      "text/plain": [
       "   X1  X2  X3\n",
       "0   0   1   2\n",
       "1   3   4   5"
      ]
     },
     "execution_count": 133,
     "metadata": {},
     "output_type": "execute_result"
    }
   ],
   "source": [
    "#2. 열의 이름 부여- df.columns에 원하는 열이름을 덮어씀\n",
    "df=pd.DataFrame(np.arange(2*3).reshape(2,3))\n",
    "df.columns = ['X1','X2','X3']\n",
    "df"
   ]
  },
  {
   "cell_type": "code",
   "execution_count": 134,
   "id": "51c1f5d2-359d-4b86-9944-0803d7916666",
   "metadata": {},
   "outputs": [
    {
     "data": {
      "text/html": [
       "<div>\n",
       "<style scoped>\n",
       "    .dataframe tbody tr th:only-of-type {\n",
       "        vertical-align: middle;\n",
       "    }\n",
       "\n",
       "    .dataframe tbody tr th {\n",
       "        vertical-align: top;\n",
       "    }\n",
       "\n",
       "    .dataframe thead th {\n",
       "        text-align: right;\n",
       "    }\n",
       "</style>\n",
       "<table border=\"1\" class=\"dataframe\">\n",
       "  <thead>\n",
       "    <tr style=\"text-align: right;\">\n",
       "      <th></th>\n",
       "      <th>att</th>\n",
       "      <th>mid</th>\n",
       "    </tr>\n",
       "  </thead>\n",
       "  <tbody>\n",
       "    <tr>\n",
       "      <th>guebin</th>\n",
       "      <td>30</td>\n",
       "      <td>5</td>\n",
       "    </tr>\n",
       "    <tr>\n",
       "      <th>iu</th>\n",
       "      <td>40</td>\n",
       "      <td>45</td>\n",
       "    </tr>\n",
       "    <tr>\n",
       "      <th>hynn</th>\n",
       "      <td>50</td>\n",
       "      <td>90</td>\n",
       "    </tr>\n",
       "  </tbody>\n",
       "</table>\n",
       "</div>"
      ],
      "text/plain": [
       "        att  mid\n",
       "guebin   30    5\n",
       "iu       40   45\n",
       "hynn     50   90"
      ]
     },
     "execution_count": 134,
     "metadata": {},
     "output_type": "execute_result"
    }
   ],
   "source": [
    "#3. 행의 이름 부여- 중첩 dict이면 nested dic의 key가 알아서 행의 이름으로 됨\n",
    "pd.DataFrame({'att':{'guebin':30, 'iu':40, 'hynn':50} , 'mid':{'guebin':5, 'iu':45, 'hynn':90}})"
   ]
  },
  {
   "cell_type": "code",
   "execution_count": 135,
   "id": "2f49a157-5e0d-4e6d-8333-af42bd9ad331",
   "metadata": {},
   "outputs": [
    {
     "data": {
      "text/html": [
       "<div>\n",
       "<style scoped>\n",
       "    .dataframe tbody tr th:only-of-type {\n",
       "        vertical-align: middle;\n",
       "    }\n",
       "\n",
       "    .dataframe tbody tr th {\n",
       "        vertical-align: top;\n",
       "    }\n",
       "\n",
       "    .dataframe thead th {\n",
       "        text-align: right;\n",
       "    }\n",
       "</style>\n",
       "<table border=\"1\" class=\"dataframe\">\n",
       "  <thead>\n",
       "    <tr style=\"text-align: right;\">\n",
       "      <th></th>\n",
       "      <th>att</th>\n",
       "      <th>mid</th>\n",
       "    </tr>\n",
       "  </thead>\n",
       "  <tbody>\n",
       "    <tr>\n",
       "      <th>guebin</th>\n",
       "      <td>30</td>\n",
       "      <td>5</td>\n",
       "    </tr>\n",
       "    <tr>\n",
       "      <th>iu</th>\n",
       "      <td>40</td>\n",
       "      <td>45</td>\n",
       "    </tr>\n",
       "    <tr>\n",
       "      <th>hynn</th>\n",
       "      <td>50</td>\n",
       "      <td>90</td>\n",
       "    </tr>\n",
       "  </tbody>\n",
       "</table>\n",
       "</div>"
      ],
      "text/plain": [
       "        att  mid\n",
       "guebin   30    5\n",
       "iu       40   45\n",
       "hynn     50   90"
      ]
     },
     "execution_count": 135,
     "metadata": {},
     "output_type": "execute_result"
    }
   ],
   "source": [
    "#3. 행의 이름 부여- pd.DataFrame()의 index 옵션 이용\n",
    "pd.DataFrame({'att':[30,40,50] , 'mid':[5,45,90]}, index=['guebin','iu','hynn'])"
   ]
  },
  {
   "cell_type": "code",
   "execution_count": 137,
   "id": "458d6f91-31cc-47bd-a1af-684a81a04672",
   "metadata": {},
   "outputs": [
    {
     "data": {
      "text/html": [
       "<div>\n",
       "<style scoped>\n",
       "    .dataframe tbody tr th:only-of-type {\n",
       "        vertical-align: middle;\n",
       "    }\n",
       "\n",
       "    .dataframe tbody tr th {\n",
       "        vertical-align: top;\n",
       "    }\n",
       "\n",
       "    .dataframe thead th {\n",
       "        text-align: right;\n",
       "    }\n",
       "</style>\n",
       "<table border=\"1\" class=\"dataframe\">\n",
       "  <thead>\n",
       "    <tr style=\"text-align: right;\">\n",
       "      <th></th>\n",
       "      <th>att</th>\n",
       "      <th>mid</th>\n",
       "    </tr>\n",
       "  </thead>\n",
       "  <tbody>\n",
       "    <tr>\n",
       "      <th>guebin</th>\n",
       "      <td>30</td>\n",
       "      <td>5</td>\n",
       "    </tr>\n",
       "    <tr>\n",
       "      <th>iu</th>\n",
       "      <td>40</td>\n",
       "      <td>45</td>\n",
       "    </tr>\n",
       "    <tr>\n",
       "      <th>hynn</th>\n",
       "      <td>50</td>\n",
       "      <td>90</td>\n",
       "    </tr>\n",
       "  </tbody>\n",
       "</table>\n",
       "</div>"
      ],
      "text/plain": [
       "        att  mid\n",
       "guebin   30    5\n",
       "iu       40   45\n",
       "hynn     50   90"
      ]
     },
     "execution_count": 137,
     "metadata": {},
     "output_type": "execute_result"
    }
   ],
   "source": [
    "#3. 행의 이름 부여- df.index에 덮어씌움\n",
    "df=pd.DataFrame({'att':[30,40,50] , 'mid':[5,45,90]})\n",
    "df.index = pd.Index(['guebin','iu','hynn'])\n",
    "df"
   ]
  },
  {
   "cell_type": "code",
   "execution_count": 142,
   "id": "fa692aa6-2dec-42f4-a569-0fc4f21f02bd",
   "metadata": {},
   "outputs": [],
   "source": [
    "# 자료형, len, shape, for문의 반복변수"
   ]
  },
  {
   "cell_type": "code",
   "execution_count": 138,
   "id": "2d14ff55-f690-4801-ab23-a3aac724cdc8",
   "metadata": {},
   "outputs": [
    {
     "data": {
      "text/plain": [
       "3"
      ]
     },
     "execution_count": 138,
     "metadata": {},
     "output_type": "execute_result"
    }
   ],
   "source": [
    "len(df) # row의 갯수 "
   ]
  },
  {
   "cell_type": "code",
   "execution_count": 139,
   "id": "53b3d43d-641d-457f-94ce-09fd466c7463",
   "metadata": {},
   "outputs": [
    {
     "data": {
      "text/plain": [
       "(3, 2)"
      ]
     },
     "execution_count": 139,
     "metadata": {},
     "output_type": "execute_result"
    }
   ],
   "source": [
    "df.shape "
   ]
  },
  {
   "cell_type": "code",
   "execution_count": 141,
   "id": "5df94774-2d14-4fcc-8ac3-83078febfe3a",
   "metadata": {},
   "outputs": [
    {
     "name": "stdout",
     "output_type": "stream",
     "text": [
      "att\n",
      "mid\n"
     ]
    }
   ],
   "source": [
    "# for문의 반복변수\n",
    "for k in df:\n",
    "    print(k)"
   ]
  },
  {
   "cell_type": "markdown",
   "id": "b032e313-eb8f-46de-84ed-eebf5032324f",
   "metadata": {},
   "source": [
    "*  2차원 ndarray가 pd.DataFrame에 대응한다면 1차원 ndarray는 pd.Series에 대응한다."
   ]
  },
  {
   "cell_type": "code",
   "execution_count": 143,
   "id": "481d681c-ace9-4318-a963-14efee3ac9ef",
   "metadata": {},
   "outputs": [
    {
     "data": {
      "text/plain": [
       "0    0.106173\n",
       "1    0.723759\n",
       "2    0.217990\n",
       "dtype: float64"
      ]
     },
     "execution_count": 143,
     "metadata": {},
     "output_type": "execute_result"
    }
   ],
   "source": [
    "a=pd.Series(np.random.randn(3))\n",
    "a"
   ]
  },
  {
   "cell_type": "code",
   "execution_count": 144,
   "id": "5a55068f-69a0-4b2c-994d-d41ced5bcf95",
   "metadata": {},
   "outputs": [
    {
     "data": {
      "text/plain": [
       "(3,)"
      ]
     },
     "execution_count": 144,
     "metadata": {},
     "output_type": "execute_result"
    }
   ],
   "source": [
    "a.shape"
   ]
  },
  {
   "cell_type": "markdown",
   "id": "a90d74e8-0d3e-4202-9e18-b01648ce48a7",
   "metadata": {},
   "source": [
    "### 판다스 공부 2단계\n",
    "* 데이터\n",
    "* 열선택\n",
    "* 행선택"
   ]
  },
  {
   "cell_type": "code",
   "execution_count": 102,
   "id": "0bdd7a9b-542b-4fc8-a98a-dca72f5627bc",
   "metadata": {},
   "outputs": [
    {
     "data": {
      "text/html": [
       "<div>\n",
       "<style scoped>\n",
       "    .dataframe tbody tr th:only-of-type {\n",
       "        vertical-align: middle;\n",
       "    }\n",
       "\n",
       "    .dataframe tbody tr th {\n",
       "        vertical-align: top;\n",
       "    }\n",
       "\n",
       "    .dataframe thead th {\n",
       "        text-align: right;\n",
       "    }\n",
       "</style>\n",
       "<table border=\"1\" class=\"dataframe\">\n",
       "  <thead>\n",
       "    <tr style=\"text-align: right;\">\n",
       "      <th></th>\n",
       "      <th>att</th>\n",
       "      <th>rep</th>\n",
       "      <th>mid</th>\n",
       "      <th>fin</th>\n",
       "    </tr>\n",
       "  </thead>\n",
       "  <tbody>\n",
       "    <tr>\n",
       "      <th>202212436</th>\n",
       "      <td>55</td>\n",
       "      <td>85</td>\n",
       "      <td>75</td>\n",
       "      <td>80</td>\n",
       "    </tr>\n",
       "    <tr>\n",
       "      <th>202212487</th>\n",
       "      <td>75</td>\n",
       "      <td>50</td>\n",
       "      <td>25</td>\n",
       "      <td>5</td>\n",
       "    </tr>\n",
       "    <tr>\n",
       "      <th>202212413</th>\n",
       "      <td>60</td>\n",
       "      <td>40</td>\n",
       "      <td>80</td>\n",
       "      <td>75</td>\n",
       "    </tr>\n",
       "  </tbody>\n",
       "</table>\n",
       "</div>"
      ],
      "text/plain": [
       "           att  rep  mid  fin\n",
       "202212436   55   85   75   80\n",
       "202212487   75   50   25    5\n",
       "202212413   60   40   80   75"
      ]
     },
     "execution_count": 102,
     "metadata": {},
     "output_type": "execute_result"
    }
   ],
   "source": [
    "#데이터\n",
    "np.random.seed(43025)\n",
    "att = np.random.choice(np.arange(10,21)*5,20)\n",
    "rep = np.random.choice(np.arange(5,21)*5,20)\n",
    "mid = np.random.choice(np.arange(0,21)*5,20)\n",
    "fin = np.random.choice(np.arange(0,21)*5,20)\n",
    "key = ['202212' + str(s) for s in np.random.choice (np.arange(300,501), 20, replace=False) ]\n",
    "\n",
    "df=pd.DataFrame({'att':att,'rep':rep,'mid':mid,'fin':fin},index=key)\n",
    "df.head(3)"
   ]
  },
  {
   "cell_type": "markdown",
   "id": "5ee7faa2-32d1-4e80-bf6c-9a779125092f",
   "metadata": {},
   "source": [
    "#### 하나의 열을 선택"
   ]
  },
  {
   "cell_type": "code",
   "execution_count": 103,
   "id": "162a95ab-54a2-4b0b-b7ad-316fdbc1a799",
   "metadata": {},
   "outputs": [
    {
     "data": {
      "text/plain": [
       "202212436    55\n",
       "202212487    75\n",
       "202212413    60\n",
       "Name: att, dtype: int32"
      ]
     },
     "execution_count": 103,
     "metadata": {},
     "output_type": "execute_result"
    }
   ],
   "source": [
    "#방법 1\n",
    "df.att.head(3) #이거 타입은 시리즈임. 데이터 프레임에서 1차원이 시리즈니까"
   ]
  },
  {
   "cell_type": "code",
   "execution_count": 104,
   "id": "86e3fab6-34bd-49a8-a28a-a03b106c046e",
   "metadata": {},
   "outputs": [
    {
     "data": {
      "text/plain": [
       "202212436    55\n",
       "202212487    75\n",
       "202212413    60\n",
       "Name: att, dtype: int32"
      ]
     },
     "execution_count": 104,
     "metadata": {},
     "output_type": "execute_result"
    }
   ],
   "source": [
    "#방법 2: dict스타일\n",
    "df['att'].head(3) #시리즈"
   ]
  },
  {
   "cell_type": "code",
   "execution_count": 105,
   "id": "49502e75-2acf-4b8e-81c4-7761a8565351",
   "metadata": {},
   "outputs": [
    {
     "data": {
      "text/html": [
       "<div>\n",
       "<style scoped>\n",
       "    .dataframe tbody tr th:only-of-type {\n",
       "        vertical-align: middle;\n",
       "    }\n",
       "\n",
       "    .dataframe tbody tr th {\n",
       "        vertical-align: top;\n",
       "    }\n",
       "\n",
       "    .dataframe thead th {\n",
       "        text-align: right;\n",
       "    }\n",
       "</style>\n",
       "<table border=\"1\" class=\"dataframe\">\n",
       "  <thead>\n",
       "    <tr style=\"text-align: right;\">\n",
       "      <th></th>\n",
       "      <th>att</th>\n",
       "    </tr>\n",
       "  </thead>\n",
       "  <tbody>\n",
       "    <tr>\n",
       "      <th>202212436</th>\n",
       "      <td>55</td>\n",
       "    </tr>\n",
       "    <tr>\n",
       "      <th>202212487</th>\n",
       "      <td>75</td>\n",
       "    </tr>\n",
       "    <tr>\n",
       "      <th>202212413</th>\n",
       "      <td>60</td>\n",
       "    </tr>\n",
       "  </tbody>\n",
       "</table>\n",
       "</div>"
      ],
      "text/plain": [
       "           att\n",
       "202212436   55\n",
       "202212487   75\n",
       "202212413   60"
      ]
     },
     "execution_count": 105,
     "metadata": {},
     "output_type": "execute_result"
    }
   ],
   "source": [
    "# 방법 3:  dict스타일\n",
    "df[['att']].head(3) #데이터 프레임"
   ]
  },
  {
   "cell_type": "code",
   "execution_count": 106,
   "id": "3f17358f-5dc0-4b1e-88ba-c687fc6e3a7c",
   "metadata": {},
   "outputs": [
    {
     "data": {
      "text/plain": [
       "202212436    55\n",
       "202212487    75\n",
       "202212413    60\n",
       "Name: att, dtype: int32"
      ]
     },
     "execution_count": 106,
     "metadata": {},
     "output_type": "execute_result"
    }
   ],
   "source": [
    "# 방법 4: ndarray스타일\n",
    "df.iloc[:,0].head(3) #시리즈"
   ]
  },
  {
   "cell_type": "code",
   "execution_count": 107,
   "id": "dac3c609-d9fa-467b-a0f8-bd0448262ac4",
   "metadata": {},
   "outputs": [
    {
     "data": {
      "text/html": [
       "<div>\n",
       "<style scoped>\n",
       "    .dataframe tbody tr th:only-of-type {\n",
       "        vertical-align: middle;\n",
       "    }\n",
       "\n",
       "    .dataframe tbody tr th {\n",
       "        vertical-align: top;\n",
       "    }\n",
       "\n",
       "    .dataframe thead th {\n",
       "        text-align: right;\n",
       "    }\n",
       "</style>\n",
       "<table border=\"1\" class=\"dataframe\">\n",
       "  <thead>\n",
       "    <tr style=\"text-align: right;\">\n",
       "      <th></th>\n",
       "      <th>att</th>\n",
       "    </tr>\n",
       "  </thead>\n",
       "  <tbody>\n",
       "    <tr>\n",
       "      <th>202212436</th>\n",
       "      <td>55</td>\n",
       "    </tr>\n",
       "    <tr>\n",
       "      <th>202212487</th>\n",
       "      <td>75</td>\n",
       "    </tr>\n",
       "    <tr>\n",
       "      <th>202212413</th>\n",
       "      <td>60</td>\n",
       "    </tr>\n",
       "  </tbody>\n",
       "</table>\n",
       "</div>"
      ],
      "text/plain": [
       "           att\n",
       "202212436   55\n",
       "202212487   75\n",
       "202212413   60"
      ]
     },
     "execution_count": 107,
     "metadata": {},
     "output_type": "execute_result"
    }
   ],
   "source": [
    "# 방법 5: ndarray스타일\n",
    "df.iloc[:,[0]].head(3) #데이터프레임"
   ]
  },
  {
   "cell_type": "code",
   "execution_count": 108,
   "id": "4f82e676-ff48-4503-8492-db86ae003e7f",
   "metadata": {},
   "outputs": [
    {
     "data": {
      "text/plain": [
       "202212436    55\n",
       "202212487    75\n",
       "202212413    60\n",
       "Name: att, dtype: int32"
      ]
     },
     "execution_count": 108,
     "metadata": {},
     "output_type": "execute_result"
    }
   ],
   "source": [
    "# 방법 6: ndarray 스타일과 dict 스타일의 혼합\n",
    "df.loc[:,'att'].head(3)"
   ]
  },
  {
   "cell_type": "code",
   "execution_count": 109,
   "id": "47a99c1f-5946-44eb-b96a-dd9d7eb42b68",
   "metadata": {},
   "outputs": [
    {
     "data": {
      "text/html": [
       "<div>\n",
       "<style scoped>\n",
       "    .dataframe tbody tr th:only-of-type {\n",
       "        vertical-align: middle;\n",
       "    }\n",
       "\n",
       "    .dataframe tbody tr th {\n",
       "        vertical-align: top;\n",
       "    }\n",
       "\n",
       "    .dataframe thead th {\n",
       "        text-align: right;\n",
       "    }\n",
       "</style>\n",
       "<table border=\"1\" class=\"dataframe\">\n",
       "  <thead>\n",
       "    <tr style=\"text-align: right;\">\n",
       "      <th></th>\n",
       "      <th>att</th>\n",
       "    </tr>\n",
       "  </thead>\n",
       "  <tbody>\n",
       "    <tr>\n",
       "      <th>202212436</th>\n",
       "      <td>55</td>\n",
       "    </tr>\n",
       "    <tr>\n",
       "      <th>202212487</th>\n",
       "      <td>75</td>\n",
       "    </tr>\n",
       "    <tr>\n",
       "      <th>202212413</th>\n",
       "      <td>60</td>\n",
       "    </tr>\n",
       "  </tbody>\n",
       "</table>\n",
       "</div>"
      ],
      "text/plain": [
       "           att\n",
       "202212436   55\n",
       "202212487   75\n",
       "202212413   60"
      ]
     },
     "execution_count": 109,
     "metadata": {},
     "output_type": "execute_result"
    }
   ],
   "source": [
    "# 방법 7: ndarray 스타일과 dict 스타일의 혼합\n",
    "df.loc[:,['att']].head(3)"
   ]
  },
  {
   "cell_type": "code",
   "execution_count": 110,
   "id": "49763aa5-01a3-4791-9be5-5e2f2406bbc8",
   "metadata": {},
   "outputs": [
    {
     "data": {
      "text/html": [
       "<div>\n",
       "<style scoped>\n",
       "    .dataframe tbody tr th:only-of-type {\n",
       "        vertical-align: middle;\n",
       "    }\n",
       "\n",
       "    .dataframe tbody tr th {\n",
       "        vertical-align: top;\n",
       "    }\n",
       "\n",
       "    .dataframe thead th {\n",
       "        text-align: right;\n",
       "    }\n",
       "</style>\n",
       "<table border=\"1\" class=\"dataframe\">\n",
       "  <thead>\n",
       "    <tr style=\"text-align: right;\">\n",
       "      <th></th>\n",
       "      <th>att</th>\n",
       "    </tr>\n",
       "  </thead>\n",
       "  <tbody>\n",
       "    <tr>\n",
       "      <th>202212436</th>\n",
       "      <td>55</td>\n",
       "    </tr>\n",
       "    <tr>\n",
       "      <th>202212487</th>\n",
       "      <td>75</td>\n",
       "    </tr>\n",
       "    <tr>\n",
       "      <th>202212413</th>\n",
       "      <td>60</td>\n",
       "    </tr>\n",
       "  </tbody>\n",
       "</table>\n",
       "</div>"
      ],
      "text/plain": [
       "           att\n",
       "202212436   55\n",
       "202212487   75\n",
       "202212413   60"
      ]
     },
     "execution_count": 110,
     "metadata": {},
     "output_type": "execute_result"
    }
   ],
   "source": [
    "# 방법 8: nparray 스타일 + bool 인덱싱\n",
    "df.iloc[:,[True,False,False,False]].head(3)"
   ]
  },
  {
   "cell_type": "code",
   "execution_count": 111,
   "id": "9cd4ca87-62e9-4d91-a58e-4abcaf2a7064",
   "metadata": {},
   "outputs": [
    {
     "data": {
      "text/html": [
       "<div>\n",
       "<style scoped>\n",
       "    .dataframe tbody tr th:only-of-type {\n",
       "        vertical-align: middle;\n",
       "    }\n",
       "\n",
       "    .dataframe tbody tr th {\n",
       "        vertical-align: top;\n",
       "    }\n",
       "\n",
       "    .dataframe thead th {\n",
       "        text-align: right;\n",
       "    }\n",
       "</style>\n",
       "<table border=\"1\" class=\"dataframe\">\n",
       "  <thead>\n",
       "    <tr style=\"text-align: right;\">\n",
       "      <th></th>\n",
       "      <th>att</th>\n",
       "    </tr>\n",
       "  </thead>\n",
       "  <tbody>\n",
       "    <tr>\n",
       "      <th>202212436</th>\n",
       "      <td>55</td>\n",
       "    </tr>\n",
       "    <tr>\n",
       "      <th>202212487</th>\n",
       "      <td>75</td>\n",
       "    </tr>\n",
       "    <tr>\n",
       "      <th>202212413</th>\n",
       "      <td>60</td>\n",
       "    </tr>\n",
       "  </tbody>\n",
       "</table>\n",
       "</div>"
      ],
      "text/plain": [
       "           att\n",
       "202212436   55\n",
       "202212487   75\n",
       "202212413   60"
      ]
     },
     "execution_count": 111,
     "metadata": {},
     "output_type": "execute_result"
    }
   ],
   "source": [
    "# 방법 9: ndarray와 dict의 홉합형 + bool 인덱싱\n",
    "df.loc[:,[True,False,False,False]].head(3)"
   ]
  },
  {
   "cell_type": "markdown",
   "id": "ee186412-efec-461d-93bd-bb2b6bd31b70",
   "metadata": {},
   "source": [
    "* 여러개의 열을 선택"
   ]
  },
  {
   "cell_type": "code",
   "execution_count": 112,
   "id": "644a68a3-def4-4cee-8b3a-1d77edde63ec",
   "metadata": {},
   "outputs": [
    {
     "data": {
      "text/html": [
       "<div>\n",
       "<style scoped>\n",
       "    .dataframe tbody tr th:only-of-type {\n",
       "        vertical-align: middle;\n",
       "    }\n",
       "\n",
       "    .dataframe tbody tr th {\n",
       "        vertical-align: top;\n",
       "    }\n",
       "\n",
       "    .dataframe thead th {\n",
       "        text-align: right;\n",
       "    }\n",
       "</style>\n",
       "<table border=\"1\" class=\"dataframe\">\n",
       "  <thead>\n",
       "    <tr style=\"text-align: right;\">\n",
       "      <th></th>\n",
       "      <th>att</th>\n",
       "      <th>fin</th>\n",
       "    </tr>\n",
       "  </thead>\n",
       "  <tbody>\n",
       "    <tr>\n",
       "      <th>202212436</th>\n",
       "      <td>55</td>\n",
       "      <td>80</td>\n",
       "    </tr>\n",
       "    <tr>\n",
       "      <th>202212487</th>\n",
       "      <td>75</td>\n",
       "      <td>5</td>\n",
       "    </tr>\n",
       "    <tr>\n",
       "      <th>202212413</th>\n",
       "      <td>60</td>\n",
       "      <td>75</td>\n",
       "    </tr>\n",
       "  </tbody>\n",
       "</table>\n",
       "</div>"
      ],
      "text/plain": [
       "           att  fin\n",
       "202212436   55   80\n",
       "202212487   75    5\n",
       "202212413   60   75"
      ]
     },
     "execution_count": 112,
     "metadata": {},
     "output_type": "execute_result"
    }
   ],
   "source": [
    "# 방법1: dict 스타일\n",
    "df[['att','fin']].head(3)"
   ]
  },
  {
   "cell_type": "code",
   "execution_count": 113,
   "id": "75d09844-68cc-42e2-bd48-ba67da4af2d1",
   "metadata": {},
   "outputs": [
    {
     "data": {
      "text/html": [
       "<div>\n",
       "<style scoped>\n",
       "    .dataframe tbody tr th:only-of-type {\n",
       "        vertical-align: middle;\n",
       "    }\n",
       "\n",
       "    .dataframe tbody tr th {\n",
       "        vertical-align: top;\n",
       "    }\n",
       "\n",
       "    .dataframe thead th {\n",
       "        text-align: right;\n",
       "    }\n",
       "</style>\n",
       "<table border=\"1\" class=\"dataframe\">\n",
       "  <thead>\n",
       "    <tr style=\"text-align: right;\">\n",
       "      <th></th>\n",
       "      <th>att</th>\n",
       "      <th>rep</th>\n",
       "    </tr>\n",
       "  </thead>\n",
       "  <tbody>\n",
       "    <tr>\n",
       "      <th>202212436</th>\n",
       "      <td>55</td>\n",
       "      <td>85</td>\n",
       "    </tr>\n",
       "    <tr>\n",
       "      <th>202212487</th>\n",
       "      <td>75</td>\n",
       "      <td>50</td>\n",
       "    </tr>\n",
       "    <tr>\n",
       "      <th>202212413</th>\n",
       "      <td>60</td>\n",
       "      <td>40</td>\n",
       "    </tr>\n",
       "  </tbody>\n",
       "</table>\n",
       "</div>"
      ],
      "text/plain": [
       "           att  rep\n",
       "202212436   55   85\n",
       "202212487   75   50\n",
       "202212413   60   40"
      ]
     },
     "execution_count": 113,
     "metadata": {},
     "output_type": "execute_result"
    }
   ],
   "source": [
    "# 방법 2: ndarray 스타일 (정수리스트로 인덱싱, 슬라이싱, 스트라이딩)\n",
    "df.iloc[:,[0,1]].head(3) # 정수의 리스트를 전달하여 컬럼추출"
   ]
  },
  {
   "cell_type": "code",
   "execution_count": 114,
   "id": "6743f7d9-5365-4c6d-a6c1-56533216acb0",
   "metadata": {},
   "outputs": [
    {
     "data": {
      "text/html": [
       "<div>\n",
       "<style scoped>\n",
       "    .dataframe tbody tr th:only-of-type {\n",
       "        vertical-align: middle;\n",
       "    }\n",
       "\n",
       "    .dataframe tbody tr th {\n",
       "        vertical-align: top;\n",
       "    }\n",
       "\n",
       "    .dataframe thead th {\n",
       "        text-align: right;\n",
       "    }\n",
       "</style>\n",
       "<table border=\"1\" class=\"dataframe\">\n",
       "  <thead>\n",
       "    <tr style=\"text-align: right;\">\n",
       "      <th></th>\n",
       "      <th>att</th>\n",
       "      <th>rep</th>\n",
       "    </tr>\n",
       "  </thead>\n",
       "  <tbody>\n",
       "    <tr>\n",
       "      <th>202212436</th>\n",
       "      <td>55</td>\n",
       "      <td>85</td>\n",
       "    </tr>\n",
       "    <tr>\n",
       "      <th>202212487</th>\n",
       "      <td>75</td>\n",
       "      <td>50</td>\n",
       "    </tr>\n",
       "    <tr>\n",
       "      <th>202212413</th>\n",
       "      <td>60</td>\n",
       "      <td>40</td>\n",
       "    </tr>\n",
       "  </tbody>\n",
       "</table>\n",
       "</div>"
      ],
      "text/plain": [
       "           att  rep\n",
       "202212436   55   85\n",
       "202212487   75   50\n",
       "202212413   60   40"
      ]
     },
     "execution_count": 114,
     "metadata": {},
     "output_type": "execute_result"
    }
   ],
   "source": [
    "df.iloc[:,range(2)].head(3)"
   ]
  },
  {
   "cell_type": "code",
   "execution_count": 115,
   "id": "34ace481-5a3f-4807-88c0-9ed2b2722556",
   "metadata": {},
   "outputs": [
    {
     "data": {
      "text/html": [
       "<div>\n",
       "<style scoped>\n",
       "    .dataframe tbody tr th:only-of-type {\n",
       "        vertical-align: middle;\n",
       "    }\n",
       "\n",
       "    .dataframe tbody tr th {\n",
       "        vertical-align: top;\n",
       "    }\n",
       "\n",
       "    .dataframe thead th {\n",
       "        text-align: right;\n",
       "    }\n",
       "</style>\n",
       "<table border=\"1\" class=\"dataframe\">\n",
       "  <thead>\n",
       "    <tr style=\"text-align: right;\">\n",
       "      <th></th>\n",
       "      <th>att</th>\n",
       "      <th>rep</th>\n",
       "    </tr>\n",
       "  </thead>\n",
       "  <tbody>\n",
       "    <tr>\n",
       "      <th>202212436</th>\n",
       "      <td>55</td>\n",
       "      <td>85</td>\n",
       "    </tr>\n",
       "    <tr>\n",
       "      <th>202212487</th>\n",
       "      <td>75</td>\n",
       "      <td>50</td>\n",
       "    </tr>\n",
       "    <tr>\n",
       "      <th>202212413</th>\n",
       "      <td>60</td>\n",
       "      <td>40</td>\n",
       "    </tr>\n",
       "  </tbody>\n",
       "</table>\n",
       "</div>"
      ],
      "text/plain": [
       "           att  rep\n",
       "202212436   55   85\n",
       "202212487   75   50\n",
       "202212413   60   40"
      ]
     },
     "execution_count": 115,
     "metadata": {},
     "output_type": "execute_result"
    }
   ],
   "source": [
    "df.iloc[:,:2].head(3)  # 슬라이싱 , 0,1,2에서 마지막 2는 제외되고 0,1에 해당하는 것만 추출"
   ]
  },
  {
   "cell_type": "code",
   "execution_count": 116,
   "id": "4a5f37ac-b0ba-4399-87c1-36063359c26b",
   "metadata": {},
   "outputs": [
    {
     "data": {
      "text/html": [
       "<div>\n",
       "<style scoped>\n",
       "    .dataframe tbody tr th:only-of-type {\n",
       "        vertical-align: middle;\n",
       "    }\n",
       "\n",
       "    .dataframe tbody tr th {\n",
       "        vertical-align: top;\n",
       "    }\n",
       "\n",
       "    .dataframe thead th {\n",
       "        text-align: right;\n",
       "    }\n",
       "</style>\n",
       "<table border=\"1\" class=\"dataframe\">\n",
       "  <thead>\n",
       "    <tr style=\"text-align: right;\">\n",
       "      <th></th>\n",
       "      <th>att</th>\n",
       "      <th>mid</th>\n",
       "    </tr>\n",
       "  </thead>\n",
       "  <tbody>\n",
       "    <tr>\n",
       "      <th>202212436</th>\n",
       "      <td>55</td>\n",
       "      <td>75</td>\n",
       "    </tr>\n",
       "    <tr>\n",
       "      <th>202212487</th>\n",
       "      <td>75</td>\n",
       "      <td>25</td>\n",
       "    </tr>\n",
       "    <tr>\n",
       "      <th>202212413</th>\n",
       "      <td>60</td>\n",
       "      <td>80</td>\n",
       "    </tr>\n",
       "  </tbody>\n",
       "</table>\n",
       "</div>"
      ],
      "text/plain": [
       "           att  mid\n",
       "202212436   55   75\n",
       "202212487   75   25\n",
       "202212413   60   80"
      ]
     },
     "execution_count": 116,
     "metadata": {},
     "output_type": "execute_result"
    }
   ],
   "source": [
    "df.iloc[:,::2].head(3)  # 스트라이딩, 좀 투머치긴 하다,,"
   ]
  },
  {
   "cell_type": "code",
   "execution_count": 117,
   "id": "8d75f498-48e3-406b-966f-65d17ddb4f44",
   "metadata": {},
   "outputs": [
    {
     "data": {
      "text/html": [
       "<div>\n",
       "<style scoped>\n",
       "    .dataframe tbody tr th:only-of-type {\n",
       "        vertical-align: middle;\n",
       "    }\n",
       "\n",
       "    .dataframe tbody tr th {\n",
       "        vertical-align: top;\n",
       "    }\n",
       "\n",
       "    .dataframe thead th {\n",
       "        text-align: right;\n",
       "    }\n",
       "</style>\n",
       "<table border=\"1\" class=\"dataframe\">\n",
       "  <thead>\n",
       "    <tr style=\"text-align: right;\">\n",
       "      <th></th>\n",
       "      <th>att</th>\n",
       "      <th>mid</th>\n",
       "    </tr>\n",
       "  </thead>\n",
       "  <tbody>\n",
       "    <tr>\n",
       "      <th>202212436</th>\n",
       "      <td>55</td>\n",
       "      <td>75</td>\n",
       "    </tr>\n",
       "    <tr>\n",
       "      <th>202212487</th>\n",
       "      <td>75</td>\n",
       "      <td>25</td>\n",
       "    </tr>\n",
       "    <tr>\n",
       "      <th>202212413</th>\n",
       "      <td>60</td>\n",
       "      <td>80</td>\n",
       "    </tr>\n",
       "  </tbody>\n",
       "</table>\n",
       "</div>"
      ],
      "text/plain": [
       "           att  mid\n",
       "202212436   55   75\n",
       "202212487   75   25\n",
       "202212413   60   80"
      ]
     },
     "execution_count": 117,
     "metadata": {},
     "output_type": "execute_result"
    }
   ],
   "source": [
    "# 방법3: ndarray 와 dict의 혼합형\n",
    "df.loc[:,['att','mid']].head(3) "
   ]
  },
  {
   "cell_type": "code",
   "execution_count": 118,
   "id": "e3f76c53-20e6-46b9-92fd-8c38d701cc31",
   "metadata": {},
   "outputs": [
    {
     "data": {
      "text/html": [
       "<div>\n",
       "<style scoped>\n",
       "    .dataframe tbody tr th:only-of-type {\n",
       "        vertical-align: middle;\n",
       "    }\n",
       "\n",
       "    .dataframe tbody tr th {\n",
       "        vertical-align: top;\n",
       "    }\n",
       "\n",
       "    .dataframe thead th {\n",
       "        text-align: right;\n",
       "    }\n",
       "</style>\n",
       "<table border=\"1\" class=\"dataframe\">\n",
       "  <thead>\n",
       "    <tr style=\"text-align: right;\">\n",
       "      <th></th>\n",
       "      <th>att</th>\n",
       "      <th>rep</th>\n",
       "      <th>mid</th>\n",
       "    </tr>\n",
       "  </thead>\n",
       "  <tbody>\n",
       "    <tr>\n",
       "      <th>202212436</th>\n",
       "      <td>55</td>\n",
       "      <td>85</td>\n",
       "      <td>75</td>\n",
       "    </tr>\n",
       "    <tr>\n",
       "      <th>202212487</th>\n",
       "      <td>75</td>\n",
       "      <td>50</td>\n",
       "      <td>25</td>\n",
       "    </tr>\n",
       "    <tr>\n",
       "      <th>202212413</th>\n",
       "      <td>60</td>\n",
       "      <td>40</td>\n",
       "      <td>80</td>\n",
       "    </tr>\n",
       "  </tbody>\n",
       "</table>\n",
       "</div>"
      ],
      "text/plain": [
       "           att  rep  mid\n",
       "202212436   55   85   75\n",
       "202212487   75   50   25\n",
       "202212413   60   40   80"
      ]
     },
     "execution_count": 118,
     "metadata": {},
     "output_type": "execute_result"
    }
   ],
   "source": [
    "df.loc[:,'att':'mid'].head(3) # 마지막의 mid도 포함된다. "
   ]
  },
  {
   "cell_type": "code",
   "execution_count": 119,
   "id": "c8ae235d-c6a5-48b4-84da-7de439bd976b",
   "metadata": {},
   "outputs": [],
   "source": [
    "# 방법4: bool을 이용한 인덱싱"
   ]
  },
  {
   "cell_type": "markdown",
   "id": "0e925430-442e-4c90-a3da-a0dd88920bd4",
   "metadata": {},
   "source": [
    "#### 첫번째 행을 선택"
   ]
  },
  {
   "cell_type": "code",
   "execution_count": 120,
   "id": "1b34917c-af15-4004-955e-e7e542c94d38",
   "metadata": {},
   "outputs": [
    {
     "data": {
      "text/plain": [
       "att    55\n",
       "rep    85\n",
       "mid    75\n",
       "fin    80\n",
       "Name: 202212436, dtype: int32"
      ]
     },
     "execution_count": 120,
     "metadata": {},
     "output_type": "execute_result"
    }
   ],
   "source": [
    "# 방법 1\n",
    "df.iloc[0]"
   ]
  },
  {
   "cell_type": "code",
   "execution_count": 121,
   "id": "3add4b36-0cbd-48ec-83e3-e1b0a12a97a8",
   "metadata": {},
   "outputs": [
    {
     "data": {
      "text/html": [
       "<div>\n",
       "<style scoped>\n",
       "    .dataframe tbody tr th:only-of-type {\n",
       "        vertical-align: middle;\n",
       "    }\n",
       "\n",
       "    .dataframe tbody tr th {\n",
       "        vertical-align: top;\n",
       "    }\n",
       "\n",
       "    .dataframe thead th {\n",
       "        text-align: right;\n",
       "    }\n",
       "</style>\n",
       "<table border=\"1\" class=\"dataframe\">\n",
       "  <thead>\n",
       "    <tr style=\"text-align: right;\">\n",
       "      <th></th>\n",
       "      <th>att</th>\n",
       "      <th>rep</th>\n",
       "      <th>mid</th>\n",
       "      <th>fin</th>\n",
       "    </tr>\n",
       "  </thead>\n",
       "  <tbody>\n",
       "    <tr>\n",
       "      <th>202212436</th>\n",
       "      <td>55</td>\n",
       "      <td>85</td>\n",
       "      <td>75</td>\n",
       "      <td>80</td>\n",
       "    </tr>\n",
       "  </tbody>\n",
       "</table>\n",
       "</div>"
      ],
      "text/plain": [
       "           att  rep  mid  fin\n",
       "202212436   55   85   75   80"
      ]
     },
     "execution_count": 121,
     "metadata": {},
     "output_type": "execute_result"
    }
   ],
   "source": [
    "# 방법 2\n",
    "df.iloc[[0]]"
   ]
  },
  {
   "cell_type": "code",
   "execution_count": 122,
   "id": "02a43b8b-01ee-4799-9f74-84529d0390f7",
   "metadata": {},
   "outputs": [
    {
     "data": {
      "text/plain": [
       "att    55\n",
       "rep    85\n",
       "mid    75\n",
       "fin    80\n",
       "Name: 202212436, dtype: int32"
      ]
     },
     "execution_count": 122,
     "metadata": {},
     "output_type": "execute_result"
    }
   ],
   "source": [
    "# 방법 3\n",
    "df.iloc[0,:]"
   ]
  },
  {
   "cell_type": "code",
   "execution_count": 123,
   "id": "3ca30499-a800-464b-bf9e-c7afa3a09ad1",
   "metadata": {},
   "outputs": [
    {
     "data": {
      "text/html": [
       "<div>\n",
       "<style scoped>\n",
       "    .dataframe tbody tr th:only-of-type {\n",
       "        vertical-align: middle;\n",
       "    }\n",
       "\n",
       "    .dataframe tbody tr th {\n",
       "        vertical-align: top;\n",
       "    }\n",
       "\n",
       "    .dataframe thead th {\n",
       "        text-align: right;\n",
       "    }\n",
       "</style>\n",
       "<table border=\"1\" class=\"dataframe\">\n",
       "  <thead>\n",
       "    <tr style=\"text-align: right;\">\n",
       "      <th></th>\n",
       "      <th>att</th>\n",
       "      <th>rep</th>\n",
       "      <th>mid</th>\n",
       "      <th>fin</th>\n",
       "    </tr>\n",
       "  </thead>\n",
       "  <tbody>\n",
       "    <tr>\n",
       "      <th>202212436</th>\n",
       "      <td>55</td>\n",
       "      <td>85</td>\n",
       "      <td>75</td>\n",
       "      <td>80</td>\n",
       "    </tr>\n",
       "  </tbody>\n",
       "</table>\n",
       "</div>"
      ],
      "text/plain": [
       "           att  rep  mid  fin\n",
       "202212436   55   85   75   80"
      ]
     },
     "execution_count": 123,
     "metadata": {},
     "output_type": "execute_result"
    }
   ],
   "source": [
    "# 방법 4\n",
    "df.iloc[[0],:]"
   ]
  },
  {
   "cell_type": "code",
   "execution_count": 124,
   "id": "7c910b3e-b0fb-423d-95da-f13831668a79",
   "metadata": {},
   "outputs": [
    {
     "data": {
      "text/plain": [
       "att    55\n",
       "rep    85\n",
       "mid    75\n",
       "fin    80\n",
       "Name: 202212436, dtype: int32"
      ]
     },
     "execution_count": 124,
     "metadata": {},
     "output_type": "execute_result"
    }
   ],
   "source": [
    "# 방법 5\n",
    "df.loc['202212436']"
   ]
  },
  {
   "cell_type": "code",
   "execution_count": 125,
   "id": "4ae4b977-57bb-486f-9a51-2f48aa78859c",
   "metadata": {},
   "outputs": [
    {
     "data": {
      "text/html": [
       "<div>\n",
       "<style scoped>\n",
       "    .dataframe tbody tr th:only-of-type {\n",
       "        vertical-align: middle;\n",
       "    }\n",
       "\n",
       "    .dataframe tbody tr th {\n",
       "        vertical-align: top;\n",
       "    }\n",
       "\n",
       "    .dataframe thead th {\n",
       "        text-align: right;\n",
       "    }\n",
       "</style>\n",
       "<table border=\"1\" class=\"dataframe\">\n",
       "  <thead>\n",
       "    <tr style=\"text-align: right;\">\n",
       "      <th></th>\n",
       "      <th>att</th>\n",
       "      <th>rep</th>\n",
       "      <th>mid</th>\n",
       "      <th>fin</th>\n",
       "    </tr>\n",
       "  </thead>\n",
       "  <tbody>\n",
       "    <tr>\n",
       "      <th>202212436</th>\n",
       "      <td>55</td>\n",
       "      <td>85</td>\n",
       "      <td>75</td>\n",
       "      <td>80</td>\n",
       "    </tr>\n",
       "  </tbody>\n",
       "</table>\n",
       "</div>"
      ],
      "text/plain": [
       "           att  rep  mid  fin\n",
       "202212436   55   85   75   80"
      ]
     },
     "execution_count": 125,
     "metadata": {},
     "output_type": "execute_result"
    }
   ],
   "source": [
    "# 방법6\n",
    "df.loc[['202212436']]"
   ]
  },
  {
   "cell_type": "markdown",
   "id": "ea97838e-5f83-4c96-ae87-c1114da4a3cf",
   "metadata": {},
   "source": [
    "#### 여러개의 행 선택"
   ]
  },
  {
   "cell_type": "code",
   "execution_count": 126,
   "id": "0c972f0e-75e0-404b-98f8-c94baed9d249",
   "metadata": {},
   "outputs": [
    {
     "data": {
      "text/html": [
       "<div>\n",
       "<style scoped>\n",
       "    .dataframe tbody tr th:only-of-type {\n",
       "        vertical-align: middle;\n",
       "    }\n",
       "\n",
       "    .dataframe tbody tr th {\n",
       "        vertical-align: top;\n",
       "    }\n",
       "\n",
       "    .dataframe thead th {\n",
       "        text-align: right;\n",
       "    }\n",
       "</style>\n",
       "<table border=\"1\" class=\"dataframe\">\n",
       "  <thead>\n",
       "    <tr style=\"text-align: right;\">\n",
       "      <th></th>\n",
       "      <th>att</th>\n",
       "      <th>rep</th>\n",
       "      <th>mid</th>\n",
       "      <th>fin</th>\n",
       "    </tr>\n",
       "  </thead>\n",
       "  <tbody>\n",
       "    <tr>\n",
       "      <th>202212436</th>\n",
       "      <td>55</td>\n",
       "      <td>85</td>\n",
       "      <td>75</td>\n",
       "      <td>80</td>\n",
       "    </tr>\n",
       "    <tr>\n",
       "      <th>202212413</th>\n",
       "      <td>60</td>\n",
       "      <td>40</td>\n",
       "      <td>80</td>\n",
       "      <td>75</td>\n",
       "    </tr>\n",
       "  </tbody>\n",
       "</table>\n",
       "</div>"
      ],
      "text/plain": [
       "           att  rep  mid  fin\n",
       "202212436   55   85   75   80\n",
       "202212413   60   40   80   75"
      ]
     },
     "execution_count": 126,
     "metadata": {},
     "output_type": "execute_result"
    }
   ],
   "source": [
    "# 방법1\n",
    "df.iloc[[0,2]] "
   ]
  },
  {
   "cell_type": "code",
   "execution_count": 127,
   "id": "7ecc71a2-e874-42ac-b355-a931f1a6e475",
   "metadata": {},
   "outputs": [
    {
     "data": {
      "text/html": [
       "<div>\n",
       "<style scoped>\n",
       "    .dataframe tbody tr th:only-of-type {\n",
       "        vertical-align: middle;\n",
       "    }\n",
       "\n",
       "    .dataframe tbody tr th {\n",
       "        vertical-align: top;\n",
       "    }\n",
       "\n",
       "    .dataframe thead th {\n",
       "        text-align: right;\n",
       "    }\n",
       "</style>\n",
       "<table border=\"1\" class=\"dataframe\">\n",
       "  <thead>\n",
       "    <tr style=\"text-align: right;\">\n",
       "      <th></th>\n",
       "      <th>att</th>\n",
       "      <th>rep</th>\n",
       "      <th>mid</th>\n",
       "      <th>fin</th>\n",
       "    </tr>\n",
       "  </thead>\n",
       "  <tbody>\n",
       "    <tr>\n",
       "      <th>202212436</th>\n",
       "      <td>55</td>\n",
       "      <td>85</td>\n",
       "      <td>75</td>\n",
       "      <td>80</td>\n",
       "    </tr>\n",
       "    <tr>\n",
       "      <th>202212413</th>\n",
       "      <td>60</td>\n",
       "      <td>40</td>\n",
       "      <td>80</td>\n",
       "      <td>75</td>\n",
       "    </tr>\n",
       "  </tbody>\n",
       "</table>\n",
       "</div>"
      ],
      "text/plain": [
       "           att  rep  mid  fin\n",
       "202212436   55   85   75   80\n",
       "202212413   60   40   80   75"
      ]
     },
     "execution_count": 127,
     "metadata": {},
     "output_type": "execute_result"
    }
   ],
   "source": [
    "df.iloc[[0,2],:] "
   ]
  },
  {
   "cell_type": "code",
   "execution_count": 128,
   "id": "57b9d843-254c-4e85-8d4a-2a95f15bcaa0",
   "metadata": {},
   "outputs": [
    {
     "data": {
      "text/html": [
       "<div>\n",
       "<style scoped>\n",
       "    .dataframe tbody tr th:only-of-type {\n",
       "        vertical-align: middle;\n",
       "    }\n",
       "\n",
       "    .dataframe tbody tr th {\n",
       "        vertical-align: top;\n",
       "    }\n",
       "\n",
       "    .dataframe thead th {\n",
       "        text-align: right;\n",
       "    }\n",
       "</style>\n",
       "<table border=\"1\" class=\"dataframe\">\n",
       "  <thead>\n",
       "    <tr style=\"text-align: right;\">\n",
       "      <th></th>\n",
       "      <th>att</th>\n",
       "      <th>rep</th>\n",
       "      <th>mid</th>\n",
       "      <th>fin</th>\n",
       "    </tr>\n",
       "  </thead>\n",
       "  <tbody>\n",
       "    <tr>\n",
       "      <th>202212436</th>\n",
       "      <td>55</td>\n",
       "      <td>85</td>\n",
       "      <td>75</td>\n",
       "      <td>80</td>\n",
       "    </tr>\n",
       "    <tr>\n",
       "      <th>202212413</th>\n",
       "      <td>60</td>\n",
       "      <td>40</td>\n",
       "      <td>80</td>\n",
       "      <td>75</td>\n",
       "    </tr>\n",
       "  </tbody>\n",
       "</table>\n",
       "</div>"
      ],
      "text/plain": [
       "           att  rep  mid  fin\n",
       "202212436   55   85   75   80\n",
       "202212413   60   40   80   75"
      ]
     },
     "execution_count": 128,
     "metadata": {},
     "output_type": "execute_result"
    }
   ],
   "source": [
    "# 방법2\n",
    "df.loc[['202212436','202212413']] "
   ]
  },
  {
   "cell_type": "code",
   "execution_count": 129,
   "id": "c3c3d945-8986-445c-bf24-a14e5d2acb86",
   "metadata": {},
   "outputs": [
    {
     "data": {
      "text/html": [
       "<div>\n",
       "<style scoped>\n",
       "    .dataframe tbody tr th:only-of-type {\n",
       "        vertical-align: middle;\n",
       "    }\n",
       "\n",
       "    .dataframe tbody tr th {\n",
       "        vertical-align: top;\n",
       "    }\n",
       "\n",
       "    .dataframe thead th {\n",
       "        text-align: right;\n",
       "    }\n",
       "</style>\n",
       "<table border=\"1\" class=\"dataframe\">\n",
       "  <thead>\n",
       "    <tr style=\"text-align: right;\">\n",
       "      <th></th>\n",
       "      <th>att</th>\n",
       "      <th>rep</th>\n",
       "      <th>mid</th>\n",
       "      <th>fin</th>\n",
       "    </tr>\n",
       "  </thead>\n",
       "  <tbody>\n",
       "    <tr>\n",
       "      <th>202212436</th>\n",
       "      <td>55</td>\n",
       "      <td>85</td>\n",
       "      <td>75</td>\n",
       "      <td>80</td>\n",
       "    </tr>\n",
       "    <tr>\n",
       "      <th>202212413</th>\n",
       "      <td>60</td>\n",
       "      <td>40</td>\n",
       "      <td>80</td>\n",
       "      <td>75</td>\n",
       "    </tr>\n",
       "  </tbody>\n",
       "</table>\n",
       "</div>"
      ],
      "text/plain": [
       "           att  rep  mid  fin\n",
       "202212436   55   85   75   80\n",
       "202212413   60   40   80   75"
      ]
     },
     "execution_count": 129,
     "metadata": {},
     "output_type": "execute_result"
    }
   ],
   "source": [
    "df.loc[['202212436','202212413'],:] "
   ]
  },
  {
   "cell_type": "code",
   "execution_count": 130,
   "id": "8cc6b637-7aab-4b88-95e2-2aea04fd3dd6",
   "metadata": {},
   "outputs": [
    {
     "data": {
      "text/html": [
       "<div>\n",
       "<style scoped>\n",
       "    .dataframe tbody tr th:only-of-type {\n",
       "        vertical-align: middle;\n",
       "    }\n",
       "\n",
       "    .dataframe tbody tr th {\n",
       "        vertical-align: top;\n",
       "    }\n",
       "\n",
       "    .dataframe thead th {\n",
       "        text-align: right;\n",
       "    }\n",
       "</style>\n",
       "<table border=\"1\" class=\"dataframe\">\n",
       "  <thead>\n",
       "    <tr style=\"text-align: right;\">\n",
       "      <th></th>\n",
       "      <th>att</th>\n",
       "      <th>rep</th>\n",
       "      <th>mid</th>\n",
       "      <th>fin</th>\n",
       "    </tr>\n",
       "  </thead>\n",
       "  <tbody>\n",
       "    <tr>\n",
       "      <th>202212436</th>\n",
       "      <td>55</td>\n",
       "      <td>85</td>\n",
       "      <td>75</td>\n",
       "      <td>80</td>\n",
       "    </tr>\n",
       "    <tr>\n",
       "      <th>202212434</th>\n",
       "      <td>100</td>\n",
       "      <td>40</td>\n",
       "      <td>75</td>\n",
       "      <td>95</td>\n",
       "    </tr>\n",
       "    <tr>\n",
       "      <th>202212485</th>\n",
       "      <td>50</td>\n",
       "      <td>65</td>\n",
       "      <td>0</td>\n",
       "      <td>60</td>\n",
       "    </tr>\n",
       "  </tbody>\n",
       "</table>\n",
       "</div>"
      ],
      "text/plain": [
       "           att  rep  mid  fin\n",
       "202212436   55   85   75   80\n",
       "202212434  100   40   75   95\n",
       "202212485   50   65    0   60"
      ]
     },
     "execution_count": 130,
     "metadata": {},
     "output_type": "execute_result"
    }
   ],
   "source": [
    "# 그외 방법\n",
    "df.iloc[::7] # 스트라이딩"
   ]
  },
  {
   "cell_type": "code",
   "execution_count": 131,
   "id": "f4be3a6f-7e47-4150-ae79-052cc4bf30aa",
   "metadata": {},
   "outputs": [
    {
     "data": {
      "text/html": [
       "<div>\n",
       "<style scoped>\n",
       "    .dataframe tbody tr th:only-of-type {\n",
       "        vertical-align: middle;\n",
       "    }\n",
       "\n",
       "    .dataframe tbody tr th {\n",
       "        vertical-align: top;\n",
       "    }\n",
       "\n",
       "    .dataframe thead th {\n",
       "        text-align: right;\n",
       "    }\n",
       "</style>\n",
       "<table border=\"1\" class=\"dataframe\">\n",
       "  <thead>\n",
       "    <tr style=\"text-align: right;\">\n",
       "      <th></th>\n",
       "      <th>att</th>\n",
       "      <th>rep</th>\n",
       "      <th>mid</th>\n",
       "      <th>fin</th>\n",
       "    </tr>\n",
       "  </thead>\n",
       "  <tbody>\n",
       "    <tr>\n",
       "      <th>202212436</th>\n",
       "      <td>55</td>\n",
       "      <td>85</td>\n",
       "      <td>75</td>\n",
       "      <td>80</td>\n",
       "    </tr>\n",
       "    <tr>\n",
       "      <th>202212487</th>\n",
       "      <td>75</td>\n",
       "      <td>50</td>\n",
       "      <td>25</td>\n",
       "      <td>5</td>\n",
       "    </tr>\n",
       "    <tr>\n",
       "      <th>202212413</th>\n",
       "      <td>60</td>\n",
       "      <td>40</td>\n",
       "      <td>80</td>\n",
       "      <td>75</td>\n",
       "    </tr>\n",
       "  </tbody>\n",
       "</table>\n",
       "</div>"
      ],
      "text/plain": [
       "           att  rep  mid  fin\n",
       "202212436   55   85   75   80\n",
       "202212487   75   50   25    5\n",
       "202212413   60   40   80   75"
      ]
     },
     "execution_count": 131,
     "metadata": {},
     "output_type": "execute_result"
    }
   ],
   "source": [
    "df.iloc[:3]"
   ]
  },
  {
   "cell_type": "code",
   "execution_count": 132,
   "id": "60410193-0326-4e74-9d22-96e9989e2046",
   "metadata": {},
   "outputs": [
    {
     "data": {
      "text/html": [
       "<div>\n",
       "<style scoped>\n",
       "    .dataframe tbody tr th:only-of-type {\n",
       "        vertical-align: middle;\n",
       "    }\n",
       "\n",
       "    .dataframe tbody tr th {\n",
       "        vertical-align: top;\n",
       "    }\n",
       "\n",
       "    .dataframe thead th {\n",
       "        text-align: right;\n",
       "    }\n",
       "</style>\n",
       "<table border=\"1\" class=\"dataframe\">\n",
       "  <thead>\n",
       "    <tr style=\"text-align: right;\">\n",
       "      <th></th>\n",
       "      <th>att</th>\n",
       "      <th>rep</th>\n",
       "      <th>mid</th>\n",
       "      <th>fin</th>\n",
       "    </tr>\n",
       "  </thead>\n",
       "  <tbody>\n",
       "    <tr>\n",
       "      <th>202212436</th>\n",
       "      <td>55</td>\n",
       "      <td>85</td>\n",
       "      <td>75</td>\n",
       "      <td>80</td>\n",
       "    </tr>\n",
       "    <tr>\n",
       "      <th>202212487</th>\n",
       "      <td>75</td>\n",
       "      <td>50</td>\n",
       "      <td>25</td>\n",
       "      <td>5</td>\n",
       "    </tr>\n",
       "    <tr>\n",
       "      <th>202212413</th>\n",
       "      <td>60</td>\n",
       "      <td>40</td>\n",
       "      <td>80</td>\n",
       "      <td>75</td>\n",
       "    </tr>\n",
       "  </tbody>\n",
       "</table>\n",
       "</div>"
      ],
      "text/plain": [
       "           att  rep  mid  fin\n",
       "202212436   55   85   75   80\n",
       "202212487   75   50   25    5\n",
       "202212413   60   40   80   75"
      ]
     },
     "execution_count": 132,
     "metadata": {},
     "output_type": "execute_result"
    }
   ],
   "source": [
    "df.loc[:'202212413']"
   ]
  },
  {
   "cell_type": "markdown",
   "id": "868e18e3-3d3e-4677-bcd8-282f80574fe4",
   "metadata": {},
   "source": [
    "#### 조건문 추가"
   ]
  },
  {
   "cell_type": "code",
   "execution_count": 133,
   "id": "6750f2fa-1d1c-40e6-aebc-001fc8f9cafd",
   "metadata": {},
   "outputs": [
    {
     "data": {
      "text/html": [
       "<div>\n",
       "<style scoped>\n",
       "    .dataframe tbody tr th:only-of-type {\n",
       "        vertical-align: middle;\n",
       "    }\n",
       "\n",
       "    .dataframe tbody tr th {\n",
       "        vertical-align: top;\n",
       "    }\n",
       "\n",
       "    .dataframe thead th {\n",
       "        text-align: right;\n",
       "    }\n",
       "</style>\n",
       "<table border=\"1\" class=\"dataframe\">\n",
       "  <thead>\n",
       "    <tr style=\"text-align: right;\">\n",
       "      <th></th>\n",
       "      <th>rep</th>\n",
       "      <th>mid</th>\n",
       "      <th>fin</th>\n",
       "    </tr>\n",
       "  </thead>\n",
       "  <tbody>\n",
       "    <tr>\n",
       "      <th>202212436</th>\n",
       "      <td>85</td>\n",
       "      <td>75</td>\n",
       "      <td>80</td>\n",
       "    </tr>\n",
       "    <tr>\n",
       "      <th>202212487</th>\n",
       "      <td>50</td>\n",
       "      <td>25</td>\n",
       "      <td>5</td>\n",
       "    </tr>\n",
       "    <tr>\n",
       "      <th>202212413</th>\n",
       "      <td>40</td>\n",
       "      <td>80</td>\n",
       "      <td>75</td>\n",
       "    </tr>\n",
       "  </tbody>\n",
       "</table>\n",
       "</div>"
      ],
      "text/plain": [
       "           rep  mid  fin\n",
       "202212436   85   75   80\n",
       "202212487   50   25    5\n",
       "202212413   40   80   75"
      ]
     },
     "execution_count": 133,
     "metadata": {},
     "output_type": "execute_result"
    }
   ],
   "source": [
    "df[df.att<80].loc[:,'rep':].head(3)"
   ]
  },
  {
   "cell_type": "code",
   "execution_count": 134,
   "id": "a8447ed0-1ad8-4962-9ec1-452bc6e83fbc",
   "metadata": {},
   "outputs": [
    {
     "data": {
      "text/html": [
       "<div>\n",
       "<style scoped>\n",
       "    .dataframe tbody tr th:only-of-type {\n",
       "        vertical-align: middle;\n",
       "    }\n",
       "\n",
       "    .dataframe tbody tr th {\n",
       "        vertical-align: top;\n",
       "    }\n",
       "\n",
       "    .dataframe thead th {\n",
       "        text-align: right;\n",
       "    }\n",
       "</style>\n",
       "<table border=\"1\" class=\"dataframe\">\n",
       "  <thead>\n",
       "    <tr style=\"text-align: right;\">\n",
       "      <th></th>\n",
       "      <th>rep</th>\n",
       "      <th>mid</th>\n",
       "      <th>fin</th>\n",
       "    </tr>\n",
       "  </thead>\n",
       "  <tbody>\n",
       "    <tr>\n",
       "      <th>202212436</th>\n",
       "      <td>85</td>\n",
       "      <td>75</td>\n",
       "      <td>80</td>\n",
       "    </tr>\n",
       "    <tr>\n",
       "      <th>202212487</th>\n",
       "      <td>50</td>\n",
       "      <td>25</td>\n",
       "      <td>5</td>\n",
       "    </tr>\n",
       "    <tr>\n",
       "      <th>202212413</th>\n",
       "      <td>40</td>\n",
       "      <td>80</td>\n",
       "      <td>75</td>\n",
       "    </tr>\n",
       "  </tbody>\n",
       "</table>\n",
       "</div>"
      ],
      "text/plain": [
       "           rep  mid  fin\n",
       "202212436   85   75   80\n",
       "202212487   50   25    5\n",
       "202212413   40   80   75"
      ]
     },
     "execution_count": 134,
     "metadata": {},
     "output_type": "execute_result"
    }
   ],
   "source": [
    "df.loc[df.att<80,'rep':].head(3)"
   ]
  },
  {
   "cell_type": "code",
   "execution_count": 135,
   "id": "e9ae4c80-8dab-4942-b8a3-5c93a2c7d900",
   "metadata": {},
   "outputs": [
    {
     "data": {
      "text/html": [
       "<div>\n",
       "<style scoped>\n",
       "    .dataframe tbody tr th:only-of-type {\n",
       "        vertical-align: middle;\n",
       "    }\n",
       "\n",
       "    .dataframe tbody tr th {\n",
       "        vertical-align: top;\n",
       "    }\n",
       "\n",
       "    .dataframe thead th {\n",
       "        text-align: right;\n",
       "    }\n",
       "</style>\n",
       "<table border=\"1\" class=\"dataframe\">\n",
       "  <thead>\n",
       "    <tr style=\"text-align: right;\">\n",
       "      <th></th>\n",
       "      <th>rep</th>\n",
       "      <th>mid</th>\n",
       "      <th>fin</th>\n",
       "    </tr>\n",
       "  </thead>\n",
       "  <tbody>\n",
       "    <tr>\n",
       "      <th>202212436</th>\n",
       "      <td>85</td>\n",
       "      <td>75</td>\n",
       "      <td>80</td>\n",
       "    </tr>\n",
       "    <tr>\n",
       "      <th>202212487</th>\n",
       "      <td>50</td>\n",
       "      <td>25</td>\n",
       "      <td>5</td>\n",
       "    </tr>\n",
       "    <tr>\n",
       "      <th>202212413</th>\n",
       "      <td>40</td>\n",
       "      <td>80</td>\n",
       "      <td>75</td>\n",
       "    </tr>\n",
       "  </tbody>\n",
       "</table>\n",
       "</div>"
      ],
      "text/plain": [
       "           rep  mid  fin\n",
       "202212436   85   75   80\n",
       "202212487   50   25    5\n",
       "202212413   40   80   75"
      ]
     },
     "execution_count": 135,
     "metadata": {},
     "output_type": "execute_result"
    }
   ],
   "source": [
    "df.iloc[list(df.att<80),1:].head(3) #위에와 다르게 list()를 해줘야 하는데 아마도 df[행,렬]의 구조이기에 그런가,,?"
   ]
  },
  {
   "cell_type": "markdown",
   "id": "27deb8a0-253e-4e0e-8188-0b21ebaf7d11",
   "metadata": {},
   "source": [
    "### query"
   ]
  },
  {
   "cell_type": "code",
   "execution_count": 136,
   "id": "9c41e57d-fd9b-401a-8653-938b78a9ad8d",
   "metadata": {},
   "outputs": [
    {
     "data": {
      "text/plain": [
       "method"
      ]
     },
     "execution_count": 136,
     "metadata": {},
     "output_type": "execute_result"
    }
   ],
   "source": [
    "type(df.query)"
   ]
  },
  {
   "cell_type": "code",
   "execution_count": 137,
   "id": "f912b018-c6b7-4be8-8801-fa5a602c5ba8",
   "metadata": {},
   "outputs": [
    {
     "data": {
      "text/html": [
       "<div>\n",
       "<style scoped>\n",
       "    .dataframe tbody tr th:only-of-type {\n",
       "        vertical-align: middle;\n",
       "    }\n",
       "\n",
       "    .dataframe tbody tr th {\n",
       "        vertical-align: top;\n",
       "    }\n",
       "\n",
       "    .dataframe thead th {\n",
       "        text-align: right;\n",
       "    }\n",
       "</style>\n",
       "<table border=\"1\" class=\"dataframe\">\n",
       "  <thead>\n",
       "    <tr style=\"text-align: right;\">\n",
       "      <th></th>\n",
       "      <th>att</th>\n",
       "      <th>rep</th>\n",
       "      <th>mid</th>\n",
       "      <th>fin</th>\n",
       "    </tr>\n",
       "  </thead>\n",
       "  <tbody>\n",
       "    <tr>\n",
       "      <th>202212438</th>\n",
       "      <td>90</td>\n",
       "      <td>60</td>\n",
       "      <td>95</td>\n",
       "      <td>80</td>\n",
       "    </tr>\n",
       "  </tbody>\n",
       "</table>\n",
       "</div>"
      ],
      "text/plain": [
       "           att  rep  mid  fin\n",
       "202212438   90   60   95   80"
      ]
     },
     "execution_count": 137,
     "metadata": {},
     "output_type": "execute_result"
    }
   ],
   "source": [
    "df.query('att==90 and mid>30')"
   ]
  },
  {
   "cell_type": "code",
   "execution_count": 138,
   "id": "a6eb4258-2e26-47e4-a83b-4a09fb1c7a08",
   "metadata": {},
   "outputs": [
    {
     "data": {
      "text/html": [
       "<div>\n",
       "<style scoped>\n",
       "    .dataframe tbody tr th:only-of-type {\n",
       "        vertical-align: middle;\n",
       "    }\n",
       "\n",
       "    .dataframe tbody tr th {\n",
       "        vertical-align: top;\n",
       "    }\n",
       "\n",
       "    .dataframe thead th {\n",
       "        text-align: right;\n",
       "    }\n",
       "</style>\n",
       "<table border=\"1\" class=\"dataframe\">\n",
       "  <thead>\n",
       "    <tr style=\"text-align: right;\">\n",
       "      <th></th>\n",
       "      <th>att</th>\n",
       "      <th>rep</th>\n",
       "      <th>mid</th>\n",
       "      <th>fin</th>\n",
       "    </tr>\n",
       "  </thead>\n",
       "  <tbody>\n",
       "    <tr>\n",
       "      <th>202212436</th>\n",
       "      <td>55</td>\n",
       "      <td>85</td>\n",
       "      <td>75</td>\n",
       "      <td>80</td>\n",
       "    </tr>\n",
       "    <tr>\n",
       "      <th>202212311</th>\n",
       "      <td>60</td>\n",
       "      <td>75</td>\n",
       "      <td>45</td>\n",
       "      <td>75</td>\n",
       "    </tr>\n",
       "    <tr>\n",
       "      <th>202212485</th>\n",
       "      <td>50</td>\n",
       "      <td>65</td>\n",
       "      <td>0</td>\n",
       "      <td>60</td>\n",
       "    </tr>\n",
       "    <tr>\n",
       "      <th>202212457</th>\n",
       "      <td>60</td>\n",
       "      <td>70</td>\n",
       "      <td>70</td>\n",
       "      <td>95</td>\n",
       "    </tr>\n",
       "    <tr>\n",
       "      <th>202212412</th>\n",
       "      <td>70</td>\n",
       "      <td>95</td>\n",
       "      <td>65</td>\n",
       "      <td>80</td>\n",
       "    </tr>\n",
       "  </tbody>\n",
       "</table>\n",
       "</div>"
      ],
      "text/plain": [
       "           att  rep  mid  fin\n",
       "202212436   55   85   75   80\n",
       "202212311   60   75   45   75\n",
       "202212485   50   65    0   60\n",
       "202212457   60   70   70   95\n",
       "202212412   70   95   65   80"
      ]
     },
     "execution_count": 138,
     "metadata": {},
     "output_type": "execute_result"
    }
   ],
   "source": [
    "df.query('att<rep and mid<fin')"
   ]
  },
  {
   "cell_type": "code",
   "execution_count": 139,
   "id": "25706a7a-75aa-4c28-8745-5088f0fa9664",
   "metadata": {},
   "outputs": [
    {
     "data": {
      "text/html": [
       "<div>\n",
       "<style scoped>\n",
       "    .dataframe tbody tr th:only-of-type {\n",
       "        vertical-align: middle;\n",
       "    }\n",
       "\n",
       "    .dataframe tbody tr th {\n",
       "        vertical-align: top;\n",
       "    }\n",
       "\n",
       "    .dataframe thead th {\n",
       "        text-align: right;\n",
       "    }\n",
       "</style>\n",
       "<table border=\"1\" class=\"dataframe\">\n",
       "  <thead>\n",
       "    <tr style=\"text-align: right;\">\n",
       "      <th></th>\n",
       "      <th>att</th>\n",
       "      <th>rep</th>\n",
       "      <th>mid</th>\n",
       "      <th>fin</th>\n",
       "    </tr>\n",
       "  </thead>\n",
       "  <tbody>\n",
       "    <tr>\n",
       "      <th>202212455</th>\n",
       "      <td>50</td>\n",
       "      <td>65</td>\n",
       "      <td>45</td>\n",
       "      <td>40</td>\n",
       "    </tr>\n",
       "    <tr>\n",
       "      <th>202212311</th>\n",
       "      <td>60</td>\n",
       "      <td>75</td>\n",
       "      <td>45</td>\n",
       "      <td>75</td>\n",
       "    </tr>\n",
       "    <tr>\n",
       "      <th>202212485</th>\n",
       "      <td>50</td>\n",
       "      <td>65</td>\n",
       "      <td>0</td>\n",
       "      <td>60</td>\n",
       "    </tr>\n",
       "    <tr>\n",
       "      <th>202212457</th>\n",
       "      <td>60</td>\n",
       "      <td>70</td>\n",
       "      <td>70</td>\n",
       "      <td>95</td>\n",
       "    </tr>\n",
       "  </tbody>\n",
       "</table>\n",
       "</div>"
      ],
      "text/plain": [
       "           att  rep  mid  fin\n",
       "202212455   50   65   45   40\n",
       "202212311   60   75   45   75\n",
       "202212485   50   65    0   60\n",
       "202212457   60   70   70   95"
      ]
     },
     "execution_count": 139,
     "metadata": {},
     "output_type": "execute_result"
    }
   ],
   "source": [
    "df.query('att<rep<80')"
   ]
  },
  {
   "cell_type": "code",
   "execution_count": 140,
   "id": "34d539c6-aeed-4cf7-94ca-e0349975f410",
   "metadata": {},
   "outputs": [
    {
     "data": {
      "text/html": [
       "<div>\n",
       "<style scoped>\n",
       "    .dataframe tbody tr th:only-of-type {\n",
       "        vertical-align: middle;\n",
       "    }\n",
       "\n",
       "    .dataframe tbody tr th {\n",
       "        vertical-align: top;\n",
       "    }\n",
       "\n",
       "    .dataframe thead th {\n",
       "        text-align: right;\n",
       "    }\n",
       "</style>\n",
       "<table border=\"1\" class=\"dataframe\">\n",
       "  <thead>\n",
       "    <tr style=\"text-align: right;\">\n",
       "      <th></th>\n",
       "      <th>att</th>\n",
       "      <th>rep</th>\n",
       "      <th>mid</th>\n",
       "      <th>fin</th>\n",
       "    </tr>\n",
       "  </thead>\n",
       "  <tbody>\n",
       "    <tr>\n",
       "      <th>202212311</th>\n",
       "      <td>60</td>\n",
       "      <td>75</td>\n",
       "      <td>45</td>\n",
       "      <td>75</td>\n",
       "    </tr>\n",
       "    <tr>\n",
       "      <th>202212457</th>\n",
       "      <td>60</td>\n",
       "      <td>70</td>\n",
       "      <td>70</td>\n",
       "      <td>95</td>\n",
       "    </tr>\n",
       "  </tbody>\n",
       "</table>\n",
       "</div>"
      ],
      "text/plain": [
       "           att  rep  mid  fin\n",
       "202212311   60   75   45   75\n",
       "202212457   60   70   70   95"
      ]
     },
     "execution_count": 140,
     "metadata": {},
     "output_type": "execute_result"
    }
   ],
   "source": [
    "df.query(\"index <= '202212311' or index == '202212457'\") # 추측상,고유값 인덱스에는 ''를 따로 해줘야 하나봄"
   ]
  },
  {
   "cell_type": "markdown",
   "id": "4b1e5c8f-5d00-4233-be7d-5f60153fff6d",
   "metadata": {},
   "source": [
    "* 쿼리 기능은 시계열 자료에서 가장 유용함"
   ]
  },
  {
   "cell_type": "code",
   "execution_count": 141,
   "id": "1c95543d-e462-4deb-ac3e-8ba1b810cc1d",
   "metadata": {},
   "outputs": [
    {
     "data": {
      "text/plain": [
       "DatetimeIndex(['2021-12-26', '2021-12-27', '2021-12-28', '2021-12-29',\n",
       "               '2021-12-30', '2021-12-31', '2022-01-01', '2022-01-02',\n",
       "               '2022-01-03', '2022-01-04'],\n",
       "              dtype='datetime64[ns]', freq='D')"
      ]
     },
     "execution_count": 141,
     "metadata": {},
     "output_type": "execute_result"
    }
   ],
   "source": [
    "pd.date_range('20211226',periods=10)"
   ]
  },
  {
   "cell_type": "code",
   "execution_count": 142,
   "id": "00cecee8-6406-43ca-b072-5fbf695a2f3c",
   "metadata": {},
   "outputs": [
    {
     "data": {
      "text/html": [
       "<div>\n",
       "<style scoped>\n",
       "    .dataframe tbody tr th:only-of-type {\n",
       "        vertical-align: middle;\n",
       "    }\n",
       "\n",
       "    .dataframe tbody tr th {\n",
       "        vertical-align: top;\n",
       "    }\n",
       "\n",
       "    .dataframe thead th {\n",
       "        text-align: right;\n",
       "    }\n",
       "</style>\n",
       "<table border=\"1\" class=\"dataframe\">\n",
       "  <thead>\n",
       "    <tr style=\"text-align: right;\">\n",
       "      <th></th>\n",
       "      <th>A</th>\n",
       "      <th>B</th>\n",
       "      <th>C</th>\n",
       "      <th>D</th>\n",
       "    </tr>\n",
       "  </thead>\n",
       "  <tbody>\n",
       "    <tr>\n",
       "      <th>2021-12-26</th>\n",
       "      <td>0.468333</td>\n",
       "      <td>1.366108</td>\n",
       "      <td>0.452998</td>\n",
       "      <td>0.048724</td>\n",
       "    </tr>\n",
       "    <tr>\n",
       "      <th>2021-12-27</th>\n",
       "      <td>-0.715074</td>\n",
       "      <td>-0.455669</td>\n",
       "      <td>0.128173</td>\n",
       "      <td>-0.893635</td>\n",
       "    </tr>\n",
       "    <tr>\n",
       "      <th>2021-12-28</th>\n",
       "      <td>1.233522</td>\n",
       "      <td>-0.258475</td>\n",
       "      <td>0.875717</td>\n",
       "      <td>-0.528988</td>\n",
       "    </tr>\n",
       "    <tr>\n",
       "      <th>2021-12-29</th>\n",
       "      <td>0.175954</td>\n",
       "      <td>-1.710716</td>\n",
       "      <td>0.878738</td>\n",
       "      <td>-1.016842</td>\n",
       "    </tr>\n",
       "    <tr>\n",
       "      <th>2021-12-30</th>\n",
       "      <td>0.361689</td>\n",
       "      <td>-0.271389</td>\n",
       "      <td>1.456367</td>\n",
       "      <td>-0.414429</td>\n",
       "    </tr>\n",
       "    <tr>\n",
       "      <th>2021-12-31</th>\n",
       "      <td>-0.653896</td>\n",
       "      <td>0.613566</td>\n",
       "      <td>-0.083197</td>\n",
       "      <td>1.875084</td>\n",
       "    </tr>\n",
       "    <tr>\n",
       "      <th>2022-01-01</th>\n",
       "      <td>1.120872</td>\n",
       "      <td>-1.387346</td>\n",
       "      <td>0.338263</td>\n",
       "      <td>1.141775</td>\n",
       "    </tr>\n",
       "    <tr>\n",
       "      <th>2022-01-02</th>\n",
       "      <td>1.726662</td>\n",
       "      <td>-0.103970</td>\n",
       "      <td>-0.172963</td>\n",
       "      <td>-0.547137</td>\n",
       "    </tr>\n",
       "    <tr>\n",
       "      <th>2022-01-03</th>\n",
       "      <td>1.038209</td>\n",
       "      <td>-1.625270</td>\n",
       "      <td>-0.046639</td>\n",
       "      <td>2.320188</td>\n",
       "    </tr>\n",
       "    <tr>\n",
       "      <th>2022-01-04</th>\n",
       "      <td>1.996487</td>\n",
       "      <td>1.173124</td>\n",
       "      <td>-1.409371</td>\n",
       "      <td>3.013173</td>\n",
       "    </tr>\n",
       "  </tbody>\n",
       "</table>\n",
       "</div>"
      ],
      "text/plain": [
       "                   A         B         C         D\n",
       "2021-12-26  0.468333  1.366108  0.452998  0.048724\n",
       "2021-12-27 -0.715074 -0.455669  0.128173 -0.893635\n",
       "2021-12-28  1.233522 -0.258475  0.875717 -0.528988\n",
       "2021-12-29  0.175954 -1.710716  0.878738 -1.016842\n",
       "2021-12-30  0.361689 -0.271389  1.456367 -0.414429\n",
       "2021-12-31 -0.653896  0.613566 -0.083197  1.875084\n",
       "2022-01-01  1.120872 -1.387346  0.338263  1.141775\n",
       "2022-01-02  1.726662 -0.103970 -0.172963 -0.547137\n",
       "2022-01-03  1.038209 -1.625270 -0.046639  2.320188\n",
       "2022-01-04  1.996487  1.173124 -1.409371  3.013173"
      ]
     },
     "execution_count": 142,
     "metadata": {},
     "output_type": "execute_result"
    }
   ],
   "source": [
    "_df=pd.DataFrame(np.random.normal(size=(10,4)),columns=list('ABCD'),index=pd.date_range('20211226',periods=10))\n",
    "_df"
   ]
  },
  {
   "cell_type": "code",
   "execution_count": 143,
   "id": "3b35d41e-3721-4f00-bd51-e295b5d9273b",
   "metadata": {},
   "outputs": [
    {
     "data": {
      "text/html": [
       "<div>\n",
       "<style scoped>\n",
       "    .dataframe tbody tr th:only-of-type {\n",
       "        vertical-align: middle;\n",
       "    }\n",
       "\n",
       "    .dataframe tbody tr th {\n",
       "        vertical-align: top;\n",
       "    }\n",
       "\n",
       "    .dataframe thead th {\n",
       "        text-align: right;\n",
       "    }\n",
       "</style>\n",
       "<table border=\"1\" class=\"dataframe\">\n",
       "  <thead>\n",
       "    <tr style=\"text-align: right;\">\n",
       "      <th></th>\n",
       "      <th>A</th>\n",
       "      <th>B</th>\n",
       "      <th>C</th>\n",
       "      <th>D</th>\n",
       "    </tr>\n",
       "  </thead>\n",
       "  <tbody>\n",
       "    <tr>\n",
       "      <th>2021-12-29</th>\n",
       "      <td>0.175954</td>\n",
       "      <td>-1.710716</td>\n",
       "      <td>0.878738</td>\n",
       "      <td>-1.016842</td>\n",
       "    </tr>\n",
       "    <tr>\n",
       "      <th>2021-12-30</th>\n",
       "      <td>0.361689</td>\n",
       "      <td>-0.271389</td>\n",
       "      <td>1.456367</td>\n",
       "      <td>-0.414429</td>\n",
       "    </tr>\n",
       "    <tr>\n",
       "      <th>2021-12-31</th>\n",
       "      <td>-0.653896</td>\n",
       "      <td>0.613566</td>\n",
       "      <td>-0.083197</td>\n",
       "      <td>1.875084</td>\n",
       "    </tr>\n",
       "    <tr>\n",
       "      <th>2022-01-01</th>\n",
       "      <td>1.120872</td>\n",
       "      <td>-1.387346</td>\n",
       "      <td>0.338263</td>\n",
       "      <td>1.141775</td>\n",
       "    </tr>\n",
       "  </tbody>\n",
       "</table>\n",
       "</div>"
      ],
      "text/plain": [
       "                   A         B         C         D\n",
       "2021-12-29  0.175954 -1.710716  0.878738 -1.016842\n",
       "2021-12-30  0.361689 -0.271389  1.456367 -0.414429\n",
       "2021-12-31 -0.653896  0.613566 -0.083197  1.875084\n",
       "2022-01-01  1.120872 -1.387346  0.338263  1.141775"
      ]
     },
     "execution_count": 143,
     "metadata": {},
     "output_type": "execute_result"
    }
   ],
   "source": [
    "_df.query(\" '2021-12-29' <=  index <= '2022-01-01' \")\n",
    "#"
   ]
  },
  {
   "cell_type": "code",
   "execution_count": 144,
   "id": "a9580a33-10c1-4ec8-8cf4-0ed49d295345",
   "metadata": {},
   "outputs": [
    {
     "data": {
      "text/html": [
       "<div>\n",
       "<style scoped>\n",
       "    .dataframe tbody tr th:only-of-type {\n",
       "        vertical-align: middle;\n",
       "    }\n",
       "\n",
       "    .dataframe tbody tr th {\n",
       "        vertical-align: top;\n",
       "    }\n",
       "\n",
       "    .dataframe thead th {\n",
       "        text-align: right;\n",
       "    }\n",
       "</style>\n",
       "<table border=\"1\" class=\"dataframe\">\n",
       "  <thead>\n",
       "    <tr style=\"text-align: right;\">\n",
       "      <th></th>\n",
       "      <th>A</th>\n",
       "      <th>B</th>\n",
       "      <th>C</th>\n",
       "      <th>D</th>\n",
       "    </tr>\n",
       "  </thead>\n",
       "  <tbody>\n",
       "    <tr>\n",
       "      <th>2021-12-29</th>\n",
       "      <td>0.175954</td>\n",
       "      <td>-1.710716</td>\n",
       "      <td>0.878738</td>\n",
       "      <td>-1.016842</td>\n",
       "    </tr>\n",
       "    <tr>\n",
       "      <th>2021-12-30</th>\n",
       "      <td>0.361689</td>\n",
       "      <td>-0.271389</td>\n",
       "      <td>1.456367</td>\n",
       "      <td>-0.414429</td>\n",
       "    </tr>\n",
       "    <tr>\n",
       "      <th>2022-01-01</th>\n",
       "      <td>1.120872</td>\n",
       "      <td>-1.387346</td>\n",
       "      <td>0.338263</td>\n",
       "      <td>1.141775</td>\n",
       "    </tr>\n",
       "  </tbody>\n",
       "</table>\n",
       "</div>"
      ],
      "text/plain": [
       "                   A         B         C         D\n",
       "2021-12-29  0.175954 -1.710716  0.878738 -1.016842\n",
       "2021-12-30  0.361689 -0.271389  1.456367 -0.414429\n",
       "2022-01-01  1.120872 -1.387346  0.338263  1.141775"
      ]
     },
     "execution_count": 144,
     "metadata": {},
     "output_type": "execute_result"
    }
   ],
   "source": [
    "_df.query(\" '2021-12-29' <=  index <= '2022-01-01' and A+B<C  \")"
   ]
  },
  {
   "cell_type": "markdown",
   "id": "aa2b8b4a-abf7-4fcc-ba67-c903a5a52b3d",
   "metadata": {},
   "source": [
    "* 위의 index는 행을 나타내고, 아래 Index는 열을 나타낸다고 착각할수 있는데 그게 아니고 `index는 행과 열을 지시하는 수단이다.`"
   ]
  },
  {
   "cell_type": "markdown",
   "id": "1de26a5b-b2ef-4ffe-b3ba-fc13ad4b0a2d",
   "metadata": {},
   "source": [
    "* 쿼리가 만능은 아니다"
   ]
  },
  {
   "cell_type": "code",
   "execution_count": 149,
   "id": "8a714312-55bb-46c4-bc36-8c01df357611",
   "metadata": {},
   "outputs": [],
   "source": [
    "df.columns = pd.Index(['att score', 'rep score', 'mid score', 'fin score'])"
   ]
  },
  {
   "cell_type": "code",
   "execution_count": 150,
   "id": "3c9916d3-fc0f-4b98-a543-d46315c017d9",
   "metadata": {},
   "outputs": [
    {
     "data": {
      "text/html": [
       "<div>\n",
       "<style scoped>\n",
       "    .dataframe tbody tr th:only-of-type {\n",
       "        vertical-align: middle;\n",
       "    }\n",
       "\n",
       "    .dataframe tbody tr th {\n",
       "        vertical-align: top;\n",
       "    }\n",
       "\n",
       "    .dataframe thead th {\n",
       "        text-align: right;\n",
       "    }\n",
       "</style>\n",
       "<table border=\"1\" class=\"dataframe\">\n",
       "  <thead>\n",
       "    <tr style=\"text-align: right;\">\n",
       "      <th></th>\n",
       "      <th>att score</th>\n",
       "      <th>rep score</th>\n",
       "      <th>mid score</th>\n",
       "      <th>fin score</th>\n",
       "    </tr>\n",
       "  </thead>\n",
       "  <tbody>\n",
       "    <tr>\n",
       "      <th>202212436</th>\n",
       "      <td>55</td>\n",
       "      <td>85</td>\n",
       "      <td>75</td>\n",
       "      <td>80</td>\n",
       "    </tr>\n",
       "    <tr>\n",
       "      <th>202212487</th>\n",
       "      <td>75</td>\n",
       "      <td>50</td>\n",
       "      <td>25</td>\n",
       "      <td>5</td>\n",
       "    </tr>\n",
       "    <tr>\n",
       "      <th>202212413</th>\n",
       "      <td>60</td>\n",
       "      <td>40</td>\n",
       "      <td>80</td>\n",
       "      <td>75</td>\n",
       "    </tr>\n",
       "  </tbody>\n",
       "</table>\n",
       "</div>"
      ],
      "text/plain": [
       "           att score  rep score  mid score  fin score\n",
       "202212436         55         85         75         80\n",
       "202212487         75         50         25          5\n",
       "202212413         60         40         80         75"
      ]
     },
     "execution_count": 150,
     "metadata": {},
     "output_type": "execute_result"
    }
   ],
   "source": [
    "df.head(3)"
   ]
  },
  {
   "cell_type": "code",
   "execution_count": 154,
   "id": "b6255521-d712-49f6-b92d-0f36ff611602",
   "metadata": {},
   "outputs": [
    {
     "ename": "SyntaxError",
     "evalue": "invalid syntax (<unknown>, line 1)",
     "output_type": "error",
     "traceback": [
      "Traceback \u001b[1;36m(most recent call last)\u001b[0m:\n",
      "  File \u001b[0;32m\"C:\\Users\\hyo\\anaconda3\\lib\\site-packages\\IPython\\core\\interactiveshell.py\"\u001b[0m, line \u001b[0;32m3444\u001b[0m, in \u001b[0;35mrun_code\u001b[0m\n    exec(code_obj, self.user_global_ns, self.user_ns)\n",
      "  File \u001b[0;32m\"C:\\Users\\hyo\\AppData\\Local\\Temp/ipykernel_22888/3933285604.py\"\u001b[0m, line \u001b[0;32m1\u001b[0m, in \u001b[0;35m<module>\u001b[0m\n    df.query('att score < 90') #칼럼 이름에 공백이 인식이 안되서 그런가\n",
      "  File \u001b[0;32m\"C:\\Users\\hyo\\anaconda3\\lib\\site-packages\\pandas\\core\\frame.py\"\u001b[0m, line \u001b[0;32m4060\u001b[0m, in \u001b[0;35mquery\u001b[0m\n    res = self.eval(expr, **kwargs)\n",
      "  File \u001b[0;32m\"C:\\Users\\hyo\\anaconda3\\lib\\site-packages\\pandas\\core\\frame.py\"\u001b[0m, line \u001b[0;32m4191\u001b[0m, in \u001b[0;35meval\u001b[0m\n    return _eval(expr, inplace=inplace, **kwargs)\n",
      "  File \u001b[0;32m\"C:\\Users\\hyo\\anaconda3\\lib\\site-packages\\pandas\\core\\computation\\eval.py\"\u001b[0m, line \u001b[0;32m348\u001b[0m, in \u001b[0;35meval\u001b[0m\n    parsed_expr = Expr(expr, engine=engine, parser=parser, env=env)\n",
      "  File \u001b[0;32m\"C:\\Users\\hyo\\anaconda3\\lib\\site-packages\\pandas\\core\\computation\\expr.py\"\u001b[0m, line \u001b[0;32m806\u001b[0m, in \u001b[0;35m__init__\u001b[0m\n    self.terms = self.parse()\n",
      "  File \u001b[0;32m\"C:\\Users\\hyo\\anaconda3\\lib\\site-packages\\pandas\\core\\computation\\expr.py\"\u001b[0m, line \u001b[0;32m825\u001b[0m, in \u001b[0;35mparse\u001b[0m\n    return self._visitor.visit(self.expr)\n",
      "  File \u001b[0;32m\"C:\\Users\\hyo\\anaconda3\\lib\\site-packages\\pandas\\core\\computation\\expr.py\"\u001b[0m, line \u001b[0;32m407\u001b[0m, in \u001b[0;35mvisit\u001b[0m\n    raise e\n",
      "  File \u001b[0;32m\"C:\\Users\\hyo\\anaconda3\\lib\\site-packages\\pandas\\core\\computation\\expr.py\"\u001b[0m, line \u001b[0;32m403\u001b[0m, in \u001b[0;35mvisit\u001b[0m\n    node = ast.fix_missing_locations(ast.parse(clean))\n",
      "\u001b[1;36m  File \u001b[1;32m\"C:\\Users\\hyo\\anaconda3\\lib\\ast.py\"\u001b[1;36m, line \u001b[1;32m50\u001b[1;36m, in \u001b[1;35mparse\u001b[1;36m\u001b[0m\n\u001b[1;33m    return compile(source, filename, mode, flags,\u001b[0m\n",
      "\u001b[1;36m  File \u001b[1;32m\"<unknown>\"\u001b[1;36m, line \u001b[1;32m1\u001b[0m\n\u001b[1;33m    att score <90\u001b[0m\n\u001b[1;37m        ^\u001b[0m\n\u001b[1;31mSyntaxError\u001b[0m\u001b[1;31m:\u001b[0m invalid syntax\n"
     ]
    }
   ],
   "source": [
    "df.query('att score < 90') #칼럼 이름에 공백이 인식이 안되서 그런가"
   ]
  },
  {
   "cell_type": "markdown",
   "id": "bb77927b-1aed-4568-89b1-d6c8552f07d8",
   "metadata": {},
   "source": [
    "### 판다스 공부 3단계"
   ]
  },
  {
   "cell_type": "markdown",
   "id": "a89d0208-eec2-42c1-b96a-1edf0d661e25",
   "metadata": {},
   "source": [
    "#### 전치"
   ]
  },
  {
   "cell_type": "code",
   "execution_count": 155,
   "id": "2dc782bf-8ad0-4e7e-a6b5-00f69370e78b",
   "metadata": {},
   "outputs": [
    {
     "data": {
      "text/html": [
       "<div>\n",
       "<style scoped>\n",
       "    .dataframe tbody tr th:only-of-type {\n",
       "        vertical-align: middle;\n",
       "    }\n",
       "\n",
       "    .dataframe tbody tr th {\n",
       "        vertical-align: top;\n",
       "    }\n",
       "\n",
       "    .dataframe thead th {\n",
       "        text-align: right;\n",
       "    }\n",
       "</style>\n",
       "<table border=\"1\" class=\"dataframe\">\n",
       "  <thead>\n",
       "    <tr style=\"text-align: right;\">\n",
       "      <th></th>\n",
       "      <th>0</th>\n",
       "      <th>1</th>\n",
       "      <th>2</th>\n",
       "    </tr>\n",
       "  </thead>\n",
       "  <tbody>\n",
       "    <tr>\n",
       "      <th>0</th>\n",
       "      <td>0</td>\n",
       "      <td>1</td>\n",
       "      <td>2</td>\n",
       "    </tr>\n",
       "    <tr>\n",
       "      <th>1</th>\n",
       "      <td>3</td>\n",
       "      <td>4</td>\n",
       "      <td>5</td>\n",
       "    </tr>\n",
       "  </tbody>\n",
       "</table>\n",
       "</div>"
      ],
      "text/plain": [
       "   0  1  2\n",
       "0  0  1  2\n",
       "1  3  4  5"
      ]
     },
     "execution_count": 155,
     "metadata": {},
     "output_type": "execute_result"
    }
   ],
   "source": [
    "ndarray = np.arange(2*3).reshape(2,3)\n",
    "df = pd.DataFrame(ndarray)\n",
    "df"
   ]
  },
  {
   "cell_type": "code",
   "execution_count": 156,
   "id": "9320cf67-52bd-4066-a8c1-757b205ea2b2",
   "metadata": {},
   "outputs": [
    {
     "data": {
      "text/plain": [
       "array([[0, 3],\n",
       "       [1, 4],\n",
       "       [2, 5]])"
      ]
     },
     "execution_count": 156,
     "metadata": {},
     "output_type": "execute_result"
    }
   ],
   "source": [
    "ndarray.T"
   ]
  },
  {
   "cell_type": "code",
   "execution_count": 157,
   "id": "389052da-a4b1-4f65-9f8e-c254cb13dec5",
   "metadata": {},
   "outputs": [
    {
     "data": {
      "text/html": [
       "<div>\n",
       "<style scoped>\n",
       "    .dataframe tbody tr th:only-of-type {\n",
       "        vertical-align: middle;\n",
       "    }\n",
       "\n",
       "    .dataframe tbody tr th {\n",
       "        vertical-align: top;\n",
       "    }\n",
       "\n",
       "    .dataframe thead th {\n",
       "        text-align: right;\n",
       "    }\n",
       "</style>\n",
       "<table border=\"1\" class=\"dataframe\">\n",
       "  <thead>\n",
       "    <tr style=\"text-align: right;\">\n",
       "      <th></th>\n",
       "      <th>0</th>\n",
       "      <th>1</th>\n",
       "    </tr>\n",
       "  </thead>\n",
       "  <tbody>\n",
       "    <tr>\n",
       "      <th>0</th>\n",
       "      <td>0</td>\n",
       "      <td>3</td>\n",
       "    </tr>\n",
       "    <tr>\n",
       "      <th>1</th>\n",
       "      <td>1</td>\n",
       "      <td>4</td>\n",
       "    </tr>\n",
       "    <tr>\n",
       "      <th>2</th>\n",
       "      <td>2</td>\n",
       "      <td>5</td>\n",
       "    </tr>\n",
       "  </tbody>\n",
       "</table>\n",
       "</div>"
      ],
      "text/plain": [
       "   0  1\n",
       "0  0  3\n",
       "1  1  4\n",
       "2  2  5"
      ]
     },
     "execution_count": 157,
     "metadata": {},
     "output_type": "execute_result"
    }
   ],
   "source": [
    "df.T"
   ]
  },
  {
   "cell_type": "code",
   "execution_count": 158,
   "id": "30993640-b4d7-4100-b7d8-e90d409d93a3",
   "metadata": {},
   "outputs": [
    {
     "data": {
      "text/plain": [
       "array([3, 5, 7])"
      ]
     },
     "execution_count": 158,
     "metadata": {},
     "output_type": "execute_result"
    }
   ],
   "source": [
    "ndarray.sum(axis=0) #"
   ]
  },
  {
   "cell_type": "code",
   "execution_count": 159,
   "id": "8284b43d-41de-483c-bb06-01a7856069bb",
   "metadata": {},
   "outputs": [
    {
     "data": {
      "text/plain": [
       "0    3\n",
       "1    5\n",
       "2    7\n",
       "dtype: int64"
      ]
     },
     "execution_count": 159,
     "metadata": {},
     "output_type": "execute_result"
    }
   ],
   "source": [
    "df.sum(axis=0)"
   ]
  },
  {
   "cell_type": "markdown",
   "id": "81b2d6ea-889a-450f-a878-59a53d620973",
   "metadata": {},
   "source": [
    "#### cumsum: 누적합"
   ]
  },
  {
   "cell_type": "code",
   "execution_count": 164,
   "id": "5f13b28c-fcee-455f-96fb-72ed721b79f8",
   "metadata": {},
   "outputs": [
    {
     "data": {
      "text/html": [
       "<div>\n",
       "<style scoped>\n",
       "    .dataframe tbody tr th:only-of-type {\n",
       "        vertical-align: middle;\n",
       "    }\n",
       "\n",
       "    .dataframe tbody tr th {\n",
       "        vertical-align: top;\n",
       "    }\n",
       "\n",
       "    .dataframe thead th {\n",
       "        text-align: right;\n",
       "    }\n",
       "</style>\n",
       "<table border=\"1\" class=\"dataframe\">\n",
       "  <thead>\n",
       "    <tr style=\"text-align: right;\">\n",
       "      <th></th>\n",
       "      <th>0</th>\n",
       "      <th>1</th>\n",
       "      <th>2</th>\n",
       "    </tr>\n",
       "  </thead>\n",
       "  <tbody>\n",
       "    <tr>\n",
       "      <th>0</th>\n",
       "      <td>0</td>\n",
       "      <td>1</td>\n",
       "      <td>2</td>\n",
       "    </tr>\n",
       "    <tr>\n",
       "      <th>1</th>\n",
       "      <td>3</td>\n",
       "      <td>4</td>\n",
       "      <td>5</td>\n",
       "    </tr>\n",
       "  </tbody>\n",
       "</table>\n",
       "</div>"
      ],
      "text/plain": [
       "   0  1  2\n",
       "0  0  1  2\n",
       "1  3  4  5"
      ]
     },
     "execution_count": 164,
     "metadata": {},
     "output_type": "execute_result"
    }
   ],
   "source": [
    "df"
   ]
  },
  {
   "cell_type": "code",
   "execution_count": 165,
   "id": "4b624b56-854d-494b-bab4-7ae5d61f66f4",
   "metadata": {},
   "outputs": [
    {
     "data": {
      "text/plain": [
       "array([[0, 1, 2],\n",
       "       [3, 5, 7]], dtype=int32)"
      ]
     },
     "execution_count": 165,
     "metadata": {},
     "output_type": "execute_result"
    }
   ],
   "source": [
    "ndarray.cumsum(axis=0)"
   ]
  },
  {
   "cell_type": "code",
   "execution_count": 166,
   "id": "71707522-c839-41a2-ae85-31658c6bd7eb",
   "metadata": {},
   "outputs": [
    {
     "data": {
      "text/html": [
       "<div>\n",
       "<style scoped>\n",
       "    .dataframe tbody tr th:only-of-type {\n",
       "        vertical-align: middle;\n",
       "    }\n",
       "\n",
       "    .dataframe tbody tr th {\n",
       "        vertical-align: top;\n",
       "    }\n",
       "\n",
       "    .dataframe thead th {\n",
       "        text-align: right;\n",
       "    }\n",
       "</style>\n",
       "<table border=\"1\" class=\"dataframe\">\n",
       "  <thead>\n",
       "    <tr style=\"text-align: right;\">\n",
       "      <th></th>\n",
       "      <th>0</th>\n",
       "      <th>1</th>\n",
       "      <th>2</th>\n",
       "    </tr>\n",
       "  </thead>\n",
       "  <tbody>\n",
       "    <tr>\n",
       "      <th>0</th>\n",
       "      <td>0</td>\n",
       "      <td>1</td>\n",
       "      <td>2</td>\n",
       "    </tr>\n",
       "    <tr>\n",
       "      <th>1</th>\n",
       "      <td>3</td>\n",
       "      <td>5</td>\n",
       "      <td>7</td>\n",
       "    </tr>\n",
       "  </tbody>\n",
       "</table>\n",
       "</div>"
      ],
      "text/plain": [
       "   0  1  2\n",
       "0  0  1  2\n",
       "1  3  5  7"
      ]
     },
     "execution_count": 166,
     "metadata": {},
     "output_type": "execute_result"
    }
   ],
   "source": [
    "df.cumsum(axis=0)"
   ]
  },
  {
   "cell_type": "markdown",
   "id": "bb27ed93-7c31-4412-a5e2-bc0ce1cfeeb2",
   "metadata": {},
   "source": [
    "#### 형태변환"
   ]
  },
  {
   "cell_type": "code",
   "execution_count": 167,
   "id": "c0039504-f48c-4946-b754-ce1df92f1651",
   "metadata": {},
   "outputs": [
    {
     "data": {
      "text/plain": [
       "[[0, 1, 2], [3, 4, 5]]"
      ]
     },
     "execution_count": 167,
     "metadata": {},
     "output_type": "execute_result"
    }
   ],
   "source": [
    "ndarray.tolist()"
   ]
  },
  {
   "cell_type": "code",
   "execution_count": 168,
   "id": "1b1fe3cf-432a-45a4-85c8-09ff4fd2add9",
   "metadata": {},
   "outputs": [
    {
     "data": {
      "text/plain": [
       "{0: {0: 0, 1: 3}, 1: {0: 1, 1: 4}, 2: {0: 2, 1: 5}}"
      ]
     },
     "execution_count": 168,
     "metadata": {},
     "output_type": "execute_result"
    }
   ],
   "source": [
    "df.to_dict()"
   ]
  },
  {
   "cell_type": "code",
   "execution_count": 169,
   "id": "9bd8c3e9-3358-4f41-a34d-063c5bee195d",
   "metadata": {},
   "outputs": [
    {
     "data": {
      "text/plain": [
       "array([[0, 1, 2],\n",
       "       [3, 4, 5]])"
      ]
     },
     "execution_count": 169,
     "metadata": {},
     "output_type": "execute_result"
    }
   ],
   "source": [
    "df.to_numpy()"
   ]
  },
  {
   "cell_type": "markdown",
   "id": "0e03e160-f207-4e12-aa6f-e8c72df5d1cd",
   "metadata": {},
   "source": [
    "### 10주차(2): 클래스 기초(밈과 비슷)"
   ]
  },
  {
   "cell_type": "markdown",
   "id": "d8b907b9-3ff9-4e9c-a2ee-5ce8a29c539f",
   "metadata": {},
   "source": [
    "#### 밈\n",
    "* 딱히 정형화 하기 어렵지만 위의예제들은 복제가 되는 어떠한 틀이 있다. 이것을 밈(=유전자)라고 부른다!!\n",
    "* 많은 사람들에게 그 복제내용이 확산되어 재생산된다. 이것을 밈화라고 한다.\n",
    "* 그대로 복제하지 않고 변형을 거치며 전혀 다른 성질을 가질 수 있다.\n",
    "* 밈이 또 다른 밈을 만들수 있다.\n",
    "* -> 경우마다 쓰는 어떤 틀이 있고 변형될수 있으며 활용하여 또다른 틀 만들수 있다\n",
    "\n",
    "#### 클래스\n",
    "* 클래스는 과자틀과 비슷하다. 클래스란 똑같은 무엇인가를 계속 만들어 낼 수도 있는 설계도면이고 객체란 클래스로 만든 피조물을 뜻한다. (점프투파이썬)\n",
    "\n",
    "`클래스는 복제, 변형, 재생산을 용이하게 하기 위해 만들어진 확장가능한 프로그램의 코드의 단위(extensible program-code-template)이다. 즉 밈이다`\n",
    "\n",
    "* 1단계: 개념의 인지 (이거 재미있겠다 밈으로 만들자 // 이 코드 쓸모있다, 이 코드를 쉽게 찍어내는 클래스로 만들어두자)\n",
    "* 2단계: 복사하고 싶은 속성을 추려 복사가능한 틀을 만듬 (밈 초기 컨텐츠 // 클래스의 선언)\n",
    "* 3단계: 밈에서 다양한 컨텐츠를 재생산, 때로는 변형하여 재생산, 때로는 그것을 응용한 다른밈을 만듦 (밈화 // 클래스의 인* 스턴스화, 상속, 메소드오버라이딩)\n",
    "\n",
    "#### 인스턴스\n",
    "* 클래스에서 생성된 콘텐츠를 인스턴스라고 함 ex) school=STOOP() : STOOOP 클래스에서school 인스턴스 만듬, 클래스 내의 함수(메소드)가 아니고 클래스를 다른 양식으로 복사 한다고 보면됨.\n",
    "* 생성된 콘텐츠(=인스턴스)에서 .을 찍고 클래스 내의 접근할 수 있는 여러 자료들에 접근가능하며 내용도 독립적으로 바꿀 수 있다."
   ]
  },
  {
   "cell_type": "markdown",
   "id": "8b221a41-4f6c-4eba-8f3e-f9a72d802369",
   "metadata": {},
   "source": [
    "#### 밈을 만들어보자"
   ]
  },
  {
   "cell_type": "code",
   "execution_count": 178,
   "id": "ab283db2-6077-48b7-91b0-95ff774fd679",
   "metadata": {},
   "outputs": [],
   "source": [
    "from IPython.core.display import HTML "
   ]
  },
  {
   "cell_type": "code",
   "execution_count": 186,
   "id": "755f06fe-8dbe-4ca1-9208-b7b7aea7b293",
   "metadata": {},
   "outputs": [
    {
     "data": {
      "text/plain": [
       "'제 이름은 커피이고 사는곳은 전주입니다.'"
      ]
     },
     "execution_count": 186,
     "metadata": {},
     "output_type": "execute_result"
    }
   ],
   "source": [
    "# 문자열 포멧팅(문자열 끼워넣기)\n",
    "'제 이름은 {}이고 사는곳은 {}입니다.'.format('커피','전주')"
   ]
  },
  {
   "cell_type": "code",
   "execution_count": 187,
   "id": "f3482a8b-464c-4eaf-b720-df14e9a2f0a7",
   "metadata": {},
   "outputs": [
    {
     "data": {
      "text/plain": [
       "'제 이름은 커피이고 사는곳은 전주입니다.'"
      ]
     },
     "execution_count": 187,
     "metadata": {},
     "output_type": "execute_result"
    }
   ],
   "source": [
    "'제 이름은 {name}이고 사는곳은 {add}입니다.'.format(name='커피',add='전주')"
   ]
  },
  {
   "cell_type": "code",
   "execution_count": 179,
   "id": "d3088c30-201f-42f9-968b-6c1dbdd0d32f",
   "metadata": {},
   "outputs": [
    {
     "data": {
      "text/html": [
       "<p> 이름 </p>"
      ],
      "text/plain": [
       "<IPython.core.display.HTML object>"
      ]
     },
     "execution_count": 179,
     "metadata": {},
     "output_type": "execute_result"
    }
   ],
   "source": [
    "# HTML을 이용한 밈 생성\n",
    "HTML(\"<p> 이름 </p>\")"
   ]
  },
  {
   "cell_type": "code",
   "execution_count": 210,
   "id": "0c93a023-3459-4b92-bfda-207d576620ef",
   "metadata": {},
   "outputs": [],
   "source": [
    "url1='https://github.com/guebin/IP2022/blob/master/_notebooks/2022-05-07-stop1.jpeg?raw=true'\n",
    "url2='https://github.com/guebin/IP2022/blob/master/_notebooks/2022-05-07-stop2.png?raw=true'"
   ]
  },
  {
   "cell_type": "code",
   "execution_count": 184,
   "id": "5cb597e3-348e-472e-88ff-687f5cb96870",
   "metadata": {},
   "outputs": [
    {
     "data": {
      "text/html": [
       "<p> 학교폭력 </p> <img src= 'https://github.com/guebin/IP2022/blob/master/_notebooks/2022-05-07-stop1.jpeg?raw=true'> <p> 멈춰~~~~ </p> "
      ],
      "text/plain": [
       "<IPython.core.display.HTML object>"
      ]
     },
     "execution_count": 184,
     "metadata": {},
     "output_type": "execute_result"
    }
   ],
   "source": [
    "htmlstr = \"<p> {title} </p> <img src= '{url}'> <p> {end} </p> \" \n",
    "HTML(htmlstr.format(title='학교폭력',url=url1,end='멈춰~~~~'))"
   ]
  },
  {
   "cell_type": "markdown",
   "id": "b9cd1913-22ea-4722-90d7-a7d46e594a0c",
   "metadata": {},
   "source": [
    "#### 함수를 만들어서 코드로 관리"
   ]
  },
  {
   "cell_type": "code",
   "execution_count": 188,
   "id": "33294685-696d-41e7-81b2-7ee1a74012bc",
   "metadata": {},
   "outputs": [],
   "source": [
    "def stop():\n",
    "    htmlstr = \"<p> {title} </p> <img src= '{url}'> <p> {end} </p> \" \n",
    "    display(HTML(htmlstr.format(title=ttl,url=url,end=end)))"
   ]
  },
  {
   "cell_type": "code",
   "execution_count": 192,
   "id": "ec60eafa-495f-405e-8b5d-51f5587a26ff",
   "metadata": {},
   "outputs": [
    {
     "data": {
      "text/html": [
       "<p> 학교폭력 </p> <img src= 'https://github.com/guebin/IP2022/blob/master/_notebooks/2022-05-07-stop1.jpeg?raw=true'> <p> 멈춰~~~~ </p> "
      ],
      "text/plain": [
       "<IPython.core.display.HTML object>"
      ]
     },
     "metadata": {},
     "output_type": "display_data"
    }
   ],
   "source": [
    "ttl = '학교폭력'\n",
    "url = url1\n",
    "end = '멈춰~~~~'\n",
    "stop()"
   ]
  },
  {
   "cell_type": "markdown",
   "id": "96d8542c-5421-4b76-9471-d51377bdbba2",
   "metadata": {},
   "source": [
    "#### 클래스를 이용해 동시관리"
   ]
  },
  {
   "cell_type": "code",
   "execution_count": 193,
   "id": "460ca673-aeab-40c9-8d8f-9858e652d3ee",
   "metadata": {},
   "outputs": [],
   "source": [
    "class STOOOP: # STOOOP 은 양식문서의 이름이라 생각할 수 있다. \n",
    "    title = \"학교폭력\" \n",
    "    url = url1 \n",
    "    end = \"멈춰~~~~\" \n",
    "    def stop(self): ## 규칙1: class안에서 정의된 함수는 첫번째 입력으로 무조건 self \n",
    "        htmlstr = \"<p> {title} </p> <img src= '{url}'> <p> {end} </p> \" \n",
    "        display(HTML(htmlstr.format(title=self.title,url=self.url,end=self.end)))\n",
    "        ## 규칙2: class안에서 정의된 변수 (title, url, end)를 쓰려면 \"self.변수이름\"의 형태로 써야함"
   ]
  },
  {
   "cell_type": "code",
   "execution_count": 217,
   "id": "dcdfa155-b7df-4e7c-a707-baa3b3377dfe",
   "metadata": {},
   "outputs": [],
   "source": [
    "school = STOOOP() \n",
    "# STOOOP이라는 클래스에서 school이라는 인스턴를 만드는 과정 \n",
    "# STOOOP이라는 이름의 양식문서를 복사해 하나의 hwp를 파일을 만들어 밈을 생성하고 그 파일이름을 school이라고 하자.\n",
    "# 그러니까 STOOP.hwp 와 school.hwp가 있는 상황\n",
    "# STOOOP 클래스 -> school 인스턴스 만듬"
   ]
  },
  {
   "cell_type": "code",
   "execution_count": 196,
   "id": "7b435b97-e868-4ead-8d1d-b0c7eaa28bf5",
   "metadata": {},
   "outputs": [
    {
     "data": {
      "text/plain": [
       "'학교폭력'"
      ]
     },
     "execution_count": 196,
     "metadata": {},
     "output_type": "execute_result"
    }
   ],
   "source": [
    "school.title"
   ]
  },
  {
   "cell_type": "code",
   "execution_count": 197,
   "id": "ce179134-0fda-4140-96f8-241423784f47",
   "metadata": {},
   "outputs": [
    {
     "data": {
      "text/html": [
       "<p> 학교폭력 </p> <img src= 'https://github.com/guebin/IP2022/blob/master/_notebooks/2022-05-07-stop1.jpeg?raw=true'> <p> 멈춰~~~~ </p> "
      ],
      "text/plain": [
       "<IPython.core.display.HTML object>"
      ]
     },
     "metadata": {},
     "output_type": "display_data"
    }
   ],
   "source": [
    "school.stop()"
   ]
  },
  {
   "cell_type": "markdown",
   "id": "ac0eb1ab-6d84-4f29-b88e-ed6a0cc7364d",
   "metadata": {},
   "source": [
    "#### 이걸 활용해 다른 밈을 만들고 싶다면"
   ]
  },
  {
   "cell_type": "code",
   "execution_count": 198,
   "id": "811ba387-20e8-41c6-b16c-dbcad4f162e2",
   "metadata": {},
   "outputs": [],
   "source": [
    "kospi = STOOOP() # 코스피하락 멈춰를 위해 STOOP.hwp양식문서에서 하나의 밈을 찍어낸다(=kospi.hwp 생성)."
   ]
  },
  {
   "cell_type": "code",
   "execution_count": 199,
   "id": "4f52b09a-9efe-4537-9f14-ad2823e4bc13",
   "metadata": {},
   "outputs": [
    {
     "data": {
      "text/plain": [
       "('학교폭력',\n",
       " 'https://github.com/guebin/IP2022/blob/master/_notebooks/2022-05-07-stop1.jpeg?raw=true',\n",
       " '멈춰~~~~')"
      ]
     },
     "execution_count": 199,
     "metadata": {},
     "output_type": "execute_result"
    }
   ],
   "source": [
    "kospi.title, kospi.url, kospi.end"
   ]
  },
  {
   "cell_type": "code",
   "execution_count": 201,
   "id": "c036be8e-3ede-47c9-a889-1d75f8be3ba4",
   "metadata": {},
   "outputs": [],
   "source": [
    "kospi.title = '코스피하락'"
   ]
  },
  {
   "cell_type": "code",
   "execution_count": 202,
   "id": "5bb83762-64ab-4f8d-bc6c-078a67dd4da9",
   "metadata": {},
   "outputs": [
    {
     "data": {
      "text/html": [
       "<p> 코스피하락 </p> <img src= 'https://github.com/guebin/IP2022/blob/master/_notebooks/2022-05-07-stop1.jpeg?raw=true'> <p> 멈춰~~~~ </p> "
      ],
      "text/plain": [
       "<IPython.core.display.HTML object>"
      ]
     },
     "metadata": {},
     "output_type": "display_data"
    }
   ],
   "source": [
    "kospi.stop()"
   ]
  },
  {
   "cell_type": "markdown",
   "id": "fe4f7ad9-7e86-4ede-98d1-e20b0f91bfcd",
   "metadata": {},
   "source": [
    "### 11주차: 클래스 공부 1단계"
   ]
  },
  {
   "cell_type": "code",
   "execution_count": 212,
   "id": "18ee7d69-a6f3-458b-8f4c-6d75ba194b7a",
   "metadata": {},
   "outputs": [],
   "source": [
    "import requests\n",
    "from PIL import Image "
   ]
  },
  {
   "cell_type": "code",
   "execution_count": 215,
   "id": "a29d8246-ac28-4a69-8861-91c72cdcad77",
   "metadata": {},
   "outputs": [],
   "source": [
    "url= 'https://stat.jbnu.ac.kr/sites/stat/images/intro_about_02.jpg'\n",
    "url1 = 'https://github.com/guebin/IP2022/blob/master/_notebooks/2022-05-07-stop1.jpeg?raw=true'\n",
    "url2 = 'https://github.com/guebin/IP2022/blob/master/_notebooks/2022-05-07-stop2.png?raw=true' "
   ]
  },
  {
   "cell_type": "code",
   "execution_count": 214,
   "id": "ff259145-837e-4443-aa9b-667c50ca60ff",
   "metadata": {},
   "outputs": [
    {
     "data": {
      "image/png": "[encoded data removed]",
      "text/plain": [
       "<PIL.JpegImagePlugin.JpegImageFile image mode=RGB size=563x228 at 0x116D1F32E20>"
      ]
     },
     "execution_count": 214,
     "metadata": {},
     "output_type": "execute_result"
    }
   ],
   "source": [
    "Image.open(Image.io.BytesIO(requests.get(url).content))"
   ]
  },
  {
   "cell_type": "markdown",
   "id": "9b16d1a6-b2da-4eb5-b9eb-1df35eb1826f",
   "metadata": {},
   "source": [
    "#### 클래스 선언 및 사용예시"
   ]
  },
  {
   "cell_type": "code",
   "execution_count": 218,
   "id": "8de6ed48-bb8d-4165-aa83-1251831d39d5",
   "metadata": {},
   "outputs": [],
   "source": [
    "class STOOOP: \n",
    "    title = '학교폭력!' \n",
    "    url = url1\n",
    "    end = '멈춰~~~~'\n",
    "    def stop(self):\n",
    "        print(self.title)\n",
    "        display(Image.open(Image.io.BytesIO(requests.get(self.url).content)))\n",
    "        print(self.end) "
   ]
  },
  {
   "cell_type": "markdown",
   "id": "f56b1f98-8b31-4754-a921-bada9224549f",
   "metadata": {},
   "source": [
    "* 규칙1: 메소드(=class안에서 정의된 함수)의 첫번째 인자는 무조건 self\n",
    "* 규칙2: 메소드에서 class안에 정의된 변수들(title, url, end)을 사용하려면 \"self.변수이름\"와 같은 형식으로 쓴다.\n",
    "* 즉 \"self.title\", \"self.url\", \"self.end\" 와 같은 방식으로 써야한다.\n",
    "* 참고: 규칙2에서 가끔 self의 자리에 \"STOOOP.title\",\"STOOOP.url\",\"STOOOP.end\" 와 같이 클래스의 이름으로 쓰기도 한다."
   ]
  },
  {
   "cell_type": "markdown",
   "id": "202cf6d0-612b-4543-b6a2-df299f78e2df",
   "metadata": {},
   "source": [
    "#### 연습문제"
   ]
  },
  {
   "cell_type": "code",
   "execution_count": null,
   "id": "831b08df-f651-4bd3-8703-013d22c3f9dd",
   "metadata": {},
   "outputs": [],
   "source": [
    "#문제 1\n",
    "#클래스내에는 변수 a가 있다. 변수 a의 초기값은 True이다.\n",
    "#클래스에는 show()라는 메소드가 있다. show()의 기능은 a의 값을 print하는 기능을 한다."
   ]
  },
  {
   "cell_type": "code",
   "execution_count": 219,
   "id": "2658cce5-1870-40d0-9990-434db2be1d10",
   "metadata": {},
   "outputs": [],
   "source": [
    "class Klass1: \n",
    "    a = True \n",
    "    def show(self): #메소드\n",
    "        print(self.a)"
   ]
  },
  {
   "cell_type": "code",
   "execution_count": 220,
   "id": "93a82fb3-99e4-4aae-8909-2c8451b8570f",
   "metadata": {},
   "outputs": [],
   "source": [
    "ex1 = Klass1()"
   ]
  },
  {
   "cell_type": "code",
   "execution_count": 221,
   "id": "66f7c629-2f2d-49fa-8981-8ef8f23f69ae",
   "metadata": {},
   "outputs": [
    {
     "data": {
      "text/plain": [
       "True"
      ]
     },
     "execution_count": 221,
     "metadata": {},
     "output_type": "execute_result"
    }
   ],
   "source": [
    "ex1.a"
   ]
  },
  {
   "cell_type": "code",
   "execution_count": 222,
   "id": "14b1082a-7077-48b0-a846-e16ab3922d44",
   "metadata": {},
   "outputs": [
    {
     "name": "stdout",
     "output_type": "stream",
     "text": [
      "True\n"
     ]
    }
   ],
   "source": [
    "ex1.show()"
   ]
  },
  {
   "cell_type": "code",
   "execution_count": null,
   "id": "61eb86c6-66f0-4922-808b-ca87c5a0926a",
   "metadata": {},
   "outputs": [],
   "source": [
    "#문제2\n",
    "#클래스내에는 변수 a가 있다. 변수 a의 초기값은 1이다.\n",
    "#클래스에는 up()라는 메소드가 있다. up()의 기능은 a의 값을 1증가시키는 기능을 한다."
   ]
  },
  {
   "cell_type": "code",
   "execution_count": 253,
   "id": "c2a44b65-ad07-4f53-baed-856e3a45935f",
   "metadata": {},
   "outputs": [],
   "source": [
    "class Klass2:\n",
    "    a = 1\n",
    "    def up(self): #메소드 up()의 첫번째 인자를 self라고 정의해줘야 하는데 나는 자꾸 잊네,,\n",
    "        self.a = self.a + 1 "
   ]
  },
  {
   "cell_type": "code",
   "execution_count": 254,
   "id": "7cb8285a-5fc1-46c5-8fd1-af6aaec6abe9",
   "metadata": {},
   "outputs": [
    {
     "data": {
      "text/plain": [
       "1"
      ]
     },
     "execution_count": 254,
     "metadata": {},
     "output_type": "execute_result"
    }
   ],
   "source": [
    "ex2 = Klass2()\n",
    "ex2.a"
   ]
  },
  {
   "cell_type": "code",
   "execution_count": 255,
   "id": "45fa162c-2ad0-4f51-bcbb-55c51711a834",
   "metadata": {},
   "outputs": [],
   "source": [
    "ex2.up()"
   ]
  },
  {
   "cell_type": "code",
   "execution_count": 256,
   "id": "9efc3a77-991a-4069-8425-5e58a63b7e68",
   "metadata": {},
   "outputs": [
    {
     "data": {
      "text/plain": [
       "2"
      ]
     },
     "execution_count": 256,
     "metadata": {},
     "output_type": "execute_result"
    }
   ],
   "source": [
    "ex2.a"
   ]
  },
  {
   "cell_type": "code",
   "execution_count": null,
   "id": "832308a6-0596-4bc0-bfd0-ce6fd044a614",
   "metadata": {},
   "outputs": [],
   "source": [
    "# 문제3\n",
    "#클래스내에는 변수 a가 있다. 변수 a의 초기값은 0이다.\n",
    "#클래스에는 up(),down(),show()라는 메소드가 있다. 각각은 a의 값을 1증가, a의 값을 1감소, a의 값을 print하는 기능을 한다."
   ]
  },
  {
   "cell_type": "code",
   "execution_count": 266,
   "id": "f45db11a-47f2-434b-848e-351ec3e4563a",
   "metadata": {},
   "outputs": [],
   "source": [
    "class Klass3:\n",
    "    a = 0\n",
    "    def up(self):\n",
    "        self.a += self.a\n",
    "    def down(self):\n",
    "        self.a -= self.a\n",
    "    def show(self):\n",
    "        print(self.a)"
   ]
  },
  {
   "cell_type": "code",
   "execution_count": 267,
   "id": "4c251312-4b34-4614-9024-17691b29b8b8",
   "metadata": {},
   "outputs": [],
   "source": [
    "ex3 = Klass3()"
   ]
  },
  {
   "cell_type": "code",
   "execution_count": 268,
   "id": "71dfe059-6e22-4ed7-b0b6-cf67d267f703",
   "metadata": {},
   "outputs": [
    {
     "data": {
      "text/plain": [
       "0"
      ]
     },
     "execution_count": 268,
     "metadata": {},
     "output_type": "execute_result"
    }
   ],
   "source": [
    "ex3.a"
   ]
  },
  {
   "cell_type": "code",
   "execution_count": 269,
   "id": "aaa6a801-e5fb-4a95-beac-94c8c280ff36",
   "metadata": {},
   "outputs": [
    {
     "name": "stdout",
     "output_type": "stream",
     "text": [
      "0\n"
     ]
    }
   ],
   "source": [
    "ex3.up() #1 더하고\n",
    "ex3.down() #1 빼주고\n",
    "ex3.show() #보여주니까 0 그대로 나옴"
   ]
  },
  {
   "cell_type": "code",
   "execution_count": 271,
   "id": "2b5d1b64-dcb9-41fc-ae56-6bda9e6b732e",
   "metadata": {},
   "outputs": [],
   "source": [
    "#문제 4\n",
    "#클래스내에는 변수 url이 있음. \n",
    "#url의 초기값은 https://github.com/guebin/IP2022/blob/master/_notebooks/2022-05-07-stop1.jpeg?raw=true이다.\n",
    "#클래스에는 show()이라는 메소드를 가지는데, 메소드는 아래와 같은 기능을 한다.\n",
    "#기능1: url의 그림을 출력, \n",
    "#기능2: '당신은 이 그림을 n번 보았습니다' 출력. 여기에서 n은 그림을 본 횟수"
   ]
  },
  {
   "cell_type": "code",
   "execution_count": 279,
   "id": "6103e57b-5f83-48e6-938a-06934cc7e6f7",
   "metadata": {},
   "outputs": [],
   "source": [
    "class Klass4():\n",
    "    url = 'https://github.com/guebin/IP2022/blob/master/_notebooks/2022-05-07-stop1.jpeg?raw=true'\n",
    "    a = 0\n",
    "    def show(self):\n",
    "        display(Image.open(Image.io.BytesIO(requests.get(self.url).content)))\n",
    "        self.a += 1\n",
    "        print('당신은 이 그림을 {}번 보았습니다'.format(self.a)) "
   ]
  },
  {
   "cell_type": "code",
   "execution_count": 280,
   "id": "3a7373b4-89b1-4bf9-a685-abc17c3ab81a",
   "metadata": {},
   "outputs": [],
   "source": [
    "ex4 = Klass4()"
   ]
  },
  {
   "cell_type": "code",
   "execution_count": 281,
   "id": "236adad6-8e13-40b8-9371-a245c488bed0",
   "metadata": {},
   "outputs": [
    {
     "data": {
      "image/png": "[encoded data removed]",
      "text/plain": [
       "<PIL.JpegImagePlugin.JpegImageFile image mode=RGB size=640x359 at 0x116D21BD430>"
      ]
     },
     "metadata": {},
     "output_type": "display_data"
    },
    {
     "name": "stdout",
     "output_type": "stream",
     "text": [
      "당신은 이 그림을 1번 보았습니다\n"
     ]
    }
   ],
   "source": [
    "ex4.show()"
   ]
  },
  {
   "cell_type": "code",
   "execution_count": 282,
   "id": "6df023a1-55f9-498e-8cd4-1fd54a3ad1ec",
   "metadata": {},
   "outputs": [
    {
     "data": {
      "text/plain": [
       "'가위'"
      ]
     },
     "execution_count": 282,
     "metadata": {},
     "output_type": "execute_result"
    }
   ],
   "source": [
    "#문제 5\n",
    "#클래스를 선언하라. [\"가위\",\"바위\",\"보\"]중 하나를 골라서 내는 메소드를 정의하라.\n",
    "# 힌트\n",
    "import numpy as np\n",
    "np.random.choice([\"가위\",\"바위\",\"보\"])"
   ]
  },
  {
   "cell_type": "code",
   "execution_count": 298,
   "id": "45457383-e572-4a36-8904-b830d954f5e0",
   "metadata": {},
   "outputs": [],
   "source": [
    "class RCP():\n",
    "    def rcp(self):\n",
    "        self.b = np.random.choice([\"가위\",\"바위\",\"보\"])\n",
    "        print(self.b)"
   ]
  },
  {
   "cell_type": "code",
   "execution_count": 299,
   "id": "d0c4ca35-113c-4ba3-b052-b71f97f62eaf",
   "metadata": {},
   "outputs": [],
   "source": [
    "ex5 = RCP()"
   ]
  },
  {
   "cell_type": "code",
   "execution_count": 300,
   "id": "705fd6b9-e874-421b-82e4-3bff29958d7f",
   "metadata": {},
   "outputs": [
    {
     "name": "stdout",
     "output_type": "stream",
     "text": [
      "가위\n"
     ]
    }
   ],
   "source": [
    "ex5.rcp()"
   ]
  },
  {
   "cell_type": "markdown",
   "id": "f92a3e9e-0586-4cb5-bba9-8dba422d3e73",
   "metadata": {},
   "source": [
    "### 11주차: 클래스 공부 2단계"
   ]
  },
  {
   "cell_type": "code",
   "execution_count": 301,
   "id": "2c202981-2685-47d2-b519-33ce8e60a8a5",
   "metadata": {},
   "outputs": [],
   "source": [
    "from PIL import Image\n",
    "import requests"
   ]
  },
  {
   "cell_type": "markdown",
   "id": "6cc0b69a-a32c-4e7c-b7dc-8ca92f3e83d9",
   "metadata": {},
   "source": [
    "#### `__init__()`\n",
    "* `__init__()`함수를 이용하여 \"클래스->인스턴스(클래스의 사본)\"의 시점에서 수행하는 일련의 동작들을 묶어서 수행할 수 있음"
   ]
  },
  {
   "cell_type": "code",
   "execution_count": 302,
   "id": "80d69717-bf71-446e-9c37-c1b79097df21",
   "metadata": {},
   "outputs": [],
   "source": [
    "class STOOOP: \n",
    "    #title = '학교폭력!' \n",
    "    url = url1\n",
    "    end = '멈춰~~~~'\n",
    "    def __init__(self,title): \n",
    "        self.title = title\n",
    "    def stop(self):\n",
    "        print(self.title)\n",
    "        display(Image.open(Image.io.BytesIO(requests.get(self.url).content)))\n",
    "        print(self.end) "
   ]
  },
  {
   "cell_type": "code",
   "execution_count": null,
   "id": "8aec6004-012b-4a84-be3b-84ae928d35c1",
   "metadata": {},
   "outputs": [],
   "source": []
  },
  {
   "cell_type": "code",
   "execution_count": null,
   "id": "d33579bd-b3f3-4721-8b17-cbf9d3e91be3",
   "metadata": {},
   "outputs": [],
   "source": []
  },
  {
   "cell_type": "code",
   "execution_count": null,
   "id": "8b3f85a0-d7b4-41c2-9c3d-864423152506",
   "metadata": {},
   "outputs": [],
   "source": []
  },
  {
   "cell_type": "code",
   "execution_count": null,
   "id": "da791935-8bb1-430d-95e9-8aa049fc76bf",
   "metadata": {},
   "outputs": [],
   "source": []
  },
  {
   "cell_type": "code",
   "execution_count": null,
   "id": "08b7e4d7-e3bf-43f6-aeef-08516f6900d6",
   "metadata": {},
   "outputs": [],
   "source": []
  },
  {
   "cell_type": "code",
   "execution_count": null,
   "id": "7dcee653-bdcb-4516-beaa-c40db5785ab4",
   "metadata": {},
   "outputs": [],
   "source": []
  },
  {
   "cell_type": "code",
   "execution_count": null,
   "id": "7a73ce4d-d4b1-4b1a-8ba5-711748f9bfad",
   "metadata": {},
   "outputs": [],
   "source": []
  },
  {
   "cell_type": "code",
   "execution_count": null,
   "id": "c66b9a38-c85b-42a7-b304-f39c2d7a2ad0",
   "metadata": {},
   "outputs": [],
   "source": []
  },
  {
   "cell_type": "code",
   "execution_count": null,
   "id": "ad47f2d9-bf14-453e-89e9-632aa5503882",
   "metadata": {},
   "outputs": [],
   "source": []
  },
  {
   "cell_type": "code",
   "execution_count": null,
   "id": "12d4689c-1ce6-41d6-8c58-36e15b381645",
   "metadata": {},
   "outputs": [],
   "source": []
  }
 ],
 "metadata": {
  "kernelspec": {
   "display_name": "Python 3 (ipykernel)",
   "language": "python",
   "name": "python3"
  },
  "language_info": {
   "codemirror_mode": {
    "name": "ipython",
    "version": 3
   },
   "file_extension": ".py",
   "mimetype": "text/x-python",
   "name": "python",
   "nbconvert_exporter": "python",
   "pygments_lexer": "ipython3",
   "version": "3.9.7"
  }
 },
 "nbformat": 4,
 "nbformat_minor": 5
}
