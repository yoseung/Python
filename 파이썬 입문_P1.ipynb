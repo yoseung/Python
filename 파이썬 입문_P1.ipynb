{
 "cells": [
  {
   "cell_type": "markdown",
   "id": "33c3cb60-ae45-4405-b8bd-f6fbbf8229db",
   "metadata": {},
   "source": [
    "## 파이썬 입문 part.1"
   ]
  },
  {
   "cell_type": "code",
   "execution_count": 1,
   "id": "b149e0b7-fbc7-4c8d-ab70-4534e6038a33",
   "metadata": {},
   "outputs": [],
   "source": [
    "import numpy as np\n",
    "import pandas as pd\n",
    "import matplotlib.pyplot as plt"
   ]
  },
  {
   "cell_type": "code",
   "execution_count": 2,
   "id": "3e394533-2a4e-45f5-b1af-ff17de3d897d",
   "metadata": {},
   "outputs": [],
   "source": [
    "%config Completer.use_jedi = False #자동완성 꺼줌"
   ]
  },
  {
   "cell_type": "markdown",
   "id": "652157b2-5eb6-400f-86c5-f82f0f9a9dfc",
   "metadata": {},
   "source": [
    "* 넘파이는 [ , ] [ ][ ] 둘다 되고\n",
    "* 리스트는 [ ][ ]\n",
    "* 딕셔너리는 [ ][ ] 키값으로만\n",
    "* axis=0 같은 열, axis=1 같은 행을 가져야 함"
   ]
  },
  {
   "cell_type": "markdown",
   "id": "bbf3663d-eb73-4c4d-881b-75c058e4268e",
   "metadata": {},
   "source": [
    "* 중간고사: 1-(10), 1-(33), 1-(40), 2-(2), 2-(6)~끝, 2-(16)-sum으로 원소수 셀수 있지만, 원소 합도 구할수 있음, 2-(22) 전치 왜시켜 주는거임?"
   ]
  },
  {
   "cell_type": "markdown",
   "id": "d4e0560d-85da-4c1f-a435-5d159a266cd1",
   "metadata": {},
   "source": [
    "### 1주차"
   ]
  },
  {
   "cell_type": "markdown",
   "id": "fd15ba6c-aea1-4503-ab6f-87a7b7ec086f",
   "metadata": {},
   "source": [
    "`-` 주피터랩: 주피터 노트북 확장버전\n",
    "\n",
    "`-` 단축키\n",
    "* esc 누르면 칸 이동 가능, 그리고 모드 바꾸고 싶으면 esc 누르고 약자 마크다운(m)누르면 됨\n",
    "\n",
    "`-` 자료형\n",
    "* 0차원 자료형: int(정수 저장), float(소수 저장 3.0도 해당), bool(true:1/false:0 연산가능)\n",
    "* 1차원 자료형: list, tuple, dict, set\n",
    "\n",
    "`-` 타입확인\n",
    "* type(a)\n",
    "* a?\n",
    "\n",
    "`-` str\n",
    "* 연산가능: 문자 이어져서( 더하기, 상수 곱하기만 됨)-> 원소의 추가와 반복추가만 됨\n",
    "\n",
    "`-` 인덱싱"
   ]
  },
  {
   "cell_type": "code",
   "execution_count": 9,
   "id": "f824a432-fe8a-4c19-8564-b884c282b3be",
   "metadata": {},
   "outputs": [
    {
     "data": {
      "text/plain": [
       "('y', 'g', 'yo', 'osung', 'yosu')"
      ]
     },
     "execution_count": 9,
     "metadata": {},
     "output_type": "execute_result"
    }
   ],
   "source": [
    "a='yosung'\n",
    "a[0], a[-1], a[0:2], a[1:], a[:-2]"
   ]
  },
  {
   "cell_type": "markdown",
   "id": "9eda6907-0aa3-4b16-be6a-a31be4b97ed9",
   "metadata": {},
   "source": [
    "`-` ()\n",
    "* len(a)은 0차원에서 사용 불가\n",
    "* 문자열에 특화된 기능: `a.`+`Tab` \n",
    "* 대문자로 만들어주는 a.upper()/ 소문자는 a.lower()\n",
    "* 상위개념`.`하위개념"
   ]
  },
  {
   "cell_type": "markdown",
   "id": "32956aea-6c94-435f-bbdc-1f51433b08bd",
   "metadata": {},
   "source": [
    "### 2주차: 리스트"
   ]
  },
  {
   "cell_type": "code",
   "execution_count": 14,
   "id": "8a5ca77e-cd59-4f03-9de0-27263a2fb393",
   "metadata": {},
   "outputs": [
    {
     "data": {
      "text/plain": [
       "[]"
      ]
     },
     "execution_count": 14,
     "metadata": {},
     "output_type": "execute_result"
    }
   ],
   "source": [
    "# 비어있는 리스트 선언\n",
    "a=[] # 방법1\n",
    "a=list() # 방법2\n",
    "a"
   ]
  },
  {
   "cell_type": "code",
   "execution_count": 15,
   "id": "e0028221-df82-4f70-94bb-b879e496fc83",
   "metadata": {},
   "outputs": [
    {
     "data": {
      "text/plain": [
       "[11, 22, 11, 22]"
      ]
     },
     "execution_count": 15,
     "metadata": {},
     "output_type": "execute_result"
    }
   ],
   "source": [
    "# 연산(덧셈 곱셈가능, 뺄셈 나눗셈 불가)\n",
    "a=[11,22]\n",
    "b=[11,22]\n",
    "a+b"
   ]
  },
  {
   "cell_type": "code",
   "execution_count": 17,
   "id": "37779860-9d85-4ad3-bfff-916d8313630e",
   "metadata": {},
   "outputs": [
    {
     "ename": "TypeError",
     "evalue": "can only concatenate list (not \"int\") to list",
     "output_type": "error",
     "traceback": [
      "\u001b[1;31m---------------------------------------------------------------------------\u001b[0m",
      "\u001b[1;31mTypeError\u001b[0m                                 Traceback (most recent call last)",
      "\u001b[1;32m~\\AppData\\Local\\Temp/ipykernel_14800/2733933587.py\u001b[0m in \u001b[0;36m<module>\u001b[1;34m\u001b[0m\n\u001b[0;32m      2\u001b[0m \u001b[0ma\u001b[0m\u001b[1;33m=\u001b[0m\u001b[1;33m[\u001b[0m\u001b[1;36m11\u001b[0m\u001b[1;33m,\u001b[0m\u001b[1;36m22\u001b[0m\u001b[1;33m]\u001b[0m\u001b[1;33m\u001b[0m\u001b[1;33m\u001b[0m\u001b[0m\n\u001b[0;32m      3\u001b[0m \u001b[0mb\u001b[0m\u001b[1;33m=\u001b[0m\u001b[1;36m1\u001b[0m\u001b[1;33m\u001b[0m\u001b[1;33m\u001b[0m\u001b[0m\n\u001b[1;32m----> 4\u001b[1;33m \u001b[0ma\u001b[0m\u001b[1;33m+\u001b[0m\u001b[0mb\u001b[0m\u001b[1;33m\u001b[0m\u001b[1;33m\u001b[0m\u001b[0m\n\u001b[0m",
      "\u001b[1;31mTypeError\u001b[0m: can only concatenate list (not \"int\") to list"
     ]
    }
   ],
   "source": [
    "# r에서 되는 브로드캐스팅 사용 불가\n",
    "a=[11,22]\n",
    "b=1\n",
    "a+b"
   ]
  },
  {
   "cell_type": "code",
   "execution_count": null,
   "id": "4dd7a73a-045b-4060-939e-aab757dd8c73",
   "metadata": {},
   "outputs": [],
   "source": [
    "#a는 리스트지만 a[1]은 인트형임\n",
    "#파이썬의 여러 수치계산은 numpy 통해 가능"
   ]
  },
  {
   "cell_type": "code",
   "execution_count": 19,
   "id": "05033804-6d8f-4ae5-92f8-3cbdd31bacaa",
   "metadata": {},
   "outputs": [],
   "source": [
    "import numpy as np"
   ]
  },
  {
   "cell_type": "code",
   "execution_count": 28,
   "id": "8002ace9-f238-492b-98a5-01b31c096f54",
   "metadata": {},
   "outputs": [
    {
     "data": {
      "text/plain": [
       "array([0.5, 0.5])"
      ]
     },
     "execution_count": 28,
     "metadata": {},
     "output_type": "execute_result"
    }
   ],
   "source": [
    "a=[1,2]\n",
    "b=[3,4]\n",
    "aa=np.array(a)\n",
    "bb=np.array(b)\n",
    "(aa-bb+3)/2"
   ]
  },
  {
   "cell_type": "code",
   "execution_count": 29,
   "id": "4e0f323f-0fbc-48a6-97db-3e454a9f73a1",
   "metadata": {},
   "outputs": [],
   "source": [
    "#리스트는 콘테이너형 객체(가변객체)이므로 숫자만 가능한 것이 아님\n",
    "# int, float, bool, str, list, tuple, dict, set\n",
    "lst=[1, 3.14, True, 'a', [1,2], (1,2), {'name':'sung', 'age':'23'}, {1,2}]"
   ]
  },
  {
   "cell_type": "code",
   "execution_count": 56,
   "id": "b1119078-2a53-4444-903a-3f87d90d2de5",
   "metadata": {},
   "outputs": [],
   "source": [
    "#리스트에서 원소수정이 불가한 경우\n",
    "a='sung' #얘는 타입이 리스트가 아니라 str이라 인덱싱으로 원소 수정시 에러가 남 \n",
    "a=list(a) #리스트화 해줘야 에러 안남\n",
    "a[0]='h'"
   ]
  },
  {
   "cell_type": "code",
   "execution_count": 57,
   "id": "b079ed2d-44d4-468a-9581-7db46440b562",
   "metadata": {},
   "outputs": [
    {
     "data": {
      "text/plain": [
       "['u', 'n', 'g']"
      ]
     },
     "execution_count": 57,
     "metadata": {},
     "output_type": "execute_result"
    }
   ],
   "source": [
    "#리스트 원소 삭제 \n",
    "del a[0] # 이거 a에 원소 삭제 된거가 저장되서 계속 하다보면 암거도 안남음\n",
    "a"
   ]
  },
  {
   "cell_type": "code",
   "execution_count": 82,
   "id": "19d716b1-a209-403d-8262-4f8367f404b4",
   "metadata": {},
   "outputs": [
    {
     "data": {
      "text/plain": [
       "[1, 2]"
      ]
     },
     "execution_count": 82,
     "metadata": {},
     "output_type": "execute_result"
    }
   ],
   "source": [
    "#리스트 원소 추가\n",
    "a = []\n",
    "a = a + [1,2]\n",
    "a"
   ]
  },
  {
   "cell_type": "code",
   "execution_count": 66,
   "id": "a4e68f00-1b98-420d-a743-4b5021050515",
   "metadata": {},
   "outputs": [
    {
     "data": {
      "text/plain": [
       "[3]"
      ]
     },
     "execution_count": 66,
     "metadata": {},
     "output_type": "execute_result"
    }
   ],
   "source": [
    "a.append(3) #얘도 3추가 된거 저장해서 계속누르면 게속 3추가됨\n",
    "a"
   ]
  },
  {
   "cell_type": "code",
   "execution_count": 67,
   "id": "1a441aa6-4d96-4eb4-990b-d5173476f477",
   "metadata": {},
   "outputs": [
    {
     "data": {
      "text/plain": [
       "[3]"
      ]
     },
     "execution_count": 67,
     "metadata": {},
     "output_type": "execute_result"
    }
   ],
   "source": [
    "a #append와 +[] 차이점은 저장 여부 "
   ]
  },
  {
   "cell_type": "code",
   "execution_count": 70,
   "id": "489fd327-a56b-4662-924b-124c5222a860",
   "metadata": {},
   "outputs": [
    {
     "data": {
      "text/plain": [
       "[]"
      ]
     },
     "execution_count": 70,
     "metadata": {},
     "output_type": "execute_result"
    }
   ],
   "source": [
    "a.clear() #뒤에 괄호 붙이는거 잊지말자\n",
    "a"
   ]
  },
  {
   "cell_type": "code",
   "execution_count": 71,
   "id": "4b98e853-e56b-46a2-884c-75e8fe9398b6",
   "metadata": {},
   "outputs": [
    {
     "data": {
      "text/plain": [
       "[1, 2, 3]"
      ]
     },
     "execution_count": 71,
     "metadata": {},
     "output_type": "execute_result"
    }
   ],
   "source": [
    "#복붙\n",
    "a=[1,2,3]\n",
    "b=a.copy()\n",
    "b"
   ]
  },
  {
   "cell_type": "code",
   "execution_count": 74,
   "id": "1613e4ec-d99d-46ba-a192-228f1c5933c1",
   "metadata": {},
   "outputs": [
    {
     "data": {
      "text/plain": [
       "1"
      ]
     },
     "execution_count": 74,
     "metadata": {},
     "output_type": "execute_result"
    }
   ],
   "source": [
    "b.count(2) #특정원소 몇개 인는지"
   ]
  },
  {
   "cell_type": "code",
   "execution_count": 6,
   "id": "2836ff05-ddc7-4960-b2b0-2c7396e62e89",
   "metadata": {},
   "outputs": [],
   "source": [
    "# 리스트 합키기\n",
    "a=[1,2,3]\n",
    "b=[[4,5,6]]\n",
    "a.extend(b)"
   ]
  },
  {
   "cell_type": "code",
   "execution_count": 7,
   "id": "a2c18a32-3194-40ca-9c3a-a8afafca8293",
   "metadata": {},
   "outputs": [
    {
     "data": {
      "text/plain": [
       "[1, 2, 3, [4, 5, 6]]"
      ]
     },
     "execution_count": 7,
     "metadata": {},
     "output_type": "execute_result"
    }
   ],
   "source": [
    "a"
   ]
  },
  {
   "cell_type": "code",
   "execution_count": 5,
   "id": "ed4ef83f-51e8-4e7a-baf6-697ea65ad8a2",
   "metadata": {},
   "outputs": [],
   "source": [
    "#append랑 extend 차이는 append는 걍 통째로 원소추가고, extend는 내용물만,,"
   ]
  },
  {
   "cell_type": "code",
   "execution_count": 9,
   "id": "903982f1-b7de-4c29-876f-4767b405523b",
   "metadata": {},
   "outputs": [
    {
     "data": {
      "text/plain": [
       "[1, 2, 3, [[4, 5, 6]]]"
      ]
     },
     "execution_count": 9,
     "metadata": {},
     "output_type": "execute_result"
    }
   ],
   "source": [
    "a=[1,2,3]\n",
    "b=[[4,5,6]]\n",
    "a.append(b)\n",
    "a"
   ]
  },
  {
   "cell_type": "code",
   "execution_count": 12,
   "id": "12fccf15-183e-4762-95c4-eefb3b6bbb7b",
   "metadata": {},
   "outputs": [
    {
     "data": {
      "text/plain": [
       "[1, 88, 2, 3]"
      ]
     },
     "execution_count": 12,
     "metadata": {},
     "output_type": "execute_result"
    }
   ],
   "source": [
    "# 인덱스 자라에 원소 삽입하기\n",
    "a=[1,2,3]\n",
    "a.insert(1,88)\n",
    "a"
   ]
  },
  {
   "cell_type": "code",
   "execution_count": 1,
   "id": "f0cad5d4-cf62-466b-b46e-6e571134f430",
   "metadata": {},
   "outputs": [
    {
     "data": {
      "text/plain": [
       "'d'"
      ]
     },
     "execution_count": 1,
     "metadata": {},
     "output_type": "execute_result"
    }
   ],
   "source": [
    "# 원소삭제하기\n",
    "#pop()은 인덱스형\n",
    "a=['a', 1,2,'d']\n",
    "a.pop() # 기본이 index=-1이라 마지막 값 출력과 동시에 a에서 삭제됨"
   ]
  },
  {
   "cell_type": "code",
   "execution_count": 3,
   "id": "cefe0420-7164-4a73-8ae1-f881929f93f2",
   "metadata": {},
   "outputs": [
    {
     "data": {
      "text/plain": [
       "1"
      ]
     },
     "execution_count": 3,
     "metadata": {},
     "output_type": "execute_result"
    }
   ],
   "source": [
    "a.pop(1) #두번째 원소인 1이 삭제됨"
   ]
  },
  {
   "cell_type": "code",
   "execution_count": 6,
   "id": "41aee8ce-06d9-4c85-bc62-8b06ef7e8f9b",
   "metadata": {},
   "outputs": [],
   "source": [
    "#remove()는 특정 원소 지정형임\n",
    "a=['a', 1,2,'d']\n",
    "a.remove(1)"
   ]
  },
  {
   "cell_type": "code",
   "execution_count": 8,
   "id": "8e9b5d7a-9d20-40bd-b89b-80414d22d77f",
   "metadata": {},
   "outputs": [
    {
     "data": {
      "text/plain": [
       "['a', 2, 'd']"
      ]
     },
     "execution_count": 8,
     "metadata": {},
     "output_type": "execute_result"
    }
   ],
   "source": [
    "a"
   ]
  },
  {
   "cell_type": "code",
   "execution_count": 9,
   "id": "b71ff8d1-36a6-4f09-b1d4-406a09b2f568",
   "metadata": {},
   "outputs": [
    {
     "data": {
      "text/plain": [
       "['d', 2, 'a']"
      ]
     },
     "execution_count": 9,
     "metadata": {},
     "output_type": "execute_result"
    }
   ],
   "source": [
    "#역방향 배열\n",
    "a.reverse()\n",
    "a "
   ]
  },
  {
   "cell_type": "code",
   "execution_count": 13,
   "id": "4e7dc3ba-228b-4f09-bb08-539964d4993d",
   "metadata": {},
   "outputs": [
    {
     "data": {
      "text/plain": [
       "[1, 2, 3]"
      ]
     },
     "execution_count": 13,
     "metadata": {},
     "output_type": "execute_result"
    }
   ],
   "source": [
    "#sort 수치형이나, 문자형이나 일관된 타입으로 있을때 순서대로 적용/ 기본값이 오름차순\n",
    "a=[3,2,1]\n",
    "a.sort() #괄호안에 (reverse=True)이면 역방향인 내림차순으로 배여됨\n",
    "a"
   ]
  },
  {
   "cell_type": "code",
   "execution_count": 17,
   "id": "e90eff1a-f097-47ca-8b37-c7801058848f",
   "metadata": {},
   "outputs": [
    {
     "data": {
      "text/plain": [
       "8"
      ]
     },
     "execution_count": 17,
     "metadata": {},
     "output_type": "execute_result"
    }
   ],
   "source": [
    "#중첩리스트(매트릭스)\n",
    "A=[[1,2,3], [4,5,6], [7,8,9]] #3*3 형태의 매트릭스\n",
    "A[2][1] #[2,1]로 쓰면 안됨"
   ]
  },
  {
   "cell_type": "code",
   "execution_count": null,
   "id": "203f5acb-55e3-48e4-ae49-5796a60df347",
   "metadata": {},
   "outputs": [],
   "source": [
    "#과제"
   ]
  },
  {
   "cell_type": "code",
   "execution_count": 21,
   "id": "8bf51209-b84e-4365-92a4-66c56d3a2366",
   "metadata": {},
   "outputs": [
    {
     "data": {
      "text/plain": [
       "[1, 2, 4, 8]"
      ]
     },
     "execution_count": 21,
     "metadata": {},
     "output_type": "execute_result"
    }
   ],
   "source": [
    "a=[]\n",
    "for i in range(0,4):\n",
    "    a.append(2**i)\n",
    "a"
   ]
  },
  {
   "cell_type": "code",
   "execution_count": 26,
   "id": "0440ff11-57c0-43d2-a8bc-6445a806367f",
   "metadata": {},
   "outputs": [
    {
     "data": {
      "text/plain": [
       "['ssss', 'pppp', 'tttt']"
      ]
     },
     "execution_count": 26,
     "metadata": {},
     "output_type": "execute_result"
    }
   ],
   "source": [
    "a=[]\n",
    "for i in ['s', 'p', 't']:\n",
    "    a.append(i*4)\n",
    "a   "
   ]
  },
  {
   "cell_type": "code",
   "execution_count": 28,
   "id": "fc95ce9a-cc6f-4026-8434-1043e4f22075",
   "metadata": {},
   "outputs": [
    {
     "data": {
      "text/plain": [
       "['ssss', 'pppp', 'tttt']"
      ]
     },
     "execution_count": 28,
     "metadata": {},
     "output_type": "execute_result"
    }
   ],
   "source": [
    "[i*4 for i in 'spt']"
   ]
  },
  {
   "cell_type": "code",
   "execution_count": 32,
   "id": "1c63ac01-5d3b-4bf7-9231-e14dfae22d0c",
   "metadata": {},
   "outputs": [
    {
     "data": {
      "text/plain": [
       "['x1', 'x2', 'x3', 'y1', 'y2', 'y3']"
      ]
     },
     "execution_count": 32,
     "metadata": {},
     "output_type": "execute_result"
    }
   ],
   "source": [
    "[i+j for i in 'xy' for j in '123']"
   ]
  },
  {
   "cell_type": "code",
   "execution_count": 48,
   "id": "820bf1ed-cf70-49d8-8422-a534716c7b56",
   "metadata": {},
   "outputs": [
    {
     "data": {
      "text/plain": [
       "['x1', 'x2', 'x3', 'y1', 'y2', 'y3']"
      ]
     },
     "execution_count": 48,
     "metadata": {},
     "output_type": "execute_result"
    }
   ],
   "source": [
    "[i + str(j) for i in 'xy' for j in [1,2,3]] # "
   ]
  },
  {
   "cell_type": "code",
   "execution_count": 33,
   "id": "e92a6304-9aeb-4bfb-976b-7f6addf39231",
   "metadata": {},
   "outputs": [
    {
     "data": {
      "text/plain": [
       "['통계1', '통계2', '통계3', '수학1', '수학2', '수학3']"
      ]
     },
     "execution_count": 33,
     "metadata": {},
     "output_type": "execute_result"
    }
   ],
   "source": [
    "[i+j for i in ['통계','수학'] for j in '123']"
   ]
  },
  {
   "cell_type": "code",
   "execution_count": 34,
   "id": "5e0fa2b0-c079-4e13-b693-a1959d8a0fd9",
   "metadata": {},
   "outputs": [
    {
     "data": {
      "text/plain": [
       "'u'"
      ]
     },
     "execution_count": 34,
     "metadata": {},
     "output_type": "execute_result"
    }
   ],
   "source": [
    "#헷갈리지 않기\n",
    "x=1\n",
    "lst=[]\n",
    "for x in 'jbnu': #여기서 x가 문자로 저장됨\n",
    "    lst = lst + [x]\n",
    "x "
   ]
  },
  {
   "cell_type": "code",
   "execution_count": 35,
   "id": "fccae162-8591-4df8-9333-a309d1fc6730",
   "metadata": {},
   "outputs": [
    {
     "data": {
      "text/plain": [
       "1"
      ]
     },
     "execution_count": 35,
     "metadata": {},
     "output_type": "execute_result"
    }
   ],
   "source": [
    "x=1\n",
    "lst = [x for x in 'jbnu'] #x라는 미지수가 []안에서만 저장된거\n",
    "x"
   ]
  },
  {
   "cell_type": "code",
   "execution_count": 37,
   "id": "021d393b-717e-49bd-a322-962044f52083",
   "metadata": {},
   "outputs": [
    {
     "data": {
      "text/plain": [
       "range(0, 10)"
      ]
     },
     "execution_count": 37,
     "metadata": {},
     "output_type": "execute_result"
    }
   ],
   "source": [
    "# \n",
    "range(10)"
   ]
  },
  {
   "cell_type": "code",
   "execution_count": 42,
   "id": "6bb4571c-392a-4168-b63f-968d2d84529c",
   "metadata": {},
   "outputs": [
    {
     "data": {
      "text/plain": [
       "['x1', 'x2x2', 'x3x3x3', 'x4x4x4x4', 'x5x5x5x5x5']"
      ]
     },
     "execution_count": 42,
     "metadata": {},
     "output_type": "execute_result"
    }
   ],
   "source": [
    "[(i+str(j))*j for i in 'x' for j in range(1,6)]"
   ]
  },
  {
   "cell_type": "markdown",
   "id": "4e5d812a-4f34-41d4-90ac-a8ed99b9d53c",
   "metadata": {},
   "source": [
    "### 3주차 part1 : 튜플"
   ]
  },
  {
   "cell_type": "markdown",
   "id": "1b7afd79-7fa4-4fa0-909f-faada9c29744",
   "metadata": {},
   "source": [
    "* 리스트와 튜플은 컨테이너형 타입이라는 점이 다름 (아래는 컨테이너형의 특징)\n",
    "* []->()\n",
    "* 불변형(원소의 값을 바꿀 수 없음)\n",
    "* 하나의 원소를 선언할 때는 (1,)과 같이 해야 한다\n",
    "* 의미가 명확할 때는 튜플의 ()를 생략 가능하다\n",
    "* 연산, 인덱싱 리스트와 동일"
   ]
  },
  {
   "cell_type": "code",
   "execution_count": 54,
   "id": "fcc56434-b97e-4686-bf83-57fe0e2dc179",
   "metadata": {},
   "outputs": [
    {
     "data": {
      "text/plain": [
       "str"
      ]
     },
     "execution_count": 54,
     "metadata": {},
     "output_type": "execute_result"
    }
   ],
   "source": [
    "a=(3, 'gh', 3.2, [5])\n",
    "type(a[1])"
   ]
  },
  {
   "cell_type": "code",
   "execution_count": 55,
   "id": "7b673460-7d96-4d20-af58-725848f489d2",
   "metadata": {},
   "outputs": [
    {
     "data": {
      "text/plain": [
       "(1,)"
      ]
     },
     "execution_count": 55,
     "metadata": {},
     "output_type": "execute_result"
    }
   ],
   "source": [
    "a=(1,) #원소가 하나인 튜플\n",
    "a"
   ]
  },
  {
   "cell_type": "code",
   "execution_count": 56,
   "id": "33e15479-36bc-4178-ac23-708e80045420",
   "metadata": {},
   "outputs": [
    {
     "data": {
      "text/plain": [
       "(1, 2, 3)"
      ]
     },
     "execution_count": 56,
     "metadata": {},
     "output_type": "execute_result"
    }
   ],
   "source": [
    "#튜플 슬기롭게 사용하는 방법\n",
    "a = 1\n",
    "b = 2\n",
    "c = 3\n",
    "a,b,c #괄호를 생략하는게 이렇게 편하다,,"
   ]
  },
  {
   "cell_type": "code",
   "execution_count": 58,
   "id": "3a7358ce-799f-4207-8c97-e1e227593769",
   "metadata": {},
   "outputs": [
    {
     "data": {
      "text/plain": [
       "37"
      ]
     },
     "execution_count": 58,
     "metadata": {},
     "output_type": "execute_result"
    }
   ],
   "source": [
    "corr = (37, 127)\n",
    "lat,long = corr\n",
    "lat"
   ]
  },
  {
   "cell_type": "code",
   "execution_count": 60,
   "id": "59d85fe4-875e-4ac3-8b3a-11f6b98d3fec",
   "metadata": {},
   "outputs": [
    {
     "data": {
      "text/plain": [
       "('h', 'i')"
      ]
     },
     "execution_count": 60,
     "metadata": {},
     "output_type": "execute_result"
    }
   ],
   "source": [
    "[x,y] = 'hi'\n",
    "x,y"
   ]
  },
  {
   "cell_type": "code",
   "execution_count": 62,
   "id": "232b752f-e2db-4cfe-8563-d243cf269415",
   "metadata": {},
   "outputs": [
    {
     "data": {
      "text/plain": [
       "10"
      ]
     },
     "execution_count": 62,
     "metadata": {},
     "output_type": "execute_result"
    }
   ],
   "source": [
    "a = 10 \n",
    "b = 20\n",
    "a,b = b,a\n",
    "b #임시변수 사용없이 두 변수의 값을 교환"
   ]
  },
  {
   "cell_type": "code",
   "execution_count": 63,
   "id": "3948be6b-550c-44e7-a38b-1b88fe1c9882",
   "metadata": {},
   "outputs": [
    {
     "name": "stdout",
     "output_type": "stream",
     "text": [
      "guebin\n",
      "iu\n",
      "sung\n"
     ]
    }
   ],
   "source": [
    "lst = [['guebin', 20, 'm'],\n",
    "       ['iu', 21, 'w'],\n",
    "       ['sung', 23, 'w']]\n",
    "\n",
    "for name, age, sex in lst:\n",
    "    print(name)"
   ]
  },
  {
   "cell_type": "code",
   "execution_count": 66,
   "id": "5c010913-405e-4da3-b98f-76a698f46fc1",
   "metadata": {},
   "outputs": [
    {
     "name": "stdout",
     "output_type": "stream",
     "text": [
      "20\n",
      "21\n",
      "23\n"
     ]
    }
   ],
   "source": [
    "for _,age,_ in lst:\n",
    "    print(age)"
   ]
  },
  {
   "cell_type": "code",
   "execution_count": 70,
   "id": "ee581ef1-82f8-4efe-8565-47c8b62932ea",
   "metadata": {},
   "outputs": [
    {
     "data": {
      "text/plain": [
       "(1, [2, 3, 4, 5, 6, 7, 8, 9], 10)"
      ]
     },
     "execution_count": 70,
     "metadata": {},
     "output_type": "execute_result"
    }
   ],
   "source": [
    "# 튜플과 언패킹 연산자 `*`\n",
    "a, *b, c = range(1,11)\n",
    "a,b,c"
   ]
  },
  {
   "cell_type": "code",
   "execution_count": 71,
   "id": "e2eca3e6-590b-47fe-9f91-09f757c10cd6",
   "metadata": {},
   "outputs": [
    {
     "data": {
      "text/plain": [
       "(1, 2, 3, 4, 5, 6, 7, 8, 9, 10)"
      ]
     },
     "execution_count": 71,
     "metadata": {},
     "output_type": "execute_result"
    }
   ],
   "source": [
    "a,*b,c # `*`를 붙이면 1차원 구조가 풀림"
   ]
  },
  {
   "cell_type": "code",
   "execution_count": 72,
   "id": "25f04827-8425-4b9f-98ef-6acd701aecfb",
   "metadata": {},
   "outputs": [
    {
     "name": "stdout",
     "output_type": "stream",
     "text": [
      "1 2 3\n"
     ]
    }
   ],
   "source": [
    "print(*[1,2,3])"
   ]
  },
  {
   "cell_type": "code",
   "execution_count": null,
   "id": "23ce35cb-d58a-4b91-8e01-7a16373169aa",
   "metadata": {},
   "outputs": [],
   "source": [
    "#함수의 입력으로 `*args` 넣으면"
   ]
  },
  {
   "cell_type": "markdown",
   "id": "09c6f7a0-5617-43a9-9e45-e6b5be28a788",
   "metadata": {},
   "source": [
    "### 3주차 part2"
   ]
  },
  {
   "cell_type": "markdown",
   "id": "4c2141dc-3429-4076-86e6-2d5ebdfacc89",
   "metadata": {},
   "source": [
    "* 튜플을 쓰는 이유는\n",
    "* 실수방지\n",
    "* 빠르고 다중작업에 유리(여러사람과 작업하기 조흠)\n",
    "* 얕은복사나 깊은복사시 원치 않는 오류(side effect)를 방지\n",
    "* 메모리 관리도 유리\n",
    "* `튜플의 장점은 소괄호 생략`에 있는데 이건 파이썬과 줄리아만 가능\n",
    "* 이것이 `언패팅구문과 결합`하여 좋은 가독성 제공"
   ]
  },
  {
   "cell_type": "markdown",
   "id": "04380524-b98b-4c56-9e1f-ef156db83a9b",
   "metadata": {},
   "source": [
    "* 언패킹 연산자`*`란 말그대로 묶은걸 푼다는 의미로 한 변수의 데이터를 각각의 변수로 변환해주는 것을 말함"
   ]
  },
  {
   "cell_type": "code",
   "execution_count": 76,
   "id": "8cff19e8-8355-4675-a081-a0347bac26bf",
   "metadata": {},
   "outputs": [],
   "source": [
    "def mycal(a,b):\n",
    "    return a+b, a-b, a*b"
   ]
  },
  {
   "cell_type": "code",
   "execution_count": 77,
   "id": "d9b47a1e-6c97-446e-b4b1-a9eb1c6e6f6b",
   "metadata": {},
   "outputs": [
    {
     "data": {
      "text/plain": [
       "(5, -1, 6)"
      ]
     },
     "execution_count": 77,
     "metadata": {},
     "output_type": "execute_result"
    }
   ],
   "source": [
    "mycal(2,3)"
   ]
  },
  {
   "cell_type": "code",
   "execution_count": 78,
   "id": "80855820-29f3-4916-83e4-5328a074aa9a",
   "metadata": {},
   "outputs": [
    {
     "data": {
      "text/plain": [
       "6"
      ]
     },
     "execution_count": 78,
     "metadata": {},
     "output_type": "execute_result"
    }
   ],
   "source": [
    "_,_,m = mycal(2,3)\n",
    "m"
   ]
  },
  {
   "cell_type": "markdown",
   "id": "6c26f4e2-c571-4bd9-9f9f-e9b3d7378271",
   "metadata": {},
   "source": [
    "`인덱싱 고급(스트라이딩) [start:stop:step]`"
   ]
  },
  {
   "cell_type": "code",
   "execution_count": 83,
   "id": "61c8d614-c2a3-4f0c-a860-23f985d47e07",
   "metadata": {},
   "outputs": [
    {
     "data": {
      "text/plain": [
       "['a', 'c', 'e']"
      ]
     },
     "execution_count": 83,
     "metadata": {},
     "output_type": "execute_result"
    }
   ],
   "source": [
    "lst = list('abcdefgh')\n",
    "lst[0:6:2]"
   ]
  },
  {
   "cell_type": "code",
   "execution_count": 8,
   "id": "f4e90c1f-0288-4215-b72e-d1e273412986",
   "metadata": {},
   "outputs": [
    {
     "data": {
      "text/plain": [
       "['b', 'd', 'f', 'h']"
      ]
     },
     "execution_count": 8,
     "metadata": {},
     "output_type": "execute_result"
    }
   ],
   "source": [
    "#짝수 홀수번째 원소 추출\n",
    "lst[1::2]"
   ]
  },
  {
   "cell_type": "code",
   "execution_count": 9,
   "id": "8acd104d-29b6-4249-9631-91ec9bc6317c",
   "metadata": {},
   "outputs": [
    {
     "data": {
      "text/plain": [
       "['h', 'g', 'f', 'e', 'd', 'c', 'b', 'a']"
      ]
     },
     "execution_count": 9,
     "metadata": {},
     "output_type": "execute_result"
    }
   ],
   "source": [
    "#step이 -1이라면? #reverse와 비교했을때 역방향 배열기능은 같지만 자체 변환이지만 lst는 리스트 자체가 변하지 않음\n",
    "lst[::-1]"
   ]
  },
  {
   "cell_type": "code",
   "execution_count": 10,
   "id": "4a77a9fc-e8f5-430b-976b-ca8b29c8db7e",
   "metadata": {},
   "outputs": [
    {
     "data": {
      "text/plain": [
       "['a', 'b', 'c', 'd', 'e', 'f', 'g', 'h']"
      ]
     },
     "execution_count": 10,
     "metadata": {},
     "output_type": "execute_result"
    }
   ],
   "source": [
    "lst"
   ]
  },
  {
   "cell_type": "code",
   "execution_count": 19,
   "id": "771a2752-b088-429e-ab41-594dfd2d6789",
   "metadata": {},
   "outputs": [
    {
     "data": {
      "text/plain": [
       "['h']"
      ]
     },
     "execution_count": 19,
     "metadata": {},
     "output_type": "execute_result"
    }
   ],
   "source": [
    "lst[-1::2] #이게 하나만 나오는 이유는 마지막 원소에서 순방향으로 2칸씩 가라는건데 마지막원소라 더이상 갈수가 없음 "
   ]
  },
  {
   "cell_type": "code",
   "execution_count": 20,
   "id": "d2d7a17c-be52-447c-9f01-3a6fe37d36f4",
   "metadata": {},
   "outputs": [
    {
     "data": {
      "text/plain": [
       "['a', 'b', 'c', 'd', 'e', 'f', 'g', 'h']"
      ]
     },
     "execution_count": 20,
     "metadata": {},
     "output_type": "execute_result"
    }
   ],
   "source": [
    "lst"
   ]
  },
  {
   "cell_type": "code",
   "execution_count": 25,
   "id": "3b67426e-3355-4ddb-b21b-b66d32771a9b",
   "metadata": {},
   "outputs": [
    {
     "data": {
      "text/plain": [
       "['h', 'g', 'f', 'e', 'd', 'c', 'b', 'a']"
      ]
     },
     "execution_count": 25,
     "metadata": {},
     "output_type": "execute_result"
    }
   ],
   "source": [
    "lst[-1::-1] "
   ]
  },
  {
   "cell_type": "code",
   "execution_count": 28,
   "id": "5948f972-8766-4fce-a02f-01645c0ff69e",
   "metadata": {},
   "outputs": [
    {
     "data": {
      "text/plain": [
       "0"
      ]
     },
     "execution_count": 28,
     "metadata": {},
     "output_type": "execute_result"
    }
   ],
   "source": [
    "12%4 # %는 나머지를 계산하는 연산자"
   ]
  },
  {
   "cell_type": "code",
   "execution_count": 39,
   "id": "23c84058-8f73-428f-bfaa-c3b353057f62",
   "metadata": {},
   "outputs": [],
   "source": [
    "#짝수/ 홀수 구분하는 판별하는 함수 만들기\n",
    "def test(a):\n",
    "    return 'even' if a%2==0 else 'odd' "
   ]
  },
  {
   "cell_type": "code",
   "execution_count": 42,
   "id": "5efb6f71-9076-428f-941f-311b1f1e582a",
   "metadata": {},
   "outputs": [
    {
     "data": {
      "text/plain": [
       "['odd', 'even', 'odd', 'even', 'odd', 'even', 'odd', 'even', 'odd', 'even']"
      ]
     },
     "execution_count": 42,
     "metadata": {},
     "output_type": "execute_result"
    }
   ],
   "source": [
    "[test(a) for a in range(1,11)]"
   ]
  },
  {
   "cell_type": "code",
   "execution_count": 71,
   "id": "9e971901-d59d-4e9c-8525-ad05829a2c69",
   "metadata": {},
   "outputs": [],
   "source": [
    "# 길이가 1인것과 1차 자료형과 0차원 자료형은 다른것임\n",
    "a = 'h'\n",
    "a = [1]\n",
    "a = (1,)\n",
    "a=range(1)"
   ]
  },
  {
   "cell_type": "code",
   "execution_count": null,
   "id": "f6c71dc1-c78c-439c-a8e5-43e5d9758808",
   "metadata": {},
   "outputs": [],
   "source": [
    "# 길이가 0인 1차원 자료형도 존재함\n",
    "# size()<-원소전체/ len()<-첫번째 차원의 원소수"
   ]
  },
  {
   "cell_type": "code",
   "execution_count": 79,
   "id": "af367876-7397-43ff-8e4f-5af729574aca",
   "metadata": {},
   "outputs": [
    {
     "data": {
      "text/plain": [
       "[49]"
      ]
     },
     "execution_count": 79,
     "metadata": {},
     "output_type": "execute_result"
    }
   ],
   "source": [
    "#규빈의 점수 추출해보기\n",
    "score=[['guebin',49],['iu',80]]\n",
    "[score [i][1] for i in range(len(score)) if score[i][0] =='guebin']"
   ]
  },
  {
   "cell_type": "markdown",
   "id": "334d0470-0089-45a9-beee-d998807ae411",
   "metadata": {},
   "source": [
    "### 4주차: 딕셔너리,집합"
   ]
  },
  {
   "cell_type": "code",
   "execution_count": null,
   "id": "989efcbc-5127-4bd1-97a3-98d3d7449c18",
   "metadata": {},
   "outputs": [],
   "source": [
    "#items()는 딕셔너리의 (키,값)을 리턴한다"
   ]
  },
  {
   "cell_type": "code",
   "execution_count": 90,
   "id": "211c6a77-f6cd-4646-a349-f8dfce03f7b0",
   "metadata": {},
   "outputs": [
    {
     "name": "stdout",
     "output_type": "stream",
     "text": [
      "guebin의 점수는 49점 입니다.\n",
      "iu의 점수는 80점 입니다.\n"
     ]
    }
   ],
   "source": [
    "score = {'guebin':49, 'iu':80} \n",
    "\n",
    "for i,j in score.items():\n",
    "    print(i +'의 점수는 %s점 입니다.' % j)"
   ]
  },
  {
   "cell_type": "code",
   "execution_count": null,
   "id": "734a1609-9a05-4657-95dc-03fbf6c6cd78",
   "metadata": {},
   "outputs": [],
   "source": [
    "### 딕셔너리 고급 (키는 문자열만 되는게 아님)"
   ]
  },
  {
   "cell_type": "code",
   "execution_count": 105,
   "id": "6129ca40-90fe-463b-bac8-b1b8256bf40d",
   "metadata": {},
   "outputs": [
    {
     "data": {
      "text/plain": [
       "49"
      ]
     },
     "execution_count": 105,
     "metadata": {},
     "output_type": "execute_result"
    }
   ],
   "source": [
    "line = {0:49, 1:80, 2:99} # key를 0,1,2로 \n",
    "line[0] # 키로 인덱싱을 하고 있는데 마치 원소의 위치로 인덱싱을 하는 기분!! 하지만 원소의 위치로 인덱싱 안됨!"
   ]
  },
  {
   "cell_type": "code",
   "execution_count": 106,
   "id": "8d094c98-9562-4104-85b6-df54364012a7",
   "metadata": {},
   "outputs": [
    {
     "data": {
      "text/plain": [
       "(1, 1867674708272)"
      ]
     },
     "execution_count": 106,
     "metadata": {},
     "output_type": "execute_result"
    }
   ],
   "source": [
    "a=1 #???\n",
    "a,id(a)"
   ]
  },
  {
   "cell_type": "code",
   "execution_count": 110,
   "id": "937fca4c-19ef-40fd-ac97-c4fbf23a6602",
   "metadata": {},
   "outputs": [],
   "source": [
    "#집합 \n",
    "day1 = {'notebook','desktop'}\n",
    "day2 = {'notebook','ipad'}"
   ]
  },
  {
   "cell_type": "code",
   "execution_count": 111,
   "id": "3267c07d-a4a7-492c-99bd-0720d7f1e380",
   "metadata": {},
   "outputs": [
    {
     "data": {
      "text/plain": [
       "{'desktop', 'ipad', 'notebook'}"
      ]
     },
     "execution_count": 111,
     "metadata": {},
     "output_type": "execute_result"
    }
   ],
   "source": [
    "day1 | day2 #합지합"
   ]
  },
  {
   "cell_type": "code",
   "execution_count": 112,
   "id": "589dfd4e-5356-48f5-a251-9a2ae66a57d8",
   "metadata": {},
   "outputs": [
    {
     "data": {
      "text/plain": [
       "{'notebook'}"
      ]
     },
     "execution_count": 112,
     "metadata": {},
     "output_type": "execute_result"
    }
   ],
   "source": [
    "day1 & day2 # 교집합"
   ]
  },
  {
   "cell_type": "code",
   "execution_count": 113,
   "id": "baa3809c-0d4f-4197-974e-fd24e04315ad",
   "metadata": {},
   "outputs": [
    {
     "data": {
      "text/plain": [
       "{'desktop'}"
      ]
     },
     "execution_count": 113,
     "metadata": {},
     "output_type": "execute_result"
    }
   ],
   "source": [
    "day1 - day2 # 차집합 "
   ]
  },
  {
   "cell_type": "code",
   "execution_count": 114,
   "id": "858ac52e-d027-44c5-8ce3-33b3aa581bc7",
   "metadata": {},
   "outputs": [],
   "source": [
    "#부분집합\n",
    "day1 = {'notebook', 'desktop'}\n",
    "day2 = day1 | {'ipad'} "
   ]
  },
  {
   "cell_type": "code",
   "execution_count": 116,
   "id": "f966dbee-b472-4569-80da-2f4b52174003",
   "metadata": {},
   "outputs": [
    {
     "data": {
      "text/plain": [
       "True"
      ]
     },
     "execution_count": 116,
     "metadata": {},
     "output_type": "execute_result"
    }
   ],
   "source": [
    "day1 < day2 # day1는 day2의 부분집합인가?"
   ]
  },
  {
   "cell_type": "code",
   "execution_count": 119,
   "id": "0345b41a-0854-4ab5-883b-b4859da730f9",
   "metadata": {},
   "outputs": [
    {
     "data": {
      "text/plain": [
       "{'desktop', 'ipad', 'notebook'}"
      ]
     },
     "execution_count": 119,
     "metadata": {},
     "output_type": "execute_result"
    }
   ],
   "source": [
    "day1.union(day2) #합집합"
   ]
  },
  {
   "cell_type": "markdown",
   "id": "13eba2c8-f0dc-4607-bfba-f656da718741",
   "metadata": {},
   "source": [
    "### 5주차: 소스코드, 모듈, 패키지, 라이브러리, 브로드캐스팅, 선언, 인덱싱"
   ]
  },
  {
   "cell_type": "code",
   "execution_count": 126,
   "id": "9033d1af-afda-457f-bbcd-aff70cbef9b7",
   "metadata": {},
   "outputs": [],
   "source": [
    "# 넘파이 처럼 연산이 가능한(원소추가가 아닌) 함수를 만들자\n",
    "def vec1_add(a,b):\n",
    "    return [a[0]+b[0], a[1]+b[1]]"
   ]
  },
  {
   "cell_type": "code",
   "execution_count": 127,
   "id": "7ee57c9d-e535-44ca-87b2-1d50f96fc0b1",
   "metadata": {},
   "outputs": [
    {
     "data": {
      "text/plain": [
       "[4, 6]"
      ]
     },
     "execution_count": 127,
     "metadata": {},
     "output_type": "execute_result"
    }
   ],
   "source": [
    "a=[1,2]\n",
    "b=[3,4]\n",
    "\n",
    "vec1_add(a,b)"
   ]
  },
  {
   "cell_type": "code",
   "execution_count": 134,
   "id": "3aad1293-87b8-4d00-b272-1aca49944159",
   "metadata": {},
   "outputs": [
    {
     "ename": "ModuleNotFoundError",
     "evalue": "No module named 'myfuns'",
     "output_type": "error",
     "traceback": [
      "\u001b[1;31m---------------------------------------------------------------------------\u001b[0m",
      "\u001b[1;31mModuleNotFoundError\u001b[0m                       Traceback (most recent call last)",
      "\u001b[1;32m~\\AppData\\Local\\Temp/ipykernel_27212/3683444949.py\u001b[0m in \u001b[0;36m<module>\u001b[1;34m\u001b[0m\n\u001b[0;32m      1\u001b[0m \u001b[1;31m# 자주쓰는 함수를 컴퓨터에 저장할 수 있음\u001b[0m\u001b[1;33m\u001b[0m\u001b[1;33m\u001b[0m\u001b[0m\n\u001b[1;32m----> 2\u001b[1;33m \u001b[1;32mimport\u001b[0m \u001b[0mmyfuns\u001b[0m \u001b[1;31m# 설치에서 왜 오류가 나는지는 모르겠다,,\u001b[0m\u001b[1;33m\u001b[0m\u001b[1;33m\u001b[0m\u001b[0m\n\u001b[0m\u001b[0;32m      3\u001b[0m \u001b[0mmyfuns\u001b[0m\u001b[1;33m.\u001b[0m\u001b[0mvec1_add\u001b[0m\u001b[1;33m(\u001b[0m\u001b[1;33m[\u001b[0m\u001b[1;36m1\u001b[0m\u001b[1;33m,\u001b[0m\u001b[1;36m2\u001b[0m\u001b[1;33m]\u001b[0m\u001b[1;33m,\u001b[0m\u001b[1;33m[\u001b[0m\u001b[1;36m3\u001b[0m\u001b[1;33m,\u001b[0m\u001b[1;36m4\u001b[0m\u001b[1;33m]\u001b[0m\u001b[1;33m)\u001b[0m\u001b[1;33m\u001b[0m\u001b[1;33m\u001b[0m\u001b[0m\n",
      "\u001b[1;31mModuleNotFoundError\u001b[0m: No module named 'myfuns'"
     ]
    }
   ],
   "source": [
    "# 자주쓰는 함수를 컴퓨터에 저장할 수 있음\n",
    "import myfuns # 설치에서 왜 오류가 나는지는 모르겠다,, 음 이거 더 있는데 안쓸것 같아서 안함\n",
    "myfuns.vec1_add([1,2],[3,4])"
   ]
  },
  {
   "cell_type": "code",
   "execution_count": 138,
   "id": "ca66dd71-0b81-401d-b10a-c88b2f4ec91a",
   "metadata": {},
   "outputs": [],
   "source": [
    "#브로드 캐스팅(넘파이에선 연산기능이 수행되지만 리스트에선 원소배열에 영향을 주게 됨)\n",
    "a = np.array([1,2,3])\n",
    "b = [1,2,3]"
   ]
  },
  {
   "cell_type": "code",
   "execution_count": 139,
   "id": "603db9aa-f9d9-4825-af10-32d8803ea287",
   "metadata": {},
   "outputs": [
    {
     "data": {
      "text/plain": [
       "array([2, 3, 4])"
      ]
     },
     "execution_count": 139,
     "metadata": {},
     "output_type": "execute_result"
    }
   ],
   "source": [
    "a+1 #덧셈"
   ]
  },
  {
   "cell_type": "code",
   "execution_count": 141,
   "id": "c10e9eeb-f6f9-4cf4-89fe-746467a36d57",
   "metadata": {},
   "outputs": [
    {
     "ename": "NameError",
     "evalue": "name 'l' is not defined",
     "output_type": "error",
     "traceback": [
      "\u001b[1;31m---------------------------------------------------------------------------\u001b[0m",
      "\u001b[1;31mNameError\u001b[0m                                 Traceback (most recent call last)",
      "\u001b[1;32m~\\AppData\\Local\\Temp/ipykernel_27212/254793966.py\u001b[0m in \u001b[0;36m<module>\u001b[1;34m\u001b[0m\n\u001b[1;32m----> 1\u001b[1;33m \u001b[0ml\u001b[0m\u001b[1;33m+\u001b[0m\u001b[1;36m1\u001b[0m \u001b[1;31m#연산이 원소 배열에 영향\u001b[0m\u001b[1;33m\u001b[0m\u001b[1;33m\u001b[0m\u001b[0m\n\u001b[0m",
      "\u001b[1;31mNameError\u001b[0m: name 'l' is not defined"
     ]
    }
   ],
   "source": [
    "l+1 #원소추가"
   ]
  },
  {
   "cell_type": "code",
   "execution_count": 3,
   "id": "17647889-c31d-4e31-931e-651267ad8b0d",
   "metadata": {},
   "outputs": [
    {
     "data": {
      "text/plain": [
       "array([[ 1,  2,  3,  4],\n",
       "       [-1, -2, -3, -4],\n",
       "       [ 5,  6,  7,  8],\n",
       "       [-5, -6, -7, -8]])"
      ]
     },
     "execution_count": 3,
     "metadata": {},
     "output_type": "execute_result"
    }
   ],
   "source": [
    "A = [[1,2,3,4],[-1,-2,-3,-4],[5,6,7,8],[-5,-6,-7,-8]]\n",
    "A2 = np.array(A) \n",
    "A2 "
   ]
  },
  {
   "cell_type": "code",
   "execution_count": 4,
   "id": "d112c085-9a57-45f5-8a52-79f7989c4d04",
   "metadata": {},
   "outputs": [
    {
     "data": {
      "text/plain": [
       "array([1, 2])"
      ]
     },
     "execution_count": 4,
     "metadata": {},
     "output_type": "execute_result"
    }
   ],
   "source": [
    "A2[0,0:2] #넘파이로 하면 A2[0][0:2]로 안나타내도 됨"
   ]
  },
  {
   "cell_type": "code",
   "execution_count": 5,
   "id": "c62d386d-c6a2-408b-ac0c-f7c0c990f1c6",
   "metadata": {},
   "outputs": [
    {
     "data": {
      "text/plain": [
       "array([[ 1,  3],\n",
       "       [-1, -3]])"
      ]
     },
     "execution_count": 5,
     "metadata": {},
     "output_type": "execute_result"
    }
   ],
   "source": [
    "A2[0:2,[0,2]] # 1행~2행 //  1열,3열"
   ]
  },
  {
   "cell_type": "code",
   "execution_count": 6,
   "id": "607a9362-17f9-4c91-a3cc-b29e75917970",
   "metadata": {},
   "outputs": [
    {
     "data": {
      "text/plain": [
       "array([0., 0., 0.])"
      ]
     },
     "execution_count": 6,
     "metadata": {},
     "output_type": "execute_result"
    }
   ],
   "source": [
    "np.zeros(3) # 대신에 ones 을 넣으면 1로 채워함"
   ]
  },
  {
   "cell_type": "code",
   "execution_count": 47,
   "id": "bd897d6b-767f-42bd-a06e-69b8b5b1c7f8",
   "metadata": {},
   "outputs": [
    {
     "data": {
      "text/plain": [
       "array([0.        , 0.09090909, 0.18181818, 0.27272727, 0.36363636,\n",
       "       0.45454545, 0.54545455, 0.63636364, 0.72727273, 0.81818182,\n",
       "       0.90909091, 1.        ])"
      ]
     },
     "execution_count": 47,
     "metadata": {},
     "output_type": "execute_result"
    }
   ],
   "source": [
    "np.linspace(0,1,12) #0에서 시작하고 1에서 끝남(양 끝점 모두 포함)"
   ]
  },
  {
   "cell_type": "code",
   "execution_count": 7,
   "id": "d1f3d137-7fac-45a8-b32e-71325cbb55a7",
   "metadata": {},
   "outputs": [
    {
     "data": {
      "text/plain": [
       "array([[ 1,  2,  3,  4, -1, -2, -3, -4],\n",
       "       [ 5,  6,  7,  8, -5, -6, -7, -8]])"
      ]
     },
     "execution_count": 7,
     "metadata": {},
     "output_type": "execute_result"
    }
   ],
   "source": [
    "A2.reshape(2,8) #A2가 넘파이 형태말고 리스트 형태면 리쉐잎 안됨\n",
    "                #둘중 하나가 -1이면 -1은 제일 후자로 보고 우선사항 선택후 전개하면 됨"
   ]
  },
  {
   "cell_type": "code",
   "execution_count": 8,
   "id": "57c6266d-b1e8-4733-8e49-c5b35dfab83a",
   "metadata": {},
   "outputs": [],
   "source": [
    "# 리스트나 튜플 넘파이형 변환 가능 \n",
    "# 리스트는 정수배열에 의한, 부울 값에 의한 인덱싱(번호 지정) 및 슬라이싱(범위지정`:`)이 불가, 넘파이에선 가능\n",
    "# 아래는 인덱싱에 관한 예시"
   ]
  },
  {
   "cell_type": "code",
   "execution_count": 2,
   "id": "16d145dd-2f67-4b46-9a2a-8eb37603f073",
   "metadata": {},
   "outputs": [],
   "source": [
    "a=[1,2,3,4,5] "
   ]
  },
  {
   "cell_type": "code",
   "execution_count": 7,
   "id": "769214ae-8e40-4a3c-8da6-dcbd8b73b231",
   "metadata": {},
   "outputs": [
    {
     "ename": "TypeError",
     "evalue": "list indices must be integers or slices, not list",
     "output_type": "error",
     "traceback": [
      "\u001b[1;31m---------------------------------------------------------------------------\u001b[0m",
      "\u001b[1;31mTypeError\u001b[0m                                 Traceback (most recent call last)",
      "\u001b[1;32m~\\AppData\\Local\\Temp/ipykernel_10888/3950708539.py\u001b[0m in \u001b[0;36m<module>\u001b[1;34m\u001b[0m\n\u001b[1;32m----> 1\u001b[1;33m \u001b[0ma\u001b[0m\u001b[1;33m[\u001b[0m\u001b[1;33m[\u001b[0m\u001b[1;36m1\u001b[0m\u001b[1;33m,\u001b[0m\u001b[1;36m3\u001b[0m\u001b[1;33m]\u001b[0m\u001b[1;33m]\u001b[0m\u001b[1;33m\u001b[0m\u001b[1;33m\u001b[0m\u001b[0m\n\u001b[0m",
      "\u001b[1;31mTypeError\u001b[0m: list indices must be integers or slices, not list"
     ]
    }
   ],
   "source": [
    "a[[1,3]] "
   ]
  },
  {
   "cell_type": "code",
   "execution_count": 12,
   "id": "5ee0d3ba-f7b1-4149-bd01-a56cb996f0c3",
   "metadata": {},
   "outputs": [
    {
     "data": {
      "text/plain": [
       "array([2, 4])"
      ]
     },
     "execution_count": 12,
     "metadata": {},
     "output_type": "execute_result"
    }
   ],
   "source": [
    "a=np.array(a)\n",
    "a[[1,3]]"
   ]
  },
  {
   "cell_type": "code",
   "execution_count": 13,
   "id": "7428242e-4622-49d3-9400-bce393b9de68",
   "metadata": {},
   "outputs": [
    {
     "data": {
      "text/plain": [
       "array([1, 5])"
      ]
     },
     "execution_count": 13,
     "metadata": {},
     "output_type": "execute_result"
    }
   ],
   "source": [
    "#부울 값에 의한 인덱싱\n",
    "a[[True, False, False, False, True]]"
   ]
  },
  {
   "cell_type": "code",
   "execution_count": 14,
   "id": "284a9cd1-2ccb-4737-aed9-7cc445e33097",
   "metadata": {},
   "outputs": [
    {
     "data": {
      "text/plain": [
       "array([1, 2, 3, 4, 5])"
      ]
     },
     "execution_count": 14,
     "metadata": {},
     "output_type": "execute_result"
    }
   ],
   "source": [
    "a"
   ]
  },
  {
   "cell_type": "code",
   "execution_count": 15,
   "id": "a6d9e603-605c-46dc-a0dc-2c0826af1e21",
   "metadata": {},
   "outputs": [
    {
     "data": {
      "text/plain": [
       "array([ True,  True,  True, False, False])"
      ]
     },
     "execution_count": 15,
     "metadata": {},
     "output_type": "execute_result"
    }
   ],
   "source": [
    "#이를 응용하면\n",
    "a<4"
   ]
  },
  {
   "cell_type": "code",
   "execution_count": 16,
   "id": "cc924d92-406f-4a7f-a7da-2fb6bb96a307",
   "metadata": {},
   "outputs": [
    {
     "data": {
      "text/plain": [
       "array([1, 2, 3])"
      ]
     },
     "execution_count": 16,
     "metadata": {},
     "output_type": "execute_result"
    }
   ],
   "source": [
    "a[a<4] #넘파이라 가능한거지 a가 리스트였으면 불가"
   ]
  },
  {
   "cell_type": "code",
   "execution_count": null,
   "id": "9ed16e46-e4ca-4fc5-bb38-e68582ae45c9",
   "metadata": {},
   "outputs": [],
   "source": [
    "#리스트로 만들수 있는 차원은 1차원이 끝이고 나머지는 넘파이로 만들어)reshape,ndim)줘야 하나.?"
   ]
  },
  {
   "cell_type": "code",
   "execution_count": 48,
   "id": "f7cc51bb-f7ed-46c4-8540-11bd846d00d8",
   "metadata": {},
   "outputs": [
    {
     "data": {
      "text/plain": [
       "array([[1, 0, 0, 0],\n",
       "       [0, 2, 0, 0],\n",
       "       [0, 0, 3, 0],\n",
       "       [0, 0, 0, 4]])"
      ]
     },
     "execution_count": 48,
     "metadata": {},
     "output_type": "execute_result"
    }
   ],
   "source": [
    "np.diag([1,2,3,4]) #대각행렬 생성, np.eye()도 대각행렬인데 1로 채워진."
   ]
  },
  {
   "cell_type": "code",
   "execution_count": 5,
   "id": "62bec7d1-db83-4abf-895f-92f5518f4f91",
   "metadata": {},
   "outputs": [
    {
     "data": {
      "text/plain": [
       "array([ 0.3132359 ,  0.47422633, -2.46271786,  0.07811253, -0.3439447 ,\n",
       "        0.49759519,  0.14462058,  0.38401348, -1.010647  ,  0.22439159])"
      ]
     },
     "execution_count": 5,
     "metadata": {},
     "output_type": "execute_result"
    }
   ],
   "source": [
    "np.random.randn(10) #표준정규분포에서 10개를 뽑음"
   ]
  },
  {
   "cell_type": "code",
   "execution_count": 6,
   "id": "e0384945-c84b-410b-b79f-9bce432e8232",
   "metadata": {},
   "outputs": [
    {
     "data": {
      "text/plain": [
       "array([[0.18909853, 0.48816581, 0.506716  , 0.69424046, 0.84877677],\n",
       "       [0.43758347, 0.11313174, 0.04556228, 0.84491057, 0.91404871]])"
      ]
     },
     "execution_count": 6,
     "metadata": {},
     "output_type": "execute_result"
    }
   ],
   "source": [
    "np.random.rand(10).reshape(2,5) #0~1사이에서 1무작위로 0개를 뽑은 후 재배열"
   ]
  },
  {
   "cell_type": "code",
   "execution_count": 7,
   "id": "1ab35c16-f744-48f3-9afe-ce3232ae426a",
   "metadata": {},
   "outputs": [
    {
     "data": {
      "text/plain": [
       "array([[0, 1],\n",
       "       [2, 3]])"
      ]
     },
     "execution_count": 7,
     "metadata": {},
     "output_type": "execute_result"
    }
   ],
   "source": [
    "np.arange(4).reshape(2,2) #행렬에 관한 기능"
   ]
  },
  {
   "cell_type": "code",
   "execution_count": null,
   "id": "c4702963-dd87-4b6b-9bc5-5846b800b0f9",
   "metadata": {},
   "outputs": [],
   "source": [
    "# `@` 행렬곱 연산자"
   ]
  },
  {
   "cell_type": "code",
   "execution_count": null,
   "id": "322cd2cb-6d20-4012-9cee-2d3e12a7c6c4",
   "metadata": {},
   "outputs": [],
   "source": [
    "# 기본 데이터 프레임에서는 axis=0이 기본 가로, axis=1이 세로\n",
    "# 행렬에서 합칠때 axis=0(기본),1,2,3 등 되는데 "
   ]
  },
  {
   "cell_type": "code",
   "execution_count": 17,
   "id": "1a98156d-d2f8-4b17-a25f-07cd2833954a",
   "metadata": {},
   "outputs": [
    {
     "data": {
      "text/plain": [
       "array([[0, 1],\n",
       "       [2, 3]])"
      ]
     },
     "execution_count": 17,
     "metadata": {},
     "output_type": "execute_result"
    }
   ],
   "source": [
    "A = np.arange(4).reshape(2,2)\n",
    "A"
   ]
  },
  {
   "cell_type": "code",
   "execution_count": 18,
   "id": "d21fd3d9-9c49-41cf-80a1-c3ea0ef88783",
   "metadata": {},
   "outputs": [
    {
     "data": {
      "text/plain": [
       "array([[0, 2],\n",
       "       [1, 3]])"
      ]
     },
     "execution_count": 18,
     "metadata": {},
     "output_type": "execute_result"
    }
   ],
   "source": [
    "A.T #T는 전치의 기능을 함"
   ]
  },
  {
   "cell_type": "code",
   "execution_count": 20,
   "id": "7aa29f77-4b53-460d-9868-aab5e844deba",
   "metadata": {},
   "outputs": [
    {
     "data": {
      "text/plain": [
       "array([[-1.5,  0.5],\n",
       "       [ 1. ,  0. ]])"
      ]
     },
     "execution_count": 20,
     "metadata": {},
     "output_type": "execute_result"
    }
   ],
   "source": [
    "np.linalg.inv(A) #역행렬"
   ]
  },
  {
   "cell_type": "code",
   "execution_count": 33,
   "id": "9dd8833a-0ed8-4685-87fc-53fdb82bbf32",
   "metadata": {},
   "outputs": [
    {
     "data": {
      "text/plain": [
       "(2, 2)"
      ]
     },
     "execution_count": 33,
     "metadata": {},
     "output_type": "execute_result"
    }
   ],
   "source": [
    "#넘파이배열의 차원은 .shape으로 확인가능\n",
    "A.shape"
   ]
  },
  {
   "cell_type": "markdown",
   "id": "a3f57912-78ec-4d82-84b2-bb8c661386c1",
   "metadata": {},
   "source": [
    "* np.concatenate([a,b],axis=1) 할때 a,b가 꼭 같은 차원일 필요는 없음"
   ]
  },
  {
   "cell_type": "markdown",
   "id": "10ae13e0-b190-4d19-93b8-64c4378ae0ac",
   "metadata": {},
   "source": [
    "### 6주차: 행렬관련"
   ]
  },
  {
   "cell_type": "code",
   "execution_count": 62,
   "id": "b457eb69-52d6-4cd4-8fa8-47cfb7622173",
   "metadata": {},
   "outputs": [
    {
     "data": {
      "text/plain": [
       "(array([1, 2, 3]), array([-1, -2, -3]))"
      ]
     },
     "execution_count": 62,
     "metadata": {},
     "output_type": "execute_result"
    }
   ],
   "source": [
    "a = np.array([1,2,3])\n",
    "b = -a\n",
    "a,b"
   ]
  },
  {
   "cell_type": "code",
   "execution_count": 63,
   "id": "3c7c259d-d31a-4a2d-86a9-6a1f17ed8108",
   "metadata": {},
   "outputs": [
    {
     "ename": "AxisError",
     "evalue": "axis 1 is out of bounds for array of dimension 1",
     "output_type": "error",
     "traceback": [
      "\u001b[1;31m---------------------------------------------------------------------------\u001b[0m",
      "\u001b[1;31mAxisError\u001b[0m                                 Traceback (most recent call last)",
      "\u001b[1;32m~\\AppData\\Local\\Temp/ipykernel_10888/2352848858.py\u001b[0m in \u001b[0;36m<module>\u001b[1;34m\u001b[0m\n\u001b[1;32m----> 1\u001b[1;33m \u001b[0mnp\u001b[0m\u001b[1;33m.\u001b[0m\u001b[0mconcatenate\u001b[0m\u001b[1;33m(\u001b[0m\u001b[1;33m[\u001b[0m\u001b[0ma\u001b[0m\u001b[1;33m,\u001b[0m\u001b[0mb\u001b[0m\u001b[1;33m]\u001b[0m\u001b[1;33m,\u001b[0m \u001b[0maxis\u001b[0m\u001b[1;33m=\u001b[0m\u001b[1;36m1\u001b[0m\u001b[1;33m)\u001b[0m\u001b[1;33m\u001b[0m\u001b[1;33m\u001b[0m\u001b[0m\n\u001b[0m",
      "\u001b[1;32m<__array_function__ internals>\u001b[0m in \u001b[0;36mconcatenate\u001b[1;34m(*args, **kwargs)\u001b[0m\n",
      "\u001b[1;31mAxisError\u001b[0m: axis 1 is out of bounds for array of dimension 1"
     ]
    }
   ],
   "source": [
    "np.concatenate([a,b], axis=1)"
   ]
  },
  {
   "cell_type": "code",
   "execution_count": 65,
   "id": "6b424752-e1ed-486c-b0a9-c38df65ea8ae",
   "metadata": {},
   "outputs": [
    {
     "data": {
      "text/plain": [
       "array([[ 1, -1],\n",
       "       [ 2, -2],\n",
       "       [ 3, -3]])"
      ]
     },
     "execution_count": 65,
     "metadata": {},
     "output_type": "execute_result"
    }
   ],
   "source": [
    "a=a.reshape(3,1)\n",
    "b=-a\n",
    "np.concatenate([a,b], axis=1) # 이 기능을 간단히 할수 있는게 stack"
   ]
  },
  {
   "cell_type": "code",
   "execution_count": 69,
   "id": "31997896-aeac-46de-a610-c5a806622b75",
   "metadata": {},
   "outputs": [],
   "source": [
    "a = np.array([1,2,3]) #이런 배열이면 보통 옆으로 붙이는 axis=1가 적용되지 않는 배열을 가져서\n",
    "                      #(concat은 축 유지, stack은 축 추가하면서 결합을 하기 때문임)\n",
    "b = -a                #reshape으로 배열을 바꿔주고 concat을 해야하는데 stack은 한번에 할수 있어서 간편                "
   ]
  },
  {
   "cell_type": "code",
   "execution_count": 70,
   "id": "28092702-6157-4c2a-a1eb-ca48937ac4e1",
   "metadata": {},
   "outputs": [
    {
     "data": {
      "text/plain": [
       "array([[ 1, -1],\n",
       "       [ 2, -2],\n",
       "       [ 3, -3]])"
      ]
     },
     "execution_count": 70,
     "metadata": {},
     "output_type": "execute_result"
    }
   ],
   "source": [
    "np.stack([a,b],axis=1)"
   ]
  },
  {
   "cell_type": "code",
   "execution_count": 79,
   "id": "a6ecd502-09c4-4392-bbd5-c4c39f93530e",
   "metadata": {},
   "outputs": [],
   "source": [
    "#고차원으로 보기\n",
    "a=np.arange(3*4*5).reshape(3,4,5) \n",
    "b=-a"
   ]
  },
  {
   "cell_type": "code",
   "execution_count": 80,
   "id": "b253ea2b-a808-40b2-b559-108a777fad4f",
   "metadata": {},
   "outputs": [
    {
     "data": {
      "text/plain": [
       "((3, 4, 5), (3, 4, 5))"
      ]
     },
     "execution_count": 80,
     "metadata": {},
     "output_type": "execute_result"
    }
   ],
   "source": [
    "a.shape, b.shape"
   ]
  },
  {
   "cell_type": "code",
   "execution_count": 81,
   "id": "6c0737f8-80a0-48c3-9e84-07c5d3c8e2d7",
   "metadata": {},
   "outputs": [
    {
     "data": {
      "text/plain": [
       "(2, 3, 4, 5)"
      ]
     },
     "execution_count": 81,
     "metadata": {},
     "output_type": "execute_result"
    }
   ],
   "source": [
    "np.stack([a,b],axis=0).shape # (3,4,5) => (1,3,4,5) // 첫 위치에 축이 추가되고 스택 "
   ]
  },
  {
   "cell_type": "code",
   "execution_count": 82,
   "id": "505fe9ac-0a26-49ef-a28f-3323baf5e691",
   "metadata": {},
   "outputs": [
    {
     "data": {
      "text/plain": [
       "(3, 2, 4, 5)"
      ]
     },
     "execution_count": 82,
     "metadata": {},
     "output_type": "execute_result"
    }
   ],
   "source": [
    "np.stack([a,b],axis=1).shape # (3,4,5) => (3,1,4,5) // 두번째 위치에 축이 추가되고 스택 "
   ]
  },
  {
   "cell_type": "code",
   "execution_count": 83,
   "id": "901f9538-5282-4fe9-8d1d-090574b0e0dd",
   "metadata": {},
   "outputs": [
    {
     "data": {
      "text/plain": [
       "(3, 4, 2, 5)"
      ]
     },
     "execution_count": 83,
     "metadata": {},
     "output_type": "execute_result"
    }
   ],
   "source": [
    "np.stack([a,b],axis=2).shape # (3,4,5) => (3,4,1,5) // 세번째 위치에 축이 추가되고 스택 "
   ]
  },
  {
   "cell_type": "code",
   "execution_count": 84,
   "id": "a631890d-4609-4fd2-ade1-561d883336a5",
   "metadata": {},
   "outputs": [
    {
     "data": {
      "text/plain": [
       "(3, 4, 5, 2)"
      ]
     },
     "execution_count": 84,
     "metadata": {},
     "output_type": "execute_result"
    }
   ],
   "source": [
    "np.stack([a,b],axis=3).shape # (3,4,5) => (3,4,5,1) // 네번째 위치에 축이 추가되고 스택 "
   ]
  },
  {
   "cell_type": "markdown",
   "id": "eca8ed3f-8bf1-47f1-a73c-2e31e6ddc7da",
   "metadata": {},
   "source": [
    "* np.concatenate 는 축의 총 갯수를 유지하면서 결합, np.stack은 축의 갯수를 하나 증가시키면서 결합"
   ]
  },
  {
   "cell_type": "code",
   "execution_count": 88,
   "id": "f28fb952-bcfe-41d3-99c3-a702cb0b1f32",
   "metadata": {},
   "outputs": [
    {
     "data": {
      "text/plain": [
       "array([[0, 1],\n",
       "       [2, 3],\n",
       "       [4, 5],\n",
       "       [6, 7],\n",
       "       [8, 9]])"
      ]
     },
     "execution_count": 88,
     "metadata": {},
     "output_type": "execute_result"
    }
   ],
   "source": [
    "###sum\n",
    "a=np.array(range(10)).reshape(5,2)\n",
    "a"
   ]
  },
  {
   "cell_type": "code",
   "execution_count": 93,
   "id": "2b0276f0-2050-4288-ab0c-8c9f99d37b51",
   "metadata": {},
   "outputs": [
    {
     "data": {
      "text/plain": [
       "45"
      ]
     },
     "execution_count": 93,
     "metadata": {},
     "output_type": "execute_result"
    }
   ],
   "source": [
    "a.sum() #원소 전체"
   ]
  },
  {
   "cell_type": "code",
   "execution_count": 94,
   "id": "39dd0142-9ca1-4b74-9189-5953d1848bbd",
   "metadata": {},
   "outputs": [
    {
     "data": {
      "text/plain": [
       "array([20, 25])"
      ]
     },
     "execution_count": 94,
     "metadata": {},
     "output_type": "execute_result"
    }
   ],
   "source": [
    "a.sum(axis=0) #.shape 해보면 첫번째 축이 사라져있음"
   ]
  },
  {
   "cell_type": "code",
   "execution_count": 95,
   "id": "f74ddfa7-54a8-4ad5-beea-adb2941ebbfd",
   "metadata": {},
   "outputs": [
    {
     "data": {
      "text/plain": [
       "array([ 1,  5,  9, 13, 17])"
      ]
     },
     "execution_count": 95,
     "metadata": {},
     "output_type": "execute_result"
    }
   ],
   "source": [
    "a.sum(axis=1) #.shape 해보면 두번째 축이 사라져있음"
   ]
  },
  {
   "cell_type": "code",
   "execution_count": null,
   "id": "649d8bbc-a8d6-4608-9cb5-72d2963d8af9",
   "metadata": {},
   "outputs": [],
   "source": [
    "# 풀이 ex)차원이 (5,2) => (5,)로 나와야 한다. (그럼 두번째 축이 삭제되어야 하네?)"
   ]
  },
  {
   "cell_type": "code",
   "execution_count": null,
   "id": "cb55e343-441a-4bf4-823d-88f876e7125c",
   "metadata": {},
   "outputs": [],
   "source": [
    "# 참고로 std는 분포를 n으로 나눈다."
   ]
  },
  {
   "cell_type": "code",
   "execution_count": 96,
   "id": "276ee5d5-fc25-44c3-897d-3820a5ecaaaa",
   "metadata": {},
   "outputs": [
    {
     "data": {
      "text/plain": [
       "1.118033988749895"
      ]
     },
     "execution_count": 96,
     "metadata": {},
     "output_type": "execute_result"
    }
   ],
   "source": [
    "a=np.array([1,2,3,4])\n",
    "\n",
    "a.std() #이거 두개가 같은 결과임\n",
    "np.sqrt(sum((a-a.mean())**2)/4)"
   ]
  },
  {
   "cell_type": "code",
   "execution_count": 97,
   "id": "4d3776bb-37a2-4695-ab76-254eda719a0a",
   "metadata": {},
   "outputs": [
    {
     "data": {
      "text/plain": [
       "1.2909944487358056"
      ]
     },
     "execution_count": 97,
     "metadata": {},
     "output_type": "execute_result"
    }
   ],
   "source": [
    "# 분모를 n-1로 std하는거 \n",
    "a.std(ddof=1)"
   ]
  },
  {
   "cell_type": "code",
   "execution_count": 99,
   "id": "022c1c0b-b9ed-450f-be1f-cd14f57dcd9d",
   "metadata": {},
   "outputs": [
    {
     "data": {
      "text/plain": [
       "array([1, 2, 4, 6, 7])"
      ]
     },
     "execution_count": 99,
     "metadata": {},
     "output_type": "execute_result"
    }
   ],
   "source": [
    "# 차분: 앞전 원소를 뺀거\n",
    "a=np.array([1,2,4,6,7])\n",
    "a"
   ]
  },
  {
   "cell_type": "code",
   "execution_count": 100,
   "id": "076f7537-361c-4813-a815-34e054869d9e",
   "metadata": {},
   "outputs": [
    {
     "data": {
      "text/plain": [
       "array([1, 2, 2, 1])"
      ]
     },
     "execution_count": 100,
     "metadata": {},
     "output_type": "execute_result"
    }
   ],
   "source": [
    "np.diff(a) #1차 차분 "
   ]
  },
  {
   "cell_type": "code",
   "execution_count": 101,
   "id": "c4e0f93a-1489-4cb4-835e-7489ec5c92e4",
   "metadata": {},
   "outputs": [
    {
     "data": {
      "text/plain": [
       "array([ 1,  0, -1])"
      ]
     },
     "execution_count": 101,
     "metadata": {},
     "output_type": "execute_result"
    }
   ],
   "source": [
    "np.diff(np.diff(a)) #2차차분"
   ]
  },
  {
   "cell_type": "code",
   "execution_count": null,
   "id": "72e555b5-3364-4b63-942c-e57a682cb25c",
   "metadata": {},
   "outputs": [],
   "source": [
    "#과제"
   ]
  },
  {
   "cell_type": "code",
   "execution_count": 102,
   "id": "b9a1f4a3-3f10-4ed2-900f-796dbfb082db",
   "metadata": {},
   "outputs": [
    {
     "data": {
      "text/plain": [
       "array([[ 0,  1,  2,  3,  4,  5],\n",
       "       [ 6,  7,  8,  9, 10, 11],\n",
       "       [12, 13, 14, 15, 16, 17],\n",
       "       [18, 19, 20, 21, 22, 23]])"
      ]
     },
     "execution_count": 102,
     "metadata": {},
     "output_type": "execute_result"
    }
   ],
   "source": [
    "a=np.arange(24).reshape(4,6)\n",
    "a"
   ]
  },
  {
   "cell_type": "code",
   "execution_count": 116,
   "id": "7203b113-226a-445a-8108-f91847a62c5d",
   "metadata": {},
   "outputs": [],
   "source": [
    "v=np.diff(a,axis=1) \n",
    "n=np.array([1,1,1,1]).reshape(4,1)"
   ]
  },
  {
   "cell_type": "code",
   "execution_count": 117,
   "id": "bd0514a4-9789-4166-8a11-8c882d0ca8c5",
   "metadata": {},
   "outputs": [
    {
     "data": {
      "text/plain": [
       "array([[1, 1, 1, 1, 1, 1],\n",
       "       [1, 1, 1, 1, 1, 1],\n",
       "       [1, 1, 1, 1, 1, 1],\n",
       "       [1, 1, 1, 1, 1, 1]])"
      ]
     },
     "execution_count": 117,
     "metadata": {},
     "output_type": "execute_result"
    }
   ],
   "source": [
    "np.concatenate([v,n],axis=1)"
   ]
  },
  {
   "cell_type": "markdown",
   "id": "73f626b9-db4a-4256-9935-3d34ab8060c7",
   "metadata": {},
   "source": [
    "### 7주차 넘파이 관련 심화\n",
    "* 통계관련 랜덤함수 부분은 여기 보고 참조하자\n",
    "* https://guebin.github.io/IP2022/2022/04/13/(7%EC%A3%BC%EC%B0%A8)-4%EC%9B%9413%EC%9D%BC.html"
   ]
  },
  {
   "cell_type": "code",
   "execution_count": 118,
   "id": "99bae234-3284-4688-a037-f855448d7b98",
   "metadata": {},
   "outputs": [
    {
     "data": {
      "text/plain": [
       "array([0.92641857, 0.73390987, 1.2411144 , 0.61860971, 1.38280355,\n",
       "       1.51373963, 0.3443592 , 1.49737383, 0.10264539, 0.57466201])"
      ]
     },
     "execution_count": 118,
     "metadata": {},
     "output_type": "execute_result"
    }
   ],
   "source": [
    "#0~2사이에서 10개의 난수 생성\n",
    "np.random.rand(10)*2 "
   ]
  },
  {
   "cell_type": "code",
   "execution_count": 119,
   "id": "0f7a1137-d475-42e1-9a3c-5b9350ed10b8",
   "metadata": {},
   "outputs": [
    {
     "data": {
      "text/plain": [
       "array([1.57258588, 1.69264589, 1.31124862, 1.31212533, 1.48261019,\n",
       "       1.0004822 , 1.87733671, 1.8563102 , 1.97835622, 1.18461215])"
      ]
     },
     "execution_count": 119,
     "metadata": {},
     "output_type": "execute_result"
    }
   ],
   "source": [
    "#1~2사이에서 10개의 난수 생성\n",
    "np.random.rand(10)+1"
   ]
  },
  {
   "cell_type": "code",
   "execution_count": 123,
   "id": "6649ae49-f097-40c5-a626-57a4f675e57d",
   "metadata": {},
   "outputs": [
    {
     "data": {
      "text/plain": [
       "array([1.61549911, 1.87851282, 2.92635303, 1.7046506 , 2.73749974,\n",
       "       1.39056554, 1.43305395, 1.65220629, 1.67276884, 2.27602425])"
      ]
     },
     "execution_count": 123,
     "metadata": {},
     "output_type": "execute_result"
    }
   ],
   "source": [
    "#1~3사이에서 10개의 난수 생성\n",
    "np.random.rand(10)*2+1 # 1~3"
   ]
  },
  {
   "cell_type": "code",
   "execution_count": 132,
   "id": "3ad1c973-412f-4f91-a648-cd6cd82306e2",
   "metadata": {},
   "outputs": [],
   "source": [
    "a=np.array([0,0,0,1,0])"
   ]
  },
  {
   "cell_type": "code",
   "execution_count": 133,
   "id": "c81714bb-f36c-4ca1-832e-938e03e6104e",
   "metadata": {},
   "outputs": [
    {
     "data": {
      "text/plain": [
       "(array([0, 1, 2, 4], dtype=int64),)"
      ]
     },
     "execution_count": 133,
     "metadata": {},
     "output_type": "execute_result"
    }
   ],
   "source": [
    "np.where(a<1)"
   ]
  },
  {
   "cell_type": "code",
   "execution_count": 135,
   "id": "87cdeaa6-7ae4-4951-93fe-356161a0a5f0",
   "metadata": {},
   "outputs": [
    {
     "data": {
      "text/plain": [
       "array([[0],\n",
       "       [1],\n",
       "       [2],\n",
       "       [4]], dtype=int64)"
      ]
     },
     "execution_count": 135,
     "metadata": {},
     "output_type": "execute_result"
    }
   ],
   "source": [
    "np.argwhere(a<1)"
   ]
  },
  {
   "cell_type": "markdown",
   "id": "f82b1e71-6f14-43ee-b455-f83a2db024a9",
   "metadata": {},
   "source": [
    "* np.where: 인덱스의 좌표를 읽는 가독성은 떨어짐. 그런데 조건에 맞는 원소를 출력하거나 처리하는 (특수기능) 목적 사용가능\n",
    "* np.argwhere: 인덱스의 좌표를 읽는 가독성은 좋은 편임. 그런데 조건에 맞는 원소를 출력하거나 처리하는 기능은 떨어짐"
   ]
  },
  {
   "cell_type": "code",
   "execution_count": 136,
   "id": "9c4c449e-5405-423a-b92c-e3726b8f9a2a",
   "metadata": {},
   "outputs": [
    {
     "data": {
      "text/plain": [
       "array([], dtype=int32)"
      ]
     },
     "execution_count": 136,
     "metadata": {},
     "output_type": "execute_result"
    }
   ],
   "source": [
    "a[np.where(a<0)]"
   ]
  },
  {
   "cell_type": "code",
   "execution_count": 137,
   "id": "78738753-887e-4461-adbf-64abe6262db0",
   "metadata": {},
   "outputs": [
    {
     "data": {
      "text/plain": [
       "array([], shape=(0, 1), dtype=int32)"
      ]
     },
     "execution_count": 137,
     "metadata": {},
     "output_type": "execute_result"
    }
   ],
   "source": [
    "a[np.argwhere(a<0)] # 출력불가능"
   ]
  },
  {
   "cell_type": "code",
   "execution_count": 144,
   "id": "47d48d16-ac73-4c53-bb36-89b46beba2fe",
   "metadata": {},
   "outputs": [
    {
     "data": {
      "text/plain": [
       "array(['d', 'd', 'd', '1', 'd'], dtype='<U11')"
      ]
     },
     "execution_count": 144,
     "metadata": {},
     "output_type": "execute_result"
    }
   ],
   "source": [
    "np.where(a<1,'d',a) # a<0을 체크 => 조건에 맞으면 d => 조건에 안맞으면 a "
   ]
  },
  {
   "cell_type": "code",
   "execution_count": null,
   "id": "37baad62-7f2d-42e0-9902-376e3420b55d",
   "metadata": {},
   "outputs": [],
   "source": [
    "#인덱싱 고급"
   ]
  },
  {
   "cell_type": "code",
   "execution_count": 145,
   "id": "9ec7e48e-eff4-4566-894d-34621c15fe5e",
   "metadata": {},
   "outputs": [
    {
     "data": {
      "text/plain": [
       "array([[ 0,  1,  2,  3],\n",
       "       [ 4,  5,  6,  7],\n",
       "       [ 8,  9, 10, 11]])"
      ]
     },
     "execution_count": 145,
     "metadata": {},
     "output_type": "execute_result"
    }
   ],
   "source": [
    "a=np.arange(12).reshape(3,4)\n",
    "a"
   ]
  },
  {
   "cell_type": "code",
   "execution_count": 146,
   "id": "26c7b76b-c9af-42d2-8115-9b03c886c67e",
   "metadata": {},
   "outputs": [
    {
     "data": {
      "text/plain": [
       "array([0, 1, 2, 3])"
      ]
     },
     "execution_count": 146,
     "metadata": {},
     "output_type": "execute_result"
    }
   ],
   "source": [
    "a[0,:] # 인덱싱의 결과 축의 갯수가 바뀐다! 2d array -> 1d array"
   ]
  },
  {
   "cell_type": "code",
   "execution_count": 149,
   "id": "deac9423-5371-430d-999d-c6ac79566c5d",
   "metadata": {},
   "outputs": [],
   "source": [
    "z=a[[0],:] # 이번에는 인덱싱의 결과 축의 갯수가 유지된다! 2d array -> 2d array"
   ]
  },
  {
   "cell_type": "code",
   "execution_count": 153,
   "id": "f460e2e0-5119-46e7-b1aa-1672e19c8b8e",
   "metadata": {},
   "outputs": [
    {
     "data": {
      "text/plain": [
       "2"
      ]
     },
     "execution_count": 153,
     "metadata": {},
     "output_type": "execute_result"
    }
   ],
   "source": [
    "z.ndim"
   ]
  },
  {
   "cell_type": "code",
   "execution_count": 157,
   "id": "7bdf6e8a-03d9-4697-9b43-8fa4d1f7b484",
   "metadata": {},
   "outputs": [
    {
     "data": {
      "text/plain": [
       "array([[ 0,  1,  2,  3],\n",
       "       [ 4,  5,  6,  7],\n",
       "       [ 8,  9, 10, 11]])"
      ]
     },
     "execution_count": 157,
     "metadata": {},
     "output_type": "execute_result"
    }
   ],
   "source": [
    "a"
   ]
  },
  {
   "cell_type": "code",
   "execution_count": 159,
   "id": "0591f203-40bf-4115-82a2-369c3185346d",
   "metadata": {},
   "outputs": [
    {
     "data": {
      "text/plain": [
       "array([[0, 1],\n",
       "       [4, 5]])"
      ]
     },
     "execution_count": 159,
     "metadata": {},
     "output_type": "execute_result"
    }
   ],
   "source": [
    "a[0:2,0:2]"
   ]
  },
  {
   "cell_type": "code",
   "execution_count": 160,
   "id": "7eceafe8-313f-4491-bed0-6f21721aca15",
   "metadata": {},
   "outputs": [
    {
     "data": {
      "text/plain": [
       "array([[0, 1],\n",
       "       [4, 5]])"
      ]
     },
     "execution_count": 160,
     "metadata": {},
     "output_type": "execute_result"
    }
   ],
   "source": [
    "a[[0,1],0:2]"
   ]
  },
  {
   "cell_type": "code",
   "execution_count": 158,
   "id": "f5703921-a64b-4552-9d35-ead48a8ecd20",
   "metadata": {},
   "outputs": [
    {
     "data": {
      "text/plain": [
       "array([0, 5])"
      ]
     },
     "execution_count": 158,
     "metadata": {},
     "output_type": "execute_result"
    }
   ],
   "source": [
    "a[[0,1],[0,1]] "
   ]
  },
  {
   "cell_type": "markdown",
   "id": "8873f3f1-7e7a-4670-addc-c6d5536d4b70",
   "metadata": {},
   "source": [
    "### 7주차 -2"
   ]
  },
  {
   "cell_type": "code",
   "execution_count": 3,
   "id": "fd4caa27-4fa2-4811-9bb7-b2486f25ccb0",
   "metadata": {},
   "outputs": [],
   "source": [
    "a = np.arange(6)\n",
    "b = -a"
   ]
  },
  {
   "cell_type": "code",
   "execution_count": 5,
   "id": "781272fe-7fbc-4ba2-ba76-adf0019ea976",
   "metadata": {},
   "outputs": [
    {
     "data": {
      "text/plain": [
       "array([[ 0,  1,  2,  3,  4,  5],\n",
       "       [ 0, -1, -2, -3, -4, -5]])"
      ]
     },
     "execution_count": 5,
     "metadata": {},
     "output_type": "execute_result"
    }
   ],
   "source": [
    "np.vstack([a,b])"
   ]
  },
  {
   "cell_type": "code",
   "execution_count": 6,
   "id": "3b8b9e44-5c9e-41b5-adb1-07ecf0de5581",
   "metadata": {},
   "outputs": [
    {
     "data": {
      "text/plain": [
       "array([ 0,  1,  2,  3,  4,  5,  0, -1, -2, -3, -4, -5])"
      ]
     },
     "execution_count": 6,
     "metadata": {},
     "output_type": "execute_result"
    }
   ],
   "source": [
    "np.hstack([a,b])"
   ]
  },
  {
   "cell_type": "code",
   "execution_count": 31,
   "id": "a87bf9c1-69ef-4e33-9ea6-b4094a361b40",
   "metadata": {},
   "outputs": [],
   "source": [
    "import time # 시간측정기능"
   ]
  },
  {
   "cell_type": "markdown",
   "id": "9bc5c7cd-38a0-482e-b997-522274d183c5",
   "metadata": {},
   "source": [
    "* 예제 x=[0,1,2,3,4] 인 벡터가 있다고 하자. (i,j)의 원소가 (x[i]-x[j])**2 을 의미하는 5×5 매트릭스를 구하라. \n",
    "* +) 위 과정의 시간까지 구해보기"
   ]
  },
  {
   "cell_type": "code",
   "execution_count": 38,
   "id": "fa747409-6107-46b1-8b49-a49c84b303b0",
   "metadata": {},
   "outputs": [
    {
     "data": {
      "text/plain": [
       "0.0010020732879638672"
      ]
     },
     "execution_count": 38,
     "metadata": {},
     "output_type": "execute_result"
    }
   ],
   "source": [
    "# 방법1\n",
    "t1=time.time()\n",
    "x=np.array(range(5))\n",
    "dist = np.zeros([5,5])\n",
    "\n",
    "for i in range(5):\n",
    "    for j in range(5):\n",
    "        dist[i,j]=(x[i]-x[j])**2\n",
    "t2=time.time()\n",
    "t2-t1"
   ]
  },
  {
   "cell_type": "code",
   "execution_count": 39,
   "id": "fc6e1b10-28e5-405a-880f-e85a180fabf6",
   "metadata": {},
   "outputs": [
    {
     "data": {
      "text/plain": [
       "array([[ 0.,  1.,  4.,  9., 16.],\n",
       "       [ 1.,  0.,  1.,  4.,  9.],\n",
       "       [ 4.,  1.,  0.,  1.,  4.],\n",
       "       [ 9.,  4.,  1.,  0.,  1.],\n",
       "       [16.,  9.,  4.,  1.,  0.]])"
      ]
     },
     "execution_count": 39,
     "metadata": {},
     "output_type": "execute_result"
    }
   ],
   "source": [
    "# 방법 2\n",
    "x1=x.reshape(5,1).astype(dtype=np.float64) #뒤에 astype 없어도 되는데 정확히 하기 위해 써줬나\n",
    "x2=x.reshape(1,5).astype(dtype=np.float64)\n",
    "(x1-x2)**2"
   ]
  },
  {
   "cell_type": "markdown",
   "id": "4a34ea68-be49-40b6-88c3-3d867b2ea2e6",
   "metadata": {},
   "source": [
    "#### matplotlib"
   ]
  },
  {
   "cell_type": "code",
   "execution_count": 41,
   "id": "44178505-83d0-4ace-91f8-03dcce054f0b",
   "metadata": {},
   "outputs": [],
   "source": [
    "import matplotlib.pyplot as plt "
   ]
  },
  {
   "cell_type": "code",
   "execution_count": 42,
   "id": "ad77085c-db52-4675-b9d3-1088546033fd",
   "metadata": {},
   "outputs": [
    {
     "data": {
      "text/plain": [
       "[<matplotlib.lines.Line2D at 0x217bc93f250>]"
      ]
     },
     "execution_count": 42,
     "metadata": {},
     "output_type": "execute_result"
    },
    {
     "data": {
      "image/png": "[encoded data removed]",
      "text/plain": [
       "<Figure size 432x288 with 1 Axes>"
      ]
     },
     "metadata": {
      "needs_background": "light"
     },
     "output_type": "display_data"
    }
   ],
   "source": [
    "plt.plot([1,2,3],[3,4,5],'.') #가본그림"
   ]
  },
  {
   "cell_type": "code",
   "execution_count": 45,
   "id": "2897c757-a622-4773-8546-c4907372c688",
   "metadata": {},
   "outputs": [
    {
     "data": {
      "text/plain": [
       "[<matplotlib.lines.Line2D at 0x217bfa93e50>]"
      ]
     },
     "execution_count": 45,
     "metadata": {},
     "output_type": "execute_result"
    },
    {
     "data": {
      "image/png": "[encoded data removed]",
      "text/plain": [
       "<Figure size 432x288 with 1 Axes>"
      ]
     },
     "metadata": {
      "needs_background": "light"
     },
     "output_type": "display_data"
    }
   ],
   "source": [
    "t=np.linspace(-6,6,100)\n",
    "x=np.sin(t)\n",
    "\n",
    "plt.plot(t,x,'--') #마지막 옵션 안하면 기본설정인 선으로 연결되서 나옴"
   ]
  },
  {
   "cell_type": "markdown",
   "id": "bea1b839-812f-4139-bb5f-4293e15301ca",
   "metadata": {},
   "source": [
    "## 중간고사\n",
    "* https://guebin.github.io/IP2022/2022/04/25/2022%EB%85%84-%ED%8C%8C%EC%9D%B4%EC%8D%AC%EC%9E%85%EB%AC%B8-%EC%A4%91%EA%B0%84%EA%B3%A0%EC%82%AC.html"
   ]
  },
  {
   "cell_type": "code",
   "execution_count": 98,
   "id": "010e9adf-bccd-4935-a287-439c665399ee",
   "metadata": {},
   "outputs": [],
   "source": [
    "import numpy as np\n",
    "import matplotlib.pyplot as plt"
   ]
  },
  {
   "cell_type": "markdown",
   "id": "aa8ece5e-9cfd-443d-82bf-f1308a2f271b",
   "metadata": {},
   "source": [
    "### 1번"
   ]
  },
  {
   "cell_type": "code",
   "execution_count": 57,
   "id": "04a28fa6-e420-424a-96e8-38cf69ca54d4",
   "metadata": {},
   "outputs": [
    {
     "data": {
      "text/plain": [
       "bool"
      ]
     },
     "execution_count": 57,
     "metadata": {},
     "output_type": "execute_result"
    }
   ],
   "source": [
    "#1-(1)\n",
    "a=1.0\n",
    "a=bool(a)\n",
    "type(a)"
   ]
  },
  {
   "cell_type": "code",
   "execution_count": 95,
   "id": "8036420e-6d0d-4fa6-ba98-66ef20621298",
   "metadata": {},
   "outputs": [],
   "source": [
    "#1-(2)~(6)\n",
    "test_arr = 'ssh-rsa AAAAB3NzaC1yc2EAAAABIwAAAQEAklOUpkDHrfHY17SbrmTIpNLTGK9Tjom/BWDSUGPl+nafzlHDTYW7hdI4yZ5ew18JH4JW9jbhUFrviQzM7xlELEVf4h9lFX5QVkbPppSwg0cda3Pbv7kOdJ/MTyBlWXFCR+HAo3FXRitBqxiX1nKhXpHAZsMciLq8V6RjsNAQwdsdMFvSlVK/7XAt3FaoJoAsncM1Q9x5+3V0Ww68/eIFmb1zuUFljQJKprrX88XypNDvjYNby6vw/Pb0rwert/EnmZ+AW4OZPnTPI89ZPmVMLuayrD2cE86Z/il8b+gw3r3+1nKatmIkjn2so1d01QraTlMqVSsbxNrRFi9wrf+M7Q== schacon@mylaptop.local'"
   ]
  },
  {
   "cell_type": "code",
   "execution_count": 74,
   "id": "59f864c6-0b7d-4509-aee2-b8c39f951331",
   "metadata": {},
   "outputs": [],
   "source": [
    "#1-(2)\n",
    "c=[]\n",
    "for i in range(len(test_arr)):\n",
    "    if i %2 > 0:\n",
    "        c.append(test_arr[i])"
   ]
  },
  {
   "cell_type": "code",
   "execution_count": 96,
   "id": "e380db23-20a9-49d2-8c72-9f3e7c614f45",
   "metadata": {},
   "outputs": [
    {
     "data": {
      "text/plain": [
       "'s-s AA3zCy2AABwAQAlUkHfY7bmINTKTo/WSGlnflDY7d4Ze1J4WjhFvQMxEEfhlXQkPpw0d3b7OJMylXC+A3XiBxXnhpAscL86jNQddFSV/XtFoosc19530w8eFbzUlQKrX8yNvYb6wP0wr/nZA4ZnP8ZmMuyDc8Zi8+wr+namkns10QalqSbNRiwfMQ=shcnmlpo.oa'"
      ]
     },
     "execution_count": 96,
     "metadata": {},
     "output_type": "execute_result"
    }
   ],
   "source": [
    "#해설\n",
    "test_arr[1::2]"
   ]
  },
  {
   "cell_type": "code",
   "execution_count": 89,
   "id": "a9c865a2-4e50-4c12-9640-74073dbbf0d8",
   "metadata": {},
   "outputs": [
    {
     "data": {
      "text/plain": [
       "'ptop.local'"
      ]
     },
     "execution_count": 89,
     "metadata": {},
     "output_type": "execute_result"
    }
   ],
   "source": [
    "#1-(3)\n",
    "test_arr[-10::1]"
   ]
  },
  {
   "cell_type": "code",
   "execution_count": 97,
   "id": "fc5aaea3-97f3-4d71-8420-0dc9a7662bba",
   "metadata": {},
   "outputs": [
    {
     "data": {
      "text/plain": [
       "'ptop.local'"
      ]
     },
     "execution_count": 97,
     "metadata": {},
     "output_type": "execute_result"
    }
   ],
   "source": [
    "#해설\n",
    "test_arr[-10:]"
   ]
  },
  {
   "cell_type": "code",
   "execution_count": 91,
   "id": "ab3f0f3e-a565-4605-8844-c24af18bc0d8",
   "metadata": {},
   "outputs": [
    {
     "data": {
      "text/plain": [
       "'lacol.potpalym@nocahcs ==Q7M+frw9iFRrNxbsSVqMlTarQ10d1os2njkImtaKn1+3r3wg+b8li/Z68Ec2DryauLMVmPZ98IPTnPZO4WA+ZmnE/trewr0bP/wv6ybNYjvDNpyX88XrrpKJQjlFUuz1bmFIe/86wW0V3+5x9Q1McnsAoJoaF3tAX7/KVlSvFMdsdwQANsjR6V8qLicMsZAHpXhKn1XixqBtiRXF3oAH+RCFXWlByTM/JdOk7vbP3adc0gwSppPbkVQ5XFl9h4fVELElx7MzQivrFUhbj9WJ4HJ81we5Zy4Idh7WYTDHlzfan+lPGUSDWB/mojT9KGTLNpITmrbS71YHfrHDkpUOlkAEQAAAwIBAAAAE2cy1CazN3BAAAA asr-hss'"
      ]
     },
     "execution_count": 91,
     "metadata": {},
     "output_type": "execute_result"
    }
   ],
   "source": [
    "#1-(4)\n",
    "test_arr[-1::-1]"
   ]
  },
  {
   "cell_type": "code",
   "execution_count": 99,
   "id": "3124a7e4-e3e5-4521-8628-840a43ee5c63",
   "metadata": {},
   "outputs": [
    {
     "data": {
      "text/plain": [
       "'lacol.potpalym@nocahcs ==Q7M+frw9iFRrNxbsSVqMlTarQ10d1os2njkImtaKn1+3r3wg+b8li/Z68Ec2DryauLMVmPZ98IPTnPZO4WA+ZmnE/trewr0bP/wv6ybNYjvDNpyX88XrrpKJQjlFUuz1bmFIe/86wW0V3+5x9Q1McnsAoJoaF3tAX7/KVlSvFMdsdwQANsjR6V8qLicMsZAHpXhKn1XixqBtiRXF3oAH+RCFXWlByTM/JdOk7vbP3adc0gwSppPbkVQ5XFl9h4fVELElx7MzQivrFUhbj9WJ4HJ81we5Zy4Idh7WYTDHlzfan+lPGUSDWB/mojT9KGTLNpITmrbS71YHfrHDkpUOlkAEQAAAwIBAAAAE2cy1CazN3BAAAA asr-hss'"
      ]
     },
     "execution_count": 99,
     "metadata": {},
     "output_type": "execute_result"
    }
   ],
   "source": [
    "#해설\n",
    "test_arr[::-1]"
   ]
  },
  {
   "cell_type": "code",
   "execution_count": 101,
   "id": "2cf387a9-6c71-433d-aa57-51b81c9f8511",
   "metadata": {},
   "outputs": [
    {
     "data": {
      "text/plain": [
       "155"
      ]
     },
     "execution_count": 101,
     "metadata": {},
     "output_type": "execute_result"
    }
   ],
   "source": [
    "#1-(5)\n",
    "count=0\n",
    "for i in range(len(test_arr)):\n",
    "    if test_arr[i].isupper()==True :\n",
    "        count+=1\n",
    "count    "
   ]
  },
  {
   "cell_type": "code",
   "execution_count": 102,
   "id": "f5a83a4d-6bee-4cb3-9311-00e95a270452",
   "metadata": {},
   "outputs": [
    {
     "data": {
      "text/plain": [
       "155"
      ]
     },
     "execution_count": 102,
     "metadata": {},
     "output_type": "execute_result"
    }
   ],
   "source": [
    "#해설\n",
    "sum([i.isupper() for i in test_arr]) #bool값에서 True가 1의 값을 가질수 있음"
   ]
  },
  {
   "cell_type": "code",
   "execution_count": 103,
   "id": "893adc61-cff6-4fda-ba82-a8e84318302c",
   "metadata": {},
   "outputs": [
    {
     "data": {
      "text/plain": [
       "69"
      ]
     },
     "execution_count": 103,
     "metadata": {},
     "output_type": "execute_result"
    }
   ],
   "source": [
    "#1-(6)\n",
    "b=[]\n",
    "for i in range(len(test_arr)):\n",
    "    b.append((test_arr[i]))\n",
    "\n",
    "len(set(b))"
   ]
  },
  {
   "cell_type": "code",
   "execution_count": 105,
   "id": "a573cd9b-cdf6-4dcb-89c7-cf4dc97b52e9",
   "metadata": {},
   "outputs": [
    {
     "data": {
      "text/plain": [
       "69"
      ]
     },
     "execution_count": 105,
     "metadata": {},
     "output_type": "execute_result"
    }
   ],
   "source": [
    "#해설\n",
    "len(set(test_arr))"
   ]
  },
  {
   "cell_type": "code",
   "execution_count": 141,
   "id": "8d588067-d86f-42d6-8b19-2e74621b81b7",
   "metadata": {},
   "outputs": [
    {
     "data": {
      "text/plain": [
       "['a',\n",
       " 'aa',\n",
       " 'aaa',\n",
       " 'aaaa',\n",
       " 'aaaaa',\n",
       " 'aaaaaa',\n",
       " 'aaaaaaa',\n",
       " 'aaaaaaaa',\n",
       " 'aaaaaaaaa',\n",
       " 'aaaaaaaaaa']"
      ]
     },
     "execution_count": 141,
     "metadata": {},
     "output_type": "execute_result"
    }
   ],
   "source": [
    "#1-(7)\n",
    "['a'*i for i in range(1,11)] "
   ]
  },
  {
   "cell_type": "code",
   "execution_count": 143,
   "id": "75ed69af-87b5-4d51-9bb6-a514b3988e4e",
   "metadata": {},
   "outputs": [
    {
     "data": {
      "text/plain": [
       "(202115779, 'sung')"
      ]
     },
     "execution_count": 143,
     "metadata": {},
     "output_type": "execute_result"
    }
   ],
   "source": [
    "#1-(8)\n",
    "a = (202115779,)\n",
    "b = ('sung',)\n",
    "a+b"
   ]
  },
  {
   "cell_type": "code",
   "execution_count": 106,
   "id": "373fbb03-03d5-4c72-b64b-3578031daba1",
   "metadata": {},
   "outputs": [
    {
     "data": {
      "text/plain": [
       "['g', 'uuuuu', 'ee', 'bbbbbbbb', 'ii', 'nnnnnnnnn']"
      ]
     },
     "execution_count": 106,
     "metadata": {},
     "output_type": "execute_result"
    }
   ],
   "source": [
    "#1-(9)\n",
    "test_lst = [['g',1],['u',5],['e',2],['b',8],['i',2],['n',9]]\n",
    "\n",
    "a=[]\n",
    "for i in range(len(test_lst)): \n",
    "    a.append(test_lst[i][0]*test_lst[i][1])\n",
    "a"
   ]
  },
  {
   "cell_type": "code",
   "execution_count": 109,
   "id": "678b48de-4ba0-497d-a93a-2f1c7227b59c",
   "metadata": {},
   "outputs": [
    {
     "data": {
      "text/plain": [
       "['g', 'uuuuu', 'ee', 'bbbbbbbb', 'ii', 'nnnnnnnnn']"
      ]
     },
     "execution_count": 109,
     "metadata": {},
     "output_type": "execute_result"
    }
   ],
   "source": [
    "#다른 풀이\n",
    "[i[0]*i[1] for i in test_lst]"
   ]
  },
  {
   "cell_type": "code",
   "execution_count": 110,
   "id": "9d7c4ba5-2622-459a-aca6-2f21da304f88",
   "metadata": {},
   "outputs": [
    {
     "data": {
      "text/plain": [
       "['g', 'uuuuu', 'ee', 'bbbbbbbb', 'ii', 'nnnnnnnnn']"
      ]
     },
     "execution_count": 110,
     "metadata": {},
     "output_type": "execute_result"
    }
   ],
   "source": [
    "#해설\n",
    "[i*j for i,j in test_lst]"
   ]
  },
  {
   "cell_type": "markdown",
   "id": "e916c37c-41e6-4211-9dfb-9ef978ea99fc",
   "metadata": {},
   "source": [
    "`모르는거`"
   ]
  },
  {
   "cell_type": "code",
   "execution_count": 112,
   "id": "81caa2d3-aff5-4ec5-8319-eaac1250494b",
   "metadata": {},
   "outputs": [],
   "source": [
    "#1-(10)\n",
    "def grade(attendance, report, mid, final): \n",
    "    if attendance<70: \n",
    "        credit = 'F' \n",
    "    else: \n",
    "        total_score = attendance * 0.1 + report * 0.2 + mid * 0.3 + final * 0.4 \n",
    "        if total_score > 80: \n",
    "            credit = 'A+' \n",
    "        else:\n",
    "            credit = 'B0' \n",
    "    return credit"
   ]
  },
  {
   "cell_type": "code",
   "execution_count": 113,
   "id": "9adb8a5b-6bec-4eff-b4b6-3d6800686c12",
   "metadata": {},
   "outputs": [],
   "source": [
    "data = [['202212345', [100,95,25,90]],\n",
    "        ['202212346', [60,90,95,95]],\n",
    "        ['202212347', [50,90,45,35]],\n",
    "        ['202212348', [90,90,50,75]],\n",
    "        ['202212349', [100,95,85,85]],\n",
    "        ['202212350', [90,90,100,95]],\n",
    "        ['202212351', [100,95,100,95]],\n",
    "        ['202212352', [95,85,80,60]],\n",
    "        ['202212353', [100,90,60,55]],\n",
    "        ['202212354', [100,85,70,95]],\n",
    "        ['202212355', [100,95,40,100]]]"
   ]
  },
  {
   "cell_type": "code",
   "execution_count": 166,
   "id": "98d3d875-c6f0-4401-abc4-c3886710e1ed",
   "metadata": {},
   "outputs": [
    {
     "ename": "TypeError",
     "evalue": "list indices must be integers or slices, not str",
     "output_type": "error",
     "traceback": [
      "\u001b[1;31m---------------------------------------------------------------------------\u001b[0m",
      "\u001b[1;31mTypeError\u001b[0m                                 Traceback (most recent call last)",
      "\u001b[1;32m~\\AppData\\Local\\Temp/ipykernel_14076/2523437138.py\u001b[0m in \u001b[0;36m<module>\u001b[1;34m\u001b[0m\n\u001b[1;32m----> 1\u001b[1;33m \u001b[1;33m[\u001b[0m\u001b[0mgrade\u001b[0m\u001b[1;33m(\u001b[0m\u001b[0mscores\u001b[0m\u001b[1;33m[\u001b[0m\u001b[0m_\u001b[0m\u001b[1;33m]\u001b[0m\u001b[1;33m[\u001b[0m\u001b[1;36m1\u001b[0m\u001b[1;33m]\u001b[0m\u001b[1;33m[\u001b[0m\u001b[1;36m0\u001b[0m\u001b[1;33m]\u001b[0m\u001b[1;33m,\u001b[0m\u001b[0mscores\u001b[0m\u001b[1;33m[\u001b[0m\u001b[0m_\u001b[0m\u001b[1;33m]\u001b[0m\u001b[1;33m[\u001b[0m\u001b[1;36m1\u001b[0m\u001b[1;33m]\u001b[0m\u001b[1;33m[\u001b[0m\u001b[1;36m1\u001b[0m\u001b[1;33m]\u001b[0m\u001b[1;33m,\u001b[0m \u001b[0mscores\u001b[0m\u001b[1;33m[\u001b[0m\u001b[0m_\u001b[0m\u001b[1;33m]\u001b[0m\u001b[1;33m[\u001b[0m\u001b[1;36m1\u001b[0m\u001b[1;33m]\u001b[0m\u001b[1;33m[\u001b[0m\u001b[1;36m2\u001b[0m\u001b[1;33m]\u001b[0m\u001b[1;33m,\u001b[0m \u001b[0mscores\u001b[0m\u001b[1;33m[\u001b[0m\u001b[0m_\u001b[0m\u001b[1;33m]\u001b[0m\u001b[1;33m[\u001b[0m\u001b[1;36m1\u001b[0m\u001b[1;33m]\u001b[0m\u001b[1;33m[\u001b[0m\u001b[1;36m3\u001b[0m\u001b[1;33m]\u001b[0m\u001b[1;33m)\u001b[0m \u001b[1;32mfor\u001b[0m \u001b[0m_\u001b[0m\u001b[1;33m,\u001b[0m \u001b[0mscores\u001b[0m \u001b[1;32min\u001b[0m \u001b[0mdata\u001b[0m\u001b[1;33m]\u001b[0m\u001b[1;33m\u001b[0m\u001b[1;33m\u001b[0m\u001b[0m\n\u001b[0m",
      "\u001b[1;32m~\\AppData\\Local\\Temp/ipykernel_14076/2523437138.py\u001b[0m in \u001b[0;36m<listcomp>\u001b[1;34m(.0)\u001b[0m\n\u001b[1;32m----> 1\u001b[1;33m \u001b[1;33m[\u001b[0m\u001b[0mgrade\u001b[0m\u001b[1;33m(\u001b[0m\u001b[0mscores\u001b[0m\u001b[1;33m[\u001b[0m\u001b[0m_\u001b[0m\u001b[1;33m]\u001b[0m\u001b[1;33m[\u001b[0m\u001b[1;36m1\u001b[0m\u001b[1;33m]\u001b[0m\u001b[1;33m[\u001b[0m\u001b[1;36m0\u001b[0m\u001b[1;33m]\u001b[0m\u001b[1;33m,\u001b[0m\u001b[0mscores\u001b[0m\u001b[1;33m[\u001b[0m\u001b[0m_\u001b[0m\u001b[1;33m]\u001b[0m\u001b[1;33m[\u001b[0m\u001b[1;36m1\u001b[0m\u001b[1;33m]\u001b[0m\u001b[1;33m[\u001b[0m\u001b[1;36m1\u001b[0m\u001b[1;33m]\u001b[0m\u001b[1;33m,\u001b[0m \u001b[0mscores\u001b[0m\u001b[1;33m[\u001b[0m\u001b[0m_\u001b[0m\u001b[1;33m]\u001b[0m\u001b[1;33m[\u001b[0m\u001b[1;36m1\u001b[0m\u001b[1;33m]\u001b[0m\u001b[1;33m[\u001b[0m\u001b[1;36m2\u001b[0m\u001b[1;33m]\u001b[0m\u001b[1;33m,\u001b[0m \u001b[0mscores\u001b[0m\u001b[1;33m[\u001b[0m\u001b[0m_\u001b[0m\u001b[1;33m]\u001b[0m\u001b[1;33m[\u001b[0m\u001b[1;36m1\u001b[0m\u001b[1;33m]\u001b[0m\u001b[1;33m[\u001b[0m\u001b[1;36m3\u001b[0m\u001b[1;33m]\u001b[0m\u001b[1;33m)\u001b[0m \u001b[1;32mfor\u001b[0m \u001b[0m_\u001b[0m\u001b[1;33m,\u001b[0m \u001b[0mscores\u001b[0m \u001b[1;32min\u001b[0m \u001b[0mdata\u001b[0m\u001b[1;33m]\u001b[0m\u001b[1;33m\u001b[0m\u001b[1;33m\u001b[0m\u001b[0m\n\u001b[0m",
      "\u001b[1;31mTypeError\u001b[0m: list indices must be integers or slices, not str"
     ]
    }
   ],
   "source": [
    "[grade(scores[_][1][0], scores[_][1][1], scores[_][1][2], scores[_][1][3]) for _, scores in data]"
   ]
  },
  {
   "cell_type": "code",
   "execution_count": 116,
   "id": "4262459c-a8d6-4d57-b6af-f25e793e4d1e",
   "metadata": {},
   "outputs": [
    {
     "data": {
      "text/plain": [
       "['B0', 'F', 'F', 'B0', 'A+', 'A+', 'A+', 'B0', 'B0', 'A+', 'A+']"
      ]
     },
     "execution_count": 116,
     "metadata": {},
     "output_type": "execute_result"
    }
   ],
   "source": [
    "#해설\n",
    "[grade(*scores) for _, scores in data]"
   ]
  },
  {
   "cell_type": "code",
   "execution_count": 117,
   "id": "29dc92fb-eebe-4426-b01d-712248c84e3a",
   "metadata": {},
   "outputs": [
    {
     "data": {
      "text/plain": [
       "0"
      ]
     },
     "execution_count": 117,
     "metadata": {},
     "output_type": "execute_result"
    }
   ],
   "source": [
    "#1-(11)\n",
    "a = ''\n",
    "len(a)"
   ]
  },
  {
   "cell_type": "code",
   "execution_count": 173,
   "id": "bda5e4c3-0e40-4e8c-a285-b9cd94b0420d",
   "metadata": {},
   "outputs": [
    {
     "data": {
      "text/plain": [
       "(list, list)"
      ]
     },
     "execution_count": 173,
     "metadata": {},
     "output_type": "execute_result"
    }
   ],
   "source": [
    "#1-(12)\n",
    "a=dir(plt)\n",
    "b=dir(np)\n",
    "type(a), type(b)"
   ]
  },
  {
   "cell_type": "code",
   "execution_count": 174,
   "id": "4be5a2bd-b799-41b5-a263-a57b2396b100",
   "metadata": {},
   "outputs": [
    {
     "data": {
      "text/plain": [
       "(256, 606)"
      ]
     },
     "execution_count": 174,
     "metadata": {},
     "output_type": "execute_result"
    }
   ],
   "source": [
    "#1-(13)\n",
    "len(a), len(b)"
   ]
  },
  {
   "cell_type": "code",
   "execution_count": 190,
   "id": "2a4666eb-3fc3-43f4-8e92-e23d45c9e639",
   "metadata": {},
   "outputs": [
    {
     "data": {
      "text/plain": [
       "9"
      ]
     },
     "execution_count": 190,
     "metadata": {},
     "output_type": "execute_result"
    }
   ],
   "source": [
    "#1-(14)\n",
    "a=set(a)\n",
    "b=set(b)\n",
    "len(a&b)"
   ]
  },
  {
   "cell_type": "code",
   "execution_count": 189,
   "id": "a7900706-fe24-42f9-92aa-187c343ef7f4",
   "metadata": {},
   "outputs": [],
   "source": [
    "#1-(15)\n",
    "#a|b"
   ]
  },
  {
   "cell_type": "code",
   "execution_count": 119,
   "id": "0dc60f4a-4d36-4671-abf7-b258ac2e54fe",
   "metadata": {},
   "outputs": [],
   "source": [
    "#1-(16~18)\n",
    "test_dic = {'202212345': {'att':100,'rep':95,'mid':25,'fin':90},\n",
    "            '202212346': {'att':60,'rep':90,'mid':95,'fin':95},\n",
    "            '202212347': {'att':50,'rep':90,'mid':45,'fin':35},\n",
    "            '202212348': {'att':90,'rep':90,'mid':50,'fin':75},\n",
    "            '202212349': {'att':100,'rep':95,'mid':85,'fin':85},\n",
    "            '202212350': {'att':90,'rep':90,'mid':100,'fin':95},\n",
    "            '202212351': {'att':100,'rep':95,'mid':100,'fin':95},\n",
    "            '202212352': {'att':95,'rep':85,'mid':80,'fin':60},\n",
    "            '202212353': {'att':100,'rep':90,'mid':60,'fin':55},\n",
    "            '202212354': {'att':100,'rep':85,'mid':70,'fin':95},\n",
    "            '202212355': {'att':100,'rep':95,'mid':40,'fin':100}}"
   ]
  },
  {
   "cell_type": "code",
   "execution_count": 200,
   "id": "d05332e1-1c7e-47dd-8541-d456d20e8cbb",
   "metadata": {},
   "outputs": [
    {
     "data": {
      "text/plain": [
       "{'att': 100, 'rep': 90, 'mid': 60, 'fin': 55}"
      ]
     },
     "execution_count": 200,
     "metadata": {},
     "output_type": "execute_result"
    }
   ],
   "source": [
    "#1-(16)\n",
    "test_dic.get('202212353')"
   ]
  },
  {
   "cell_type": "code",
   "execution_count": 203,
   "id": "31837a92-6a80-47ba-b989-2b14710084a7",
   "metadata": {},
   "outputs": [
    {
     "data": {
      "text/plain": [
       "85"
      ]
     },
     "execution_count": 203,
     "metadata": {},
     "output_type": "execute_result"
    }
   ],
   "source": [
    "#1-(17)\n",
    "test_dic.get('202212354')['rep']"
   ]
  },
  {
   "cell_type": "code",
   "execution_count": 211,
   "id": "0056987a-8ba6-45e7-9f46-a29018382b58",
   "metadata": {},
   "outputs": [
    {
     "name": "stdout",
     "output_type": "stream",
     "text": [
      "202212345\n",
      "202212346\n",
      "202212347\n",
      "202212348\n",
      "202212349\n",
      "202212350\n",
      "202212351\n",
      "202212352\n",
      "202212353\n",
      "202212354\n",
      "202212355\n"
     ]
    }
   ],
   "source": [
    "#1-(18)\n",
    "for i,j in test_dic.items():\n",
    "    print(i) "
   ]
  },
  {
   "cell_type": "code",
   "execution_count": 125,
   "id": "333a371c-0e43-41dc-8858-e1c0d6f7a094",
   "metadata": {},
   "outputs": [
    {
     "data": {
      "text/plain": [
       "['202212345',\n",
       " '202212346',\n",
       " '202212347',\n",
       " '202212348',\n",
       " '202212349',\n",
       " '202212350',\n",
       " '202212351',\n",
       " '202212352',\n",
       " '202212353',\n",
       " '202212354',\n",
       " '202212355']"
      ]
     },
     "execution_count": 125,
     "metadata": {},
     "output_type": "execute_result"
    }
   ],
   "source": [
    "#해설\n",
    "[k for k in test_dic]"
   ]
  },
  {
   "cell_type": "markdown",
   "id": "9d28c3ac-e599-47ef-94e2-f23a93df10a8",
   "metadata": {},
   "source": [
    "`잘 모르겠음`"
   ]
  },
  {
   "cell_type": "code",
   "execution_count": 236,
   "id": "09fb2805-ce1c-4384-9b38-2fdbe7c9fb8a",
   "metadata": {},
   "outputs": [
    {
     "name": "stdout",
     "output_type": "stream",
     "text": [
      "()\n"
     ]
    }
   ],
   "source": [
    "#1-(19)\n",
    "arr = np.array(1)\n",
    "print(arr.shape)"
   ]
  },
  {
   "cell_type": "code",
   "execution_count": 127,
   "id": "2bde5dd8-9973-48a0-92c2-f950b96af894",
   "metadata": {},
   "outputs": [
    {
     "data": {
      "text/plain": [
       "()"
      ]
     },
     "execution_count": 127,
     "metadata": {},
     "output_type": "execute_result"
    }
   ],
   "source": [
    "#해설\n",
    "#shape이 ()인 numpy는 차원이 0인 넘파이 배열을 의미한다\n",
    "np.array(1).shape"
   ]
  },
  {
   "cell_type": "code",
   "execution_count": 234,
   "id": "d4761f2e-387d-482c-b70d-1aa7564c87c8",
   "metadata": {},
   "outputs": [],
   "source": [
    "#1-(20)\n",
    "a = np.array([1,2,3,4])\n",
    "a = a.reshape(2,2)"
   ]
  },
  {
   "cell_type": "code",
   "execution_count": 128,
   "id": "f7cb084d-c8ab-41f8-b596-6e296725a5d2",
   "metadata": {},
   "outputs": [
    {
     "data": {
      "text/plain": [
       "array([[1, 0],\n",
       "       [0, 1]])"
      ]
     },
     "execution_count": 128,
     "metadata": {},
     "output_type": "execute_result"
    }
   ],
   "source": [
    "#해설\n",
    "np.array([[1,0],[0,1]])"
   ]
  },
  {
   "cell_type": "code",
   "execution_count": 244,
   "id": "362fd719-03ca-46a4-ac4f-eb02061f28e9",
   "metadata": {},
   "outputs": [
    {
     "data": {
      "text/plain": [
       "array([ 2,  4,  3,  6, -2,  4,  9,  3,  4,  2])"
      ]
     },
     "execution_count": 244,
     "metadata": {},
     "output_type": "execute_result"
    }
   ],
   "source": [
    "#1-(21)\n",
    "a=[1,3,2,5,-3,3,8,2,3,1]\n",
    "np.array(a)+1"
   ]
  },
  {
   "cell_type": "code",
   "execution_count": 129,
   "id": "3c3bf3a8-e822-4b62-b009-c3a7b6d9f14e",
   "metadata": {},
   "outputs": [
    {
     "data": {
      "text/plain": [
       "array([  1,   3,   6,  10,  15,  21,  28,  36,  45,  55,  66,  78,  91,\n",
       "       105, 120, 136, 153, 171, 190, 210, 231, 253, 276, 300, 325, 351,\n",
       "       378, 406, 435])"
      ]
     },
     "execution_count": 129,
     "metadata": {},
     "output_type": "execute_result"
    }
   ],
   "source": [
    "#1-(22)\n",
    "#1,3,6,10,15,21,28,36,45, ... , 378, 406, 435\n",
    "a=[1]\n",
    "for i in range(2,30):\n",
    "    a.append(a[i-2]+i)\n",
    "a #리스트라서 세로로 보임\n",
    "np.array(a)"
   ]
  },
  {
   "cell_type": "code",
   "execution_count": 134,
   "id": "e7b943de-6679-4b54-9cb6-204b292a20e1",
   "metadata": {},
   "outputs": [
    {
     "data": {
      "text/plain": [
       "array([  1,   3,   6,  10,  15,  21,  28,  36,  45,  55,  66,  78,  91,\n",
       "       105, 120, 136, 153, 171, 190, 210, 231, 253, 276, 300, 325, 351,\n",
       "       378, 406, 435], dtype=int32)"
      ]
     },
     "execution_count": 134,
     "metadata": {},
     "output_type": "execute_result"
    }
   ],
   "source": [
    "#해설: cumsum의 기능->누적합을 아는지가 출제의도\n",
    "np.array(range(1,30)).cumsum()"
   ]
  },
  {
   "cell_type": "code",
   "execution_count": 135,
   "id": "956dbf77-83fd-4815-b196-e2fc2ad45083",
   "metadata": {},
   "outputs": [],
   "source": [
    "#1-(23)\n",
    "a=[]\n",
    "for i in range(0,100):\n",
    "    a.append(i)"
   ]
  },
  {
   "cell_type": "code",
   "execution_count": 136,
   "id": "7e0bab99-2efe-4622-9b75-8312698dfd7d",
   "metadata": {},
   "outputs": [
    {
     "data": {
      "text/plain": [
       "array([ 0,  3,  6,  9, 12, 15, 18, 21, 24, 27, 30, 33, 36, 39, 42, 45, 48,\n",
       "       51, 54, 57, 60, 63, 66, 69, 72, 75, 78, 81, 84, 87, 90, 93, 96, 99])"
      ]
     },
     "execution_count": 136,
     "metadata": {},
     "output_type": "execute_result"
    }
   ],
   "source": [
    "np.array(a[0::3])"
   ]
  },
  {
   "cell_type": "code",
   "execution_count": 140,
   "id": "ef76b8de-ab03-4b74-b6d0-96a8f31ddea9",
   "metadata": {},
   "outputs": [
    {
     "data": {
      "text/plain": [
       "array([ 0,  3,  6,  9, 12, 15, 18, 21, 24, 27, 30, 33, 36, 39, 42, 45, 48,\n",
       "       51, 54, 57, 60, 63, 66, 69, 72, 75, 78, 81, 84, 87, 90, 93, 96, 99])"
      ]
     },
     "execution_count": 140,
     "metadata": {},
     "output_type": "execute_result"
    }
   ],
   "source": [
    "#해설\n",
    "# np.array([0:99:3])<- 으이구 이러면 안되고 왜냐면 인덱스 기준인데 인덱싱 즉 번호 메길게 없으니까\n",
    "np.arange(100)[::3]"
   ]
  },
  {
   "cell_type": "code",
   "execution_count": 141,
   "id": "cbf62b94-3bb4-41d8-b19f-b157905630a2",
   "metadata": {},
   "outputs": [
    {
     "data": {
      "text/plain": [
       "array([[1.        , 0.        ],\n",
       "       [0.        , 0.33333333]])"
      ]
     },
     "execution_count": 141,
     "metadata": {},
     "output_type": "execute_result"
    }
   ],
   "source": [
    "#1-(24)\n",
    "A=[[1,0],[0,3]]\n",
    "np.linalg.inv(A) "
   ]
  },
  {
   "cell_type": "code",
   "execution_count": 144,
   "id": "d16624af-10e8-4810-bb7d-269723b2dd71",
   "metadata": {},
   "outputs": [
    {
     "data": {
      "text/plain": [
       "array([[1.        , 0.        ],\n",
       "       [0.        , 0.33333333]])"
      ]
     },
     "execution_count": 144,
     "metadata": {},
     "output_type": "execute_result"
    }
   ],
   "source": [
    "#풀이\n",
    "np.linalg.inv(np.array([[1,0],[0,3]]))"
   ]
  },
  {
   "cell_type": "code",
   "execution_count": 145,
   "id": "8d202c54-6852-4719-b1c4-2dfe57462820",
   "metadata": {},
   "outputs": [],
   "source": [
    "#1-(25~30)\n",
    "a=[1]*10 \n",
    "b=[2]*10"
   ]
  },
  {
   "cell_type": "code",
   "execution_count": 268,
   "id": "6faf5f6f-0ef7-4a51-84ca-55a9d2b0845a",
   "metadata": {},
   "outputs": [
    {
     "data": {
      "text/plain": [
       "array([1, 1, 1, 1, 1, 1, 1, 1, 1, 1, 2, 2, 2, 2, 2, 2, 2, 2, 2, 2])"
      ]
     },
     "execution_count": 268,
     "metadata": {},
     "output_type": "execute_result"
    }
   ],
   "source": [
    "#1-(25)\n",
    "np.concatenate((a,b),axis=0)"
   ]
  },
  {
   "cell_type": "markdown",
   "id": "86f03915-4e97-4ce7-858c-b74145ac9239",
   "metadata": {},
   "source": [
    "`잘 모르겠음`"
   ]
  },
  {
   "cell_type": "code",
   "execution_count": 272,
   "id": "f21fd339-eed1-4f9e-b196-e03bdecd4602",
   "metadata": {},
   "outputs": [
    {
     "data": {
      "text/plain": [
       "array([[1, 1, 1, 1, 1, 1, 1, 1, 1, 1],\n",
       "       [2, 2, 2, 2, 2, 2, 2, 2, 2, 2]])"
      ]
     },
     "execution_count": 272,
     "metadata": {},
     "output_type": "execute_result"
    }
   ],
   "source": [
    "#1-(26)\n",
    "np.concatenate((a,b),axis=0)"
   ]
  },
  {
   "cell_type": "code",
   "execution_count": 153,
   "id": "01111797-6819-4325-abb6-ef0f4befc2ec",
   "metadata": {},
   "outputs": [
    {
     "data": {
      "text/plain": [
       "array([[1],\n",
       "       [1],\n",
       "       [1],\n",
       "       [1],\n",
       "       [1],\n",
       "       [1],\n",
       "       [1],\n",
       "       [1],\n",
       "       [1],\n",
       "       [1],\n",
       "       [2],\n",
       "       [2],\n",
       "       [2],\n",
       "       [2],\n",
       "       [2],\n",
       "       [2],\n",
       "       [2],\n",
       "       [2],\n",
       "       [2],\n",
       "       [2]])"
      ]
     },
     "execution_count": 153,
     "metadata": {},
     "output_type": "execute_result"
    }
   ],
   "source": [
    "#풀이\n",
    "np.concatenate( (np.array(a).reshape(-1,1), np.array(b).reshape(-1,1)), axis=0)"
   ]
  },
  {
   "cell_type": "code",
   "execution_count": 275,
   "id": "4e7b3e77-53c4-4b47-95d7-0ac9ae277b76",
   "metadata": {},
   "outputs": [
    {
     "data": {
      "text/plain": [
       "array([[1, 1, 1, 1, 1, 1, 1, 1, 1, 1],\n",
       "       [2, 2, 2, 2, 2, 2, 2, 2, 2, 2]])"
      ]
     },
     "execution_count": 275,
     "metadata": {},
     "output_type": "execute_result"
    }
   ],
   "source": [
    "#1-(27) aixs=0같은 열을 맞춰야 하기에 둘다 공통된 열이 있어야 함, 모든 열에 a,b둘다 있어야함\n",
    "np.concatenate(([a],[b]),axis=0)"
   ]
  },
  {
   "cell_type": "code",
   "execution_count": 286,
   "id": "9e8c8a6a-3c42-4551-a541-84ed3485d0dd",
   "metadata": {},
   "outputs": [
    {
     "data": {
      "text/plain": [
       "array([[1, 2],\n",
       "       [1, 2],\n",
       "       [1, 2],\n",
       "       [1, 2],\n",
       "       [1, 2],\n",
       "       [1, 2],\n",
       "       [1, 2],\n",
       "       [1, 2],\n",
       "       [1, 2],\n",
       "       [1, 2]])"
      ]
     },
     "execution_count": 286,
     "metadata": {},
     "output_type": "execute_result"
    }
   ],
   "source": [
    "#1-(28)\n",
    "a=np.array(a).reshape(10,1)\n",
    "b=np.array(b).reshape(10,1)\n",
    "np.concatenate((a,b),axis=1) # 같은 행을 맞춰야 하기에 한 행을 꺼내면 a,b 둘다 있어야 함, 즉 공통 행이 있어야"
   ]
  },
  {
   "cell_type": "code",
   "execution_count": 155,
   "id": "92f865f7-085f-47be-8a7c-19d86b95f9e7",
   "metadata": {},
   "outputs": [
    {
     "data": {
      "text/plain": [
       "array([[1, 2],\n",
       "       [1, 2],\n",
       "       [1, 2],\n",
       "       [1, 2],\n",
       "       [1, 2],\n",
       "       [1, 2],\n",
       "       [1, 2],\n",
       "       [1, 2],\n",
       "       [1, 2],\n",
       "       [1, 2]])"
      ]
     },
     "execution_count": 155,
     "metadata": {},
     "output_type": "execute_result"
    }
   ],
   "source": [
    "#해설\n",
    "np.concatenate([np.array(a).reshape(-1,1), np.array(b).reshape(-1,1)],axis=1)"
   ]
  },
  {
   "cell_type": "code",
   "execution_count": 280,
   "id": "72d0c236-f375-41f8-89dd-0d96b25cb926",
   "metadata": {},
   "outputs": [
    {
     "data": {
      "text/plain": [
       "array([[1, 1, 1, 1, 1, 1, 1, 1, 1, 1],\n",
       "       [2, 2, 2, 2, 2, 2, 2, 2, 2, 2]])"
      ]
     },
     "execution_count": 280,
     "metadata": {},
     "output_type": "execute_result"
    }
   ],
   "source": [
    "#1-(29)\n",
    "np.stack((a,b),axis=0) #axis=0은 생략해도 됨"
   ]
  },
  {
   "cell_type": "code",
   "execution_count": 279,
   "id": "e496d59d-d310-4206-8e9c-ec80426e98f3",
   "metadata": {},
   "outputs": [
    {
     "data": {
      "text/plain": [
       "array([[1, 2],\n",
       "       [1, 2],\n",
       "       [1, 2],\n",
       "       [1, 2],\n",
       "       [1, 2],\n",
       "       [1, 2],\n",
       "       [1, 2],\n",
       "       [1, 2],\n",
       "       [1, 2],\n",
       "       [1, 2]])"
      ]
     },
     "execution_count": 279,
     "metadata": {},
     "output_type": "execute_result"
    }
   ],
   "source": [
    "#1-(30)\n",
    "np.stack((a,b),axis=1)"
   ]
  },
  {
   "cell_type": "code",
   "execution_count": 287,
   "id": "98a70fc9-c43d-413f-bc01-e54fb8a22754",
   "metadata": {},
   "outputs": [
    {
     "data": {
      "text/plain": [
       "24"
      ]
     },
     "execution_count": 287,
     "metadata": {},
     "output_type": "execute_result"
    }
   ],
   "source": [
    "#1-(31)\n",
    "a=np.array([1,2,3,4,5])\n",
    "b=np.array([3,2,1,1,2])\n",
    "a@b"
   ]
  },
  {
   "cell_type": "code",
   "execution_count": 288,
   "id": "4ab8dd2d-224c-466e-bb87-6c0c0fe10f27",
   "metadata": {},
   "outputs": [
    {
     "data": {
      "text/plain": [
       "82.86792368991419"
      ]
     },
     "execution_count": 288,
     "metadata": {},
     "output_type": "execute_result"
    }
   ],
   "source": [
    "#1-(32)\n",
    "x=np.random.randn(100)\n",
    "x@x"
   ]
  },
  {
   "cell_type": "code",
   "execution_count": 156,
   "id": "86ed0c8e-688c-40b6-b82f-fa8aea328ebb",
   "metadata": {},
   "outputs": [],
   "source": [
    "#1-(33) :::이거 틀린듯?ㅋㅋㅋㅋ\n",
    "a=np.array([1/100]*100)\n",
    "x=np.random.randn(100)"
   ]
  },
  {
   "cell_type": "code",
   "execution_count": 8,
   "id": "92e27da8-059f-432c-8b43-428123f505ef",
   "metadata": {},
   "outputs": [
    {
     "data": {
      "text/plain": [
       "-0.06457731432282565"
      ]
     },
     "execution_count": 8,
     "metadata": {},
     "output_type": "execute_result"
    }
   ],
   "source": [
    "c=[]\n",
    "for i in range(1,101):\n",
    "    c=((a/i)*100)@x\n",
    "c  "
   ]
  },
  {
   "cell_type": "code",
   "execution_count": 157,
   "id": "b48afa8f-b0b8-4a68-b1f6-a4247429624b",
   "metadata": {},
   "outputs": [
    {
     "data": {
      "text/plain": [
       "-0.010052841585430768"
      ]
     },
     "execution_count": 157,
     "metadata": {},
     "output_type": "execute_result"
    }
   ],
   "source": [
    "#해설\n",
    "a@x"
   ]
  },
  {
   "cell_type": "code",
   "execution_count": 9,
   "id": "b14d52ef-4485-4e33-bfad-b2f2e817c9ab",
   "metadata": {},
   "outputs": [
    {
     "data": {
      "text/plain": [
       "array([ 1.16661343, -1.56020844,  1.16975135,  0.36935139,  0.03341317,\n",
       "        0.15338321,  0.95549784,  0.78861987,  1.4938483 , -0.27965447,\n",
       "        0.65716928, -1.0463405 , -1.97877132,  0.49677878, -0.97766882,\n",
       "        0.13230997, -1.59095947, -2.10463749, -0.96323421,  0.54155373,\n",
       "        0.23674365, -1.34370642,  0.98743275,  0.07287142, -0.91312248,\n",
       "       -0.18368557,  0.6794613 , -0.23465277, -0.95347784,  0.68557909,\n",
       "       -0.4746033 ,  1.60493152,  1.51503864,  0.03127216,  0.58949616,\n",
       "       -1.15948002, -0.22466059,  1.13219698,  0.42308042,  0.37923123,\n",
       "        0.78832086, -0.4423244 , -0.72948504, -0.60396239,  0.43766239,\n",
       "       -0.63474102,  0.56888234,  0.6915962 , -0.96634495, -0.37129754,\n",
       "        0.72048824, -1.01141659,  1.60325741, -1.15529698,  0.19102283,\n",
       "       -2.04443447,  0.27816583, -0.30958009, -1.26411036,  1.29318792,\n",
       "        0.00431796,  2.25717492, -0.36332152,  0.66909487, -1.295965  ,\n",
       "       -0.45057937, -1.29439282,  0.4910474 , -0.28959052,  0.95855012,\n",
       "       -0.09203388, -1.67280641, -1.16211474, -1.22288442, -1.15500735,\n",
       "       -1.01428047,  0.86995963,  0.58316425, -0.14185355, -0.04116134,\n",
       "        1.72322951, -1.56542346,  0.67358746,  0.21098387,  0.16706156,\n",
       "        0.21383965,  0.08134805,  0.61127544, -1.36461965,  0.21224699,\n",
       "        0.29934343, -0.4781336 ,  1.34826176,  0.02881063, -0.33470108,\n",
       "       -0.25841189, -0.07084688,  0.82554583, -0.80626917,  1.05732202])"
      ]
     },
     "execution_count": 9,
     "metadata": {},
     "output_type": "execute_result"
    }
   ],
   "source": [
    "#1-(34)\n",
    "np.random.randn(100)"
   ]
  },
  {
   "cell_type": "code",
   "execution_count": 10,
   "id": "67fd251a-224c-47b4-8880-f9244ce0f942",
   "metadata": {},
   "outputs": [
    {
     "data": {
      "text/plain": [
       "array([2.6974873 , 2.3500182 , 2.86824139, 2.71295009, 3.16151146])"
      ]
     },
     "execution_count": 10,
     "metadata": {},
     "output_type": "execute_result"
    }
   ],
   "source": [
    "#1-(35)\n",
    "#np.random.uniform(low=2,high=4,size=(5,))\n",
    "np.random.rand(5)*2+2"
   ]
  },
  {
   "cell_type": "code",
   "execution_count": 13,
   "id": "02bae5f2-06cd-4861-b31a-9c12ad80ee62",
   "metadata": {},
   "outputs": [
    {
     "data": {
      "text/plain": [
       "array([0.        , 0.63328149, 0.        , 0.04344981, 0.        ,\n",
       "       0.46620912, 1.58787834, 0.        , 0.        , 1.300231  ,\n",
       "       1.11140389, 0.37149544, 0.        , 0.        , 0.        ,\n",
       "       0.        , 0.64304772, 0.        , 1.58997654, 0.        ,\n",
       "       1.17034705, 0.        , 0.        , 0.02206   , 0.63673872,\n",
       "       0.        , 0.36478736, 0.91782049, 0.        , 0.        ,\n",
       "       0.87873555, 0.        , 0.30658872, 0.08992359, 0.34527728,\n",
       "       1.51290775, 0.        , 0.91006601, 0.        , 0.        ,\n",
       "       1.35379765, 0.23383456, 1.24490471, 1.01886353, 0.24414104,\n",
       "       0.05925445, 0.        , 0.        , 0.        , 2.45203739,\n",
       "       1.24025379, 0.        , 0.        , 0.02625396, 0.        ,\n",
       "       1.00453591, 0.        , 0.21954859, 0.81771859, 0.23857974,\n",
       "       0.09753726, 0.        , 0.        , 0.        , 1.20782085,\n",
       "       0.        , 0.72377301, 1.10387942, 0.        , 0.        ,\n",
       "       0.33765928, 0.66521982, 0.52825406, 0.        , 2.33659462,\n",
       "       0.72114787, 0.50638185, 1.20817281, 0.        , 0.        ,\n",
       "       0.        , 0.        , 0.        , 0.        , 0.37043123,\n",
       "       0.81025698, 0.        , 0.7849886 , 0.        , 0.        ,\n",
       "       0.2966562 , 1.39584178, 0.        , 0.        , 0.        ,\n",
       "       1.54238487, 1.24894748, 0.48949479, 0.75680736, 0.        ])"
      ]
     },
     "execution_count": 13,
     "metadata": {},
     "output_type": "execute_result"
    }
   ],
   "source": [
    "#1-(36)\n",
    "a=np.random.randn(100)\n",
    "np.where(a<0,0,a)"
   ]
  },
  {
   "cell_type": "markdown",
   "id": "478bfa41-75b6-4d44-b6a8-6ef97db9a9cf",
   "metadata": {},
   "source": [
    "`잘 모르겠음`"
   ]
  },
  {
   "cell_type": "code",
   "execution_count": 19,
   "id": "49169276-9459-48a0-ac25-1f9819e0bf09",
   "metadata": {},
   "outputs": [
    {
     "data": {
      "text/plain": [
       "array([-2.6924159])"
      ]
     },
     "execution_count": 19,
     "metadata": {},
     "output_type": "execute_result"
    }
   ],
   "source": [
    "#1-(37)\n",
    "a=np.random.randn(100)\n",
    "a[np.where(a==min(a))] #위치 찾으래서 인덱싱 해주는 구조로 가면 안됨"
   ]
  },
  {
   "cell_type": "code",
   "execution_count": 158,
   "id": "cae5c025-f701-4734-bce0-1042e22bd749",
   "metadata": {},
   "outputs": [
    {
     "data": {
      "text/plain": [
       "[(array([97], dtype=int64),)]"
      ]
     },
     "execution_count": 158,
     "metadata": {},
     "output_type": "execute_result"
    }
   ],
   "source": [
    "#해설\n",
    "a=np.random.randn(100)\n",
    "[np.where(a==min(a))] "
   ]
  },
  {
   "cell_type": "code",
   "execution_count": 159,
   "id": "fc9d083f-3e19-45e5-b099-c07c45cfd284",
   "metadata": {},
   "outputs": [
    {
     "data": {
      "text/plain": [
       "array([[0],\n",
       "       [4],\n",
       "       [8]])"
      ]
     },
     "execution_count": 159,
     "metadata": {},
     "output_type": "execute_result"
    }
   ],
   "source": [
    "#1-(38)\n",
    "a=np.arange(12).reshape(3,4)\n",
    "a[:,0].reshape(-1,1)"
   ]
  },
  {
   "cell_type": "code",
   "execution_count": 163,
   "id": "0e95d940-e196-4761-a494-2c03ae4f0918",
   "metadata": {},
   "outputs": [
    {
     "data": {
      "text/plain": [
       "array([[0],\n",
       "       [4],\n",
       "       [8]])"
      ]
     },
     "execution_count": 163,
     "metadata": {},
     "output_type": "execute_result"
    }
   ],
   "source": [
    "#해설\n",
    "a[:,[0]]"
   ]
  },
  {
   "cell_type": "code",
   "execution_count": null,
   "id": "8219419f-dcb5-47ea-ac09-25c138d3d011",
   "metadata": {},
   "outputs": [],
   "source": [
    "#1-(39,40)"
   ]
  },
  {
   "cell_type": "code",
   "execution_count": 164,
   "id": "b8feecf3-a814-4cc1-9372-4a653232eee0",
   "metadata": {},
   "outputs": [],
   "source": [
    "#1-(39)\n",
    "import random\n",
    "random.seed(202115779)\n",
    "c=np.random.randint(low=20,high=25,size=(10,10))"
   ]
  },
  {
   "cell_type": "markdown",
   "id": "676158f9-0c62-478f-8267-23455152a74f",
   "metadata": {},
   "source": [
    "`잘 모르겠음`"
   ]
  },
  {
   "cell_type": "code",
   "execution_count": 61,
   "id": "7c9c0c60-2cae-4207-bf45-1ac1b522a578",
   "metadata": {},
   "outputs": [
    {
     "ename": "SyntaxError",
     "evalue": "invalid syntax (Temp/ipykernel_6936/1926761964.py, line 2)",
     "output_type": "error",
     "traceback": [
      "\u001b[1;36m  File \u001b[1;32m\"C:\\Users\\hyo\\AppData\\Local\\Temp/ipykernel_6936/1926761964.py\"\u001b[1;36m, line \u001b[1;32m2\u001b[0m\n\u001b[1;33m    np.where(c == 20 | c == | or c == 22)\u001b[0m\n\u001b[1;37m                            ^\u001b[0m\n\u001b[1;31mSyntaxError\u001b[0m\u001b[1;31m:\u001b[0m invalid syntax\n"
     ]
    }
   ],
   "source": [
    "#1-(40)\n",
    "np.where(c == 20 | c == | or c == 22)"
   ]
  },
  {
   "cell_type": "code",
   "execution_count": 166,
   "id": "96965288-7c51-437a-88ab-b310a705fadd",
   "metadata": {},
   "outputs": [
    {
     "data": {
      "text/plain": [
       "(19, 17, 25)"
      ]
     },
     "execution_count": 166,
     "metadata": {},
     "output_type": "execute_result"
    }
   ],
   "source": [
    "#해설\n",
    "np.sum(c==20), np.sum(c==21), np.sum(c==22)"
   ]
  },
  {
   "cell_type": "markdown",
   "id": "c553596e-131d-447f-ade0-b46b212a08c1",
   "metadata": {},
   "source": [
    "### 2번"
   ]
  },
  {
   "cell_type": "code",
   "execution_count": 4,
   "id": "bbbe0ea2-591c-4102-bf16-e329e6fffe9f",
   "metadata": {},
   "outputs": [],
   "source": [
    "#2-(1~6)\n",
    "np.random.seed(43052)\n",
    "att = np.random.choice(np.arange(10,21)*5,200)\n",
    "rep = np.random.choice(np.arange(5,21)*5,200)\n",
    "mid = np.random.choice(np.arange(0,21)*5,200)\n",
    "fin = np.random.choice(np.arange(0,21)*5,200)\n",
    "key = ['202212'+str(s) for s in np.random.choice(np.arange(300,501),200,replace=False)]\n",
    "test_dic = {key[i] : {'att':att[i], 'rep':rep[i], 'mid':mid[i], 'fin':fin[i]} for i in range(200)}\n",
    "del(att);del(rep);del(mid);del(fin);del(key)"
   ]
  },
  {
   "cell_type": "code",
   "execution_count": 172,
   "id": "bec76ee4-15d1-4007-9e5e-37213603bcc2",
   "metadata": {},
   "outputs": [
    {
     "data": {
      "text/plain": [
       "130"
      ]
     },
     "execution_count": 172,
     "metadata": {},
     "output_type": "execute_result"
    }
   ],
   "source": [
    "#2-(1)\n",
    "a=[]\n",
    "for i,j in test_dic.items():\n",
    "    if j['att']>=70:\n",
    "        a.append(i) \n",
    "len(a)"
   ]
  },
  {
   "cell_type": "code",
   "execution_count": 175,
   "id": "cb0ca6de-c566-4726-9428-71b5299b6f48",
   "metadata": {},
   "outputs": [
    {
     "data": {
      "text/plain": [
       "130"
      ]
     },
     "execution_count": 175,
     "metadata": {},
     "output_type": "execute_result"
    }
   ],
   "source": [
    "#해설 : k가 인덱싱 처럼 보이지만 키!!이다!!\n",
    "ids=[k for k in test_dic if test_dic[k]['att']>=70] "
   ]
  },
  {
   "cell_type": "code",
   "execution_count": 6,
   "id": "b6bf3088-234e-4b4d-8398-d0ac10621087",
   "metadata": {},
   "outputs": [
    {
     "data": {
      "text/plain": [
       "70"
      ]
     },
     "execution_count": 6,
     "metadata": {},
     "output_type": "execute_result"
    }
   ],
   "source": [
    "#2-(2)\n",
    "count=0\n",
    "for i,j in test_dic.items():\n",
    "    if j['att']<70:\n",
    "        count+=1\n",
    "count"
   ]
  },
  {
   "cell_type": "code",
   "execution_count": 10,
   "id": "5efa2bc2-bb14-4a75-8301-b34d7741f528",
   "metadata": {},
   "outputs": [
    {
     "data": {
      "text/plain": [
       "70"
      ]
     },
     "execution_count": 10,
     "metadata": {},
     "output_type": "execute_result"
    }
   ],
   "source": [
    "#해설_1\n",
    "len([k for k in test_dic if test_dic[k]['att']<70]) #len 전에는 학번(밸류값으로 출력됨)"
   ]
  },
  {
   "cell_type": "code",
   "execution_count": 12,
   "id": "a7089c85-b4c8-4da4-a3e3-5b4507bac852",
   "metadata": {},
   "outputs": [
    {
     "data": {
      "text/plain": [
       "70"
      ]
     },
     "execution_count": 12,
     "metadata": {},
     "output_type": "execute_result"
    }
   ],
   "source": [
    "#해설_2\n",
    "sum([test_dic[k]['att']<70 for k in test_dic]) #sum 전에는 트루 펄스(불값)으로 나옴->트루는 연산 가능"
   ]
  },
  {
   "cell_type": "code",
   "execution_count": 17,
   "id": "ee9e14b9-ff2b-4119-9f27-540b38560eb5",
   "metadata": {},
   "outputs": [
    {
     "data": {
      "text/plain": [
       "57.15384615384615"
      ]
     },
     "execution_count": 17,
     "metadata": {},
     "output_type": "execute_result"
    }
   ],
   "source": [
    "#2-(3)\n",
    "a=[]\n",
    "for i,j in test_dic.items():\n",
    "    if j['att']>=70:\n",
    "        a.append(j['mid'])\n",
    "a=np.array(a)\n",
    "a.mean()"
   ]
  },
  {
   "cell_type": "code",
   "execution_count": 16,
   "id": "9e8e653f-ea03-4d88-a8c6-675b8d5a59ab",
   "metadata": {},
   "outputs": [
    {
     "data": {
      "text/plain": [
       "57.15384615384615"
      ]
     },
     "execution_count": 16,
     "metadata": {},
     "output_type": "execute_result"
    }
   ],
   "source": [
    "#해설\n",
    "np.mean([test_dic[k]['mid'] for k in test_dic if test_dic[k]['att']>=70])"
   ]
  },
  {
   "cell_type": "code",
   "execution_count": 84,
   "id": "34f6d121-cf1d-453f-8b0d-3443588efdf1",
   "metadata": {},
   "outputs": [],
   "source": [
    "#2-(4)\n",
    "a=[]\n",
    "for i,j in test_dic.items():\n",
    "    a.append(j['mid'])"
   ]
  },
  {
   "cell_type": "code",
   "execution_count": 19,
   "id": "364096fb-75b7-4e9a-8bcf-b8113a3a5ade",
   "metadata": {},
   "outputs": [],
   "source": [
    "#해설\n",
    "mid=[test_dic[k]['mid'] for k in test_dic]"
   ]
  },
  {
   "cell_type": "code",
   "execution_count": 86,
   "id": "242fa47a-e56e-44ed-81b9-db4d0a38e299",
   "metadata": {},
   "outputs": [
    {
     "data": {
      "text/plain": [
       "29.88243631299162"
      ]
     },
     "execution_count": 86,
     "metadata": {},
     "output_type": "execute_result"
    }
   ],
   "source": [
    "#2-(5)\n",
    "a=[]\n",
    "for i,j in test_dic.items():\n",
    "    a.append(j['mid'])\n",
    "a=np.array(a)\n",
    "a.std()"
   ]
  },
  {
   "cell_type": "code",
   "execution_count": 87,
   "id": "4678dd73-2c16-4cf6-8fcd-19d57374f421",
   "metadata": {},
   "outputs": [
    {
     "data": {
      "text/plain": [
       "22.626533097229014"
      ]
     },
     "execution_count": 87,
     "metadata": {},
     "output_type": "execute_result"
    }
   ],
   "source": [
    "a=[]\n",
    "for i,j in test_dic.items():\n",
    "    a.append(j['rep'])\n",
    "a=np.array(a)\n",
    "a.std()"
   ]
  },
  {
   "cell_type": "code",
   "execution_count": 21,
   "id": "df21b5df-ff7b-4e68-a5f2-5eb6439f03d0",
   "metadata": {},
   "outputs": [
    {
     "data": {
      "text/plain": [
       "(29.88243631299162, 22.626533097229014)"
      ]
     },
     "execution_count": 21,
     "metadata": {},
     "output_type": "execute_result"
    }
   ],
   "source": [
    "np.std([test_dic[k]['mid'] for k in test_dic]), np.std([test_dic[k]['rep'] for k in test_dic])"
   ]
  },
  {
   "cell_type": "code",
   "execution_count": 88,
   "id": "4dca4b04-bfed-4a00-aef9-f39a9fe117a0",
   "metadata": {},
   "outputs": [
    {
     "name": "stdout",
     "output_type": "stream",
     "text": [
      "100\n"
     ]
    }
   ],
   "source": [
    "#2-(6): 틀림\n",
    "max=-1\n",
    "for i,j in test_dic.items():\n",
    "    if j['mid']>=max:\n",
    "        max=j['mid']\n",
    "print(max)"
   ]
  },
  {
   "cell_type": "code",
   "execution_count": 24,
   "id": "8b31aa3d-36f1-45f0-8d00-6565f3750689",
   "metadata": {},
   "outputs": [
    {
     "data": {
      "text/plain": [
       "['202212326',\n",
       " '202212463',\n",
       " '202212383',\n",
       " '202212341',\n",
       " '202212417',\n",
       " '202212401',\n",
       " '202212405',\n",
       " '202212369',\n",
       " '202212403',\n",
       " '202212407',\n",
       " '202212315']"
      ]
     },
     "execution_count": 24,
     "metadata": {},
     "output_type": "execute_result"
    }
   ],
   "source": [
    "#해설\n",
    "[k for k in test_dic if test_dic[k]['mid']>=max(mid)]"
   ]
  },
  {
   "cell_type": "code",
   "execution_count": 29,
   "id": "ef9be5cc-1c5b-4113-b998-d1eb323c0e74",
   "metadata": {},
   "outputs": [
    {
     "data": {
      "text/plain": [
       "0"
      ]
     },
     "execution_count": 29,
     "metadata": {},
     "output_type": "execute_result"
    }
   ],
   "source": [
    "#2-(7): 해결못함 + size=1000이 뭔지 모르겠음\n",
    "sum(np.random.binomial(n=100, p=0.45, size=(1000,))>=73)"
   ]
  },
  {
   "cell_type": "code",
   "execution_count": 34,
   "id": "445e1b29-a317-4e50-9f77-c569a3966073",
   "metadata": {},
   "outputs": [
    {
     "data": {
      "text/plain": [
       "0"
      ]
     },
     "execution_count": 34,
     "metadata": {},
     "output_type": "execute_result"
    }
   ],
   "source": [
    "#2-(8)\n",
    "a=np.random.binomial(n=100, p=0.45, size=(1000,))\n",
    "sum( (a>=90) | (a<=10) )"
   ]
  },
  {
   "cell_type": "code",
   "execution_count": 40,
   "id": "6ae435a7-795c-4005-8212-94b6f594c423",
   "metadata": {},
   "outputs": [
    {
     "data": {
      "text/plain": [
       "array([[0, 1],\n",
       "       [2, 3]])"
      ]
     },
     "execution_count": 40,
     "metadata": {},
     "output_type": "execute_result"
    }
   ],
   "source": [
    "#2-(9)\n",
    "A=np.arange(2*1).reshape(2,1)\n",
    "B=np.arange(2*2).reshape(2,2)\n",
    "C=np.arange(2*3).reshape(2,3)\n",
    "D=np.arange(3*3).reshape(3,3)\n",
    "E=np.arange(3*2).reshape(3,2)\n",
    "F=np.arange(3*1).reshape(3,1)"
   ]
  },
  {
   "cell_type": "code",
   "execution_count": 41,
   "id": "6be6c800-8729-413f-aca3-00cb6aed69a4",
   "metadata": {},
   "outputs": [
    {
     "data": {
      "text/plain": [
       "array([[0, 0, 1, 0, 1, 2],\n",
       "       [1, 2, 3, 3, 4, 5],\n",
       "       [0, 1, 2, 0, 1, 0],\n",
       "       [3, 4, 5, 2, 3, 1],\n",
       "       [6, 7, 8, 4, 5, 2]])"
      ]
     },
     "execution_count": 41,
     "metadata": {},
     "output_type": "execute_result"
    }
   ],
   "source": [
    "#해설\n",
    "top=np.concatenate([A,B,C],axis=1)\n",
    "bottom=np.concatenate([D,E,F],axis=1)\n",
    "np.concatenate([top, bottom])"
   ]
  },
  {
   "cell_type": "code",
   "execution_count": 47,
   "id": "c8b77184-92d0-4f5f-accc-414493c2e558",
   "metadata": {},
   "outputs": [
    {
     "ename": "ValueError",
     "evalue": "cannot reshape array of size 10000 into shape (10000,10000)",
     "output_type": "error",
     "traceback": [
      "\u001b[1;31m---------------------------------------------------------------------------\u001b[0m",
      "\u001b[1;31mValueError\u001b[0m                                Traceback (most recent call last)",
      "\u001b[1;32m~\\AppData\\Local\\Temp/ipykernel_24088/1834267912.py\u001b[0m in \u001b[0;36m<module>\u001b[1;34m\u001b[0m\n\u001b[0;32m      2\u001b[0m \u001b[0mx\u001b[0m\u001b[1;33m=\u001b[0m\u001b[0mnp\u001b[0m\u001b[1;33m.\u001b[0m\u001b[0mrandom\u001b[0m\u001b[1;33m.\u001b[0m\u001b[0mrandn\u001b[0m\u001b[1;33m(\u001b[0m\u001b[1;36m10000\u001b[0m\u001b[1;33m)\u001b[0m\u001b[1;33m\u001b[0m\u001b[1;33m\u001b[0m\u001b[0m\n\u001b[0;32m      3\u001b[0m \u001b[0my\u001b[0m\u001b[1;33m=\u001b[0m\u001b[0mnp\u001b[0m\u001b[1;33m.\u001b[0m\u001b[0mrandom\u001b[0m\u001b[1;33m.\u001b[0m\u001b[0mrandn\u001b[0m\u001b[1;33m(\u001b[0m\u001b[1;36m10000\u001b[0m\u001b[1;33m)\u001b[0m\u001b[1;33m\u001b[0m\u001b[1;33m\u001b[0m\u001b[0m\n\u001b[1;32m----> 4\u001b[1;33m \u001b[0mnp\u001b[0m\u001b[1;33m.\u001b[0m\u001b[0marray\u001b[0m\u001b[1;33m(\u001b[0m\u001b[1;33m(\u001b[0m\u001b[0mx\u001b[0m\u001b[1;33m-\u001b[0m\u001b[0my\u001b[0m\u001b[1;33m)\u001b[0m\u001b[1;33m**\u001b[0m\u001b[1;36m2\u001b[0m\u001b[1;33m)\u001b[0m\u001b[1;33m.\u001b[0m\u001b[0mreshape\u001b[0m\u001b[1;33m(\u001b[0m\u001b[1;36m10000\u001b[0m\u001b[1;33m,\u001b[0m\u001b[1;36m10000\u001b[0m\u001b[1;33m)\u001b[0m\u001b[1;33m\u001b[0m\u001b[1;33m\u001b[0m\u001b[0m\n\u001b[0m",
      "\u001b[1;31mValueError\u001b[0m: cannot reshape array of size 10000 into shape (10000,10000)"
     ]
    }
   ],
   "source": [
    "#2-(10)\n",
    "x=np.random.randn(10000)\n",
    "y=np.random.randn(10000)\n",
    "np.array((x-y)**2).reshape(10000,10000)"
   ]
  },
  {
   "cell_type": "code",
   "execution_count": 48,
   "id": "7c92aa95-1d7a-4559-8e3e-e7518e22eb4c",
   "metadata": {},
   "outputs": [
    {
     "data": {
      "text/plain": [
       "array([[0.44542327, 0.05949518, 1.8489629 , ..., 0.25608487, 0.15494722,\n",
       "        0.04857392],\n",
       "       [0.83524913, 3.33148779, 8.64998561, ..., 1.15620932, 3.90044092,\n",
       "        3.24617679],\n",
       "       [0.58023033, 0.02237663, 1.60133238, ..., 0.36045185, 0.08958362,\n",
       "        0.01589284],\n",
       "       ...,\n",
       "       [0.94942204, 3.55586303, 9.0092966 , ..., 1.28989397, 4.14292092,\n",
       "        3.46770767],\n",
       "       [0.51800209, 2.66029257, 7.54540332, ..., 0.77629441, 3.17109679,\n",
       "        2.58411709],\n",
       "       [0.84645397, 3.35382833, 8.68596111, ..., 1.16938578, 3.92461091,\n",
       "        3.26822992]])"
      ]
     },
     "execution_count": 48,
     "metadata": {},
     "output_type": "execute_result"
    }
   ],
   "source": [
    "#해설\n",
    "(x.reshape(10000,1) - y.reshape(1,10000))**2"
   ]
  },
  {
   "cell_type": "code",
   "execution_count": 49,
   "id": "b0691811-4699-4ee1-9757-f9ec7c8e03ab",
   "metadata": {},
   "outputs": [
    {
     "data": {
      "text/plain": [
       "array([[ 0.38342049,  1.0841745 ,  1.14277825, ..., -0.18506968,\n",
       "         1.05538764,  1.18701443],\n",
       "       [-0.25027283, -1.58045215,  0.1124153 , ...,  1.0321894 ,\n",
       "         0.40438012, -0.13491595],\n",
       "       [-0.76763724, -0.64294232, -0.24782396, ..., -0.01530161,\n",
       "         0.89125897, -0.82683395],\n",
       "       ...,\n",
       "       [-1.41379028,  0.79611333, -0.71011837, ..., -0.9860352 ,\n",
       "         1.30755244,  2.18677233],\n",
       "       [ 1.33968105, -0.78457449, -0.10405858, ..., -0.71110186,\n",
       "         0.99841286,  2.34371635],\n",
       "       [-0.66422032, -0.07550233,  0.7405869 , ...,  1.03232398,\n",
       "        -0.18988252, -0.03578389]])"
      ]
     },
     "execution_count": 49,
     "metadata": {},
     "output_type": "execute_result"
    }
   ],
   "source": [
    "#2-(11~16)\n",
    "np.random.seed(43052)\n",
    "a=np.random.randn(10000).reshape(100,100)\n",
    "a"
   ]
  },
  {
   "cell_type": "code",
   "execution_count": 58,
   "id": "8ca54887-5bba-47a9-a651-10fbf9c0b994",
   "metadata": {},
   "outputs": [
    {
     "data": {
      "text/plain": [
       "array([-8.13607922e+00,  9.87120533e+00, -1.41434956e+01, -2.21705363e+00,\n",
       "       -1.45535236e+01, -9.15821678e+00, -2.59866360e+00, -1.54562385e+01,\n",
       "       -1.42005088e+00, -3.51523111e+00,  9.70487578e+00, -1.26229105e+01,\n",
       "        1.66837113e+00,  2.43015457e+00,  2.72990184e+00, -7.99486429e+00,\n",
       "       -8.38305954e-01, -8.45002020e+00, -1.03610098e+00,  2.07251861e+01,\n",
       "        1.11461478e+01,  7.62144075e+00, -7.93734585e+00,  1.82844319e+01,\n",
       "       -2.63562392e+00, -8.97916930e+00, -1.88986183e+00, -9.32477049e+00,\n",
       "       -6.69074565e+00, -1.42463143e+01,  6.45540510e-01,  1.80911488e+00,\n",
       "        2.40997157e+00,  1.63367254e+01,  7.63990677e+00,  8.13524813e+00,\n",
       "        3.97159000e+00, -1.10542949e+00,  4.37564512e-01,  2.87299971e+00,\n",
       "       -4.01016768e+00,  5.71115215e+00, -4.64132698e+00, -9.13987753e+00,\n",
       "       -6.78326000e+00,  3.36308150e+00, -5.13704342e+00, -5.09782466e+00,\n",
       "        6.54192465e-03,  7.19722660e+00, -4.64674820e+00, -9.24124039e+00,\n",
       "        6.73530841e+00,  1.12168921e+00,  1.61615988e+00,  1.37602200e+01,\n",
       "        6.67289840e-01, -2.09578108e+00, -2.81826564e-01, -8.52416541e+00,\n",
       "       -7.21970047e+00,  2.27146777e+01, -1.40341974e+01,  1.69263136e+01,\n",
       "       -1.80568372e+01,  6.52142336e+00, -1.73092812e+01, -1.34999285e+01,\n",
       "       -7.85539317e+00, -4.74940393e-01, -2.75765037e+01,  8.74991555e+00,\n",
       "       -9.77324158e+00,  1.42854121e+01, -1.10130356e+00, -1.39206483e-01,\n",
       "       -1.54638921e+01,  1.36814794e+00,  8.41394160e+00, -2.42153833e+00,\n",
       "       -2.57155344e+01, -6.72423820e+00, -9.49366257e-01,  3.79493472e+00,\n",
       "       -6.23508582e+00,  7.75657189e+00,  9.69403620e+00,  1.46847519e+01,\n",
       "        7.36500792e+00, -2.54755192e+01,  1.22792449e+01, -1.02497847e+01,\n",
       "        1.30452028e+01,  3.92943038e+00, -3.27227585e+00, -1.06633071e+01,\n",
       "       -1.56942302e+01,  8.01451222e+00,  2.81546938e+00,  5.56774384e+00])"
      ]
     },
     "execution_count": 58,
     "metadata": {},
     "output_type": "execute_result"
    }
   ],
   "source": [
    "#2-(11)\n",
    "a.sum(axis=1)"
   ]
  },
  {
   "cell_type": "code",
   "execution_count": 56,
   "id": "28fe4c77-6c14-49bc-b9c9-aa15429a0788",
   "metadata": {},
   "outputs": [
    {
     "data": {
      "text/plain": [
       "9.98012658863081"
      ]
     },
     "execution_count": 56,
     "metadata": {},
     "output_type": "execute_result"
    }
   ],
   "source": [
    "#2-(12)\n",
    "(a.sum(axis=1)).std()"
   ]
  },
  {
   "cell_type": "code",
   "execution_count": 63,
   "id": "db57b1da-1ae3-4817-9d19-f32fbd8cb6a3",
   "metadata": {},
   "outputs": [
    {
     "data": {
      "text/plain": [
       "array([ 5.05543481e-01, -8.11250975e-01, -7.27142023e-01,  9.64876493e+00,\n",
       "        5.64186324e+00, -2.22728206e+00,  1.32808256e-02, -9.60905067e+00,\n",
       "        9.42144096e+00, -1.21946518e+01, -2.21878576e+00, -3.77018716e+00,\n",
       "        2.35739166e-01, -1.13202128e+01, -9.00374437e+00, -3.09372275e+00,\n",
       "       -2.18029121e+00,  7.04210003e+00, -4.12563112e+00,  2.58233488e+00,\n",
       "        1.16578817e+01, -1.59430241e+01, -1.53668953e+00,  9.21879710e+00,\n",
       "       -1.11346500e+01, -1.20131585e+01,  5.94139652e+00, -3.27022797e+00,\n",
       "       -1.46466366e+00, -1.78386785e+00, -1.06650333e+01, -9.04542721e+00,\n",
       "       -8.52586244e+00,  5.52166280e+00,  1.94115122e+01,  4.64389603e+00,\n",
       "        5.13636914e+00,  1.11424801e+01, -4.18629084e+00,  9.23822150e+00,\n",
       "       -2.00433998e+00, -5.73784795e+00, -8.79928414e+00, -3.01766235e+00,\n",
       "        6.47256326e+00,  3.14419234e+00, -1.16146865e+01, -1.04800787e+01,\n",
       "        3.17924308e+00,  5.51687322e+00,  1.04913214e+01, -2.79741703e-01,\n",
       "        2.56767141e+01, -1.35620430e+01, -9.59492302e+00,  1.23241275e+01,\n",
       "       -5.26436946e-01, -3.14823093e+00, -4.00286104e+00, -1.48618576e+01,\n",
       "        4.85988487e+00, -1.37972086e+01, -1.04715966e+01, -7.13893940e+00,\n",
       "        4.35483376e+00, -2.10610822e+01, -1.03231108e+01, -1.62132451e+01,\n",
       "        2.85187037e+01, -8.25697744e+00,  4.33723229e+00,  1.32763889e+00,\n",
       "       -1.61919484e+01, -5.07924036e+00,  6.62243327e+00, -9.72863991e+00,\n",
       "        2.71962223e+01, -5.97710822e+00,  1.54580795e+01, -5.46739064e+00,\n",
       "       -1.08611574e+01, -1.56520706e+01, -1.40476317e+01,  1.06067589e+01,\n",
       "       -3.46141736e+00, -6.07673046e+00,  5.33471760e-01,  8.10276105e+00,\n",
       "       -1.31994569e+01, -1.00936968e+00,  6.13944222e+00, -9.72765699e+00,\n",
       "        1.61342793e+01,  1.02634369e+01, -5.03038014e+00, -7.50604837e+00,\n",
       "        2.63992605e+00,  6.98470602e+00, -1.89567885e+01,  7.91910813e+00])"
      ]
     },
     "execution_count": 63,
     "metadata": {},
     "output_type": "execute_result"
    }
   ],
   "source": [
    "#2-(13)\n",
    "a.sum(axis=0) #여기선 axis=0생략 하면 안됨"
   ]
  },
  {
   "cell_type": "code",
   "execution_count": 68,
   "id": "65a2b078-1c79-4874-ab5e-3dc76be656c8",
   "metadata": {},
   "outputs": [
    {
     "data": {
      "text/plain": [
       "9.944992000065781"
      ]
     },
     "execution_count": 68,
     "metadata": {},
     "output_type": "execute_result"
    }
   ],
   "source": [
    "#2-(14)\n",
    "(a.sum(axis=0)).std()"
   ]
  },
  {
   "cell_type": "code",
   "execution_count": 67,
   "id": "cb537277-ee0a-4349-a335-819b1f7263c6",
   "metadata": {},
   "outputs": [
    {
     "data": {
      "text/plain": [
       "0.7879030416692301"
      ]
     },
     "execution_count": 67,
     "metadata": {},
     "output_type": "execute_result"
    }
   ],
   "source": [
    "#2-(15)\n",
    "a[a>0].mean()"
   ]
  },
  {
   "cell_type": "code",
   "execution_count": 72,
   "id": "3106b714-125a-4587-92b5-a69ee4016690",
   "metadata": {},
   "outputs": [
    {
     "data": {
      "text/plain": [
       "17"
      ]
     },
     "execution_count": 72,
     "metadata": {},
     "output_type": "execute_result"
    }
   ],
   "source": [
    "#2-(16)\n",
    "len(a[a>3])"
   ]
  },
  {
   "cell_type": "code",
   "execution_count": 75,
   "id": "1b50f76f-9028-4714-90d4-a9534fcb4042",
   "metadata": {},
   "outputs": [
    {
     "data": {
      "text/plain": [
       "17"
      ]
     },
     "execution_count": 75,
     "metadata": {},
     "output_type": "execute_result"
    }
   ],
   "source": [
    "#2-(16)\n",
    "np.sum(a>3)"
   ]
  },
  {
   "cell_type": "code",
   "execution_count": 77,
   "id": "c2905d62-0d69-4f95-87ba-790e20f5d8d6",
   "metadata": {},
   "outputs": [
    {
     "data": {
      "text/plain": [
       "array([1, 0, 1, ..., 1, 1, 0])"
      ]
     },
     "execution_count": 77,
     "metadata": {},
     "output_type": "execute_result"
    }
   ],
   "source": [
    "#2-(17,18)\n",
    "np.random.seed(43052)\n",
    "a=np.random.binomial(1,0.2,size=(10000,))\n",
    "a"
   ]
  },
  {
   "cell_type": "markdown",
   "id": "4e34dce4-a717-48c5-8ea4-a42a09a9e0d9",
   "metadata": {},
   "source": [
    "* diff는 한 객체 내에서 열과 열 / 행과 행의 차이를 출력하는 메서드\n",
    "* 기본값은 +1로 +1인 경우 바로 이전 값과의 차를 출력합니다"
   ]
  },
  {
   "cell_type": "code",
   "execution_count": 78,
   "id": "4cf74393-413e-41eb-a30a-43b2de014816",
   "metadata": {},
   "outputs": [
    {
     "data": {
      "text/plain": [
       "1617"
      ]
     },
     "execution_count": 78,
     "metadata": {},
     "output_type": "execute_result"
    }
   ],
   "source": [
    "#2-(17) \n",
    "np.sum(np.diff(a)==1)"
   ]
  },
  {
   "cell_type": "code",
   "execution_count": null,
   "id": "89125b7e-f3eb-44cf-84af-96b3bed679c0",
   "metadata": {},
   "outputs": [],
   "source": [
    "#2-(18)\n",
    "np.sum(np.diff(a)==-1)"
   ]
  },
  {
   "cell_type": "code",
   "execution_count": 94,
   "id": "ba5a9e69-9451-4c32-a3ac-5dcd53a384af",
   "metadata": {},
   "outputs": [
    {
     "ename": "NameError",
     "evalue": "name 'pi' is not defined",
     "output_type": "error",
     "traceback": [
      "\u001b[1;31m---------------------------------------------------------------------------\u001b[0m",
      "\u001b[1;31mNameError\u001b[0m                                 Traceback (most recent call last)",
      "\u001b[1;32m~\\AppData\\Local\\Temp/ipykernel_24088/2293935465.py\u001b[0m in \u001b[0;36m<module>\u001b[1;34m\u001b[0m\n\u001b[0;32m      2\u001b[0m \u001b[1;31m#2-(19)\u001b[0m\u001b[1;33m\u001b[0m\u001b[1;33m\u001b[0m\u001b[0m\n\u001b[0;32m      3\u001b[0m \u001b[0mi\u001b[0m\u001b[1;33m=\u001b[0m\u001b[0mrange\u001b[0m\u001b[1;33m(\u001b[0m\u001b[1;36m1\u001b[0m\u001b[1;33m,\u001b[0m\u001b[1;36m1001\u001b[0m\u001b[1;33m)\u001b[0m\u001b[1;33m\u001b[0m\u001b[1;33m\u001b[0m\u001b[0m\n\u001b[1;32m----> 4\u001b[1;33m \u001b[0mt\u001b[0m\u001b[1;33m=\u001b[0m\u001b[0mnp\u001b[0m\u001b[1;33m.\u001b[0m\u001b[0marray\u001b[0m\u001b[1;33m(\u001b[0m\u001b[1;36m2\u001b[0m\u001b[1;33m*\u001b[0m\u001b[0mpi\u001b[0m\u001b[1;33m*\u001b[0m\u001b[0mi\u001b[0m\u001b[1;33m/\u001b[0m\u001b[1;36m1000\u001b[0m\u001b[1;33m)\u001b[0m\u001b[1;33m\u001b[0m\u001b[1;33m\u001b[0m\u001b[0m\n\u001b[0m\u001b[0;32m      5\u001b[0m \u001b[0mx\u001b[0m\u001b[1;33m=\u001b[0m\u001b[0mnp\u001b[0m\u001b[1;33m.\u001b[0m\u001b[0mcos\u001b[0m\u001b[1;33m(\u001b[0m\u001b[0mt\u001b[0m\u001b[1;33m)\u001b[0m \u001b[1;33m+\u001b[0m \u001b[0mnp\u001b[0m\u001b[1;33m.\u001b[0m\u001b[0mcos\u001b[0m\u001b[1;33m(\u001b[0m\u001b[1;36m3\u001b[0m\u001b[1;33m*\u001b[0m\u001b[0mt\u001b[0m\u001b[1;33m)\u001b[0m \u001b[1;33m+\u001b[0m \u001b[0mnp\u001b[0m\u001b[1;33m.\u001b[0m\u001b[0mcos\u001b[0m\u001b[1;33m(\u001b[0m\u001b[1;36m5\u001b[0m\u001b[1;33m*\u001b[0m\u001b[0mt\u001b[0m\u001b[1;33m)\u001b[0m\u001b[1;33m\u001b[0m\u001b[1;33m\u001b[0m\u001b[0m\n\u001b[0;32m      6\u001b[0m \u001b[0my\u001b[0m\u001b[1;33m=\u001b[0m\u001b[0mnp\u001b[0m\u001b[1;33m.\u001b[0m\u001b[0msin\u001b[0m\u001b[1;33m(\u001b[0m\u001b[0mt\u001b[0m\u001b[1;33m)\u001b[0m \u001b[1;33m+\u001b[0m \u001b[0mnp\u001b[0m\u001b[1;33m.\u001b[0m\u001b[0msin\u001b[0m\u001b[1;33m(\u001b[0m\u001b[1;36m4\u001b[0m\u001b[1;33m*\u001b[0m\u001b[0mt\u001b[0m\u001b[1;33m)\u001b[0m\u001b[1;33m\u001b[0m\u001b[1;33m\u001b[0m\u001b[0m\n",
      "\u001b[1;31mNameError\u001b[0m: name 'pi' is not defined"
     ]
    }
   ],
   "source": [
    "#2-(19~25)\n",
    "#2-(19)\n",
    "i=range(1,1001)\n",
    "t=np.array(2*pi*i/1000)\n",
    "x=np.cos(t) + np.cos(3*t) + np.cos(5*t)\n",
    "y=np.sin(t) + np.sin(4*t)\n",
    "\n",
    "#plt.plot(t,x,'--') "
   ]
  },
  {
   "cell_type": "code",
   "execution_count": 96,
   "id": "15322a1f-c0c7-4f17-b16e-f3a52fd6a82e",
   "metadata": {},
   "outputs": [],
   "source": [
    "#해설\n",
    "i=np.arange(1,1001)\n",
    "t=i*2*np.pi/1000\n",
    "x=np.cos(t)+np.cos(3*t)+np.cos(5*t) \n",
    "y=np.sin(t)+np.sin(4*t) "
   ]
  },
  {
   "cell_type": "code",
   "execution_count": 100,
   "id": "9f692da7-39f8-4b6e-88e3-7b1c8d88692a",
   "metadata": {},
   "outputs": [
    {
     "data": {
      "text/plain": [
       "[<matplotlib.lines.Line2D at 0x123bbf7bf40>]"
      ]
     },
     "execution_count": 100,
     "metadata": {},
     "output_type": "execute_result"
    },
    {
     "data": {
      "image/png": "[encoded data removed]",
      "text/plain": [
       "<Figure size 432x288 with 1 Axes>"
      ]
     },
     "metadata": {
      "needs_background": "light"
     },
     "output_type": "display_data"
    }
   ],
   "source": [
    "#2-(20)\n",
    "plt.plot(x,y) "
   ]
  },
  {
   "cell_type": "code",
   "execution_count": 102,
   "id": "9a6987ab-242f-44fe-ad0e-a32c1096a3d4",
   "metadata": {},
   "outputs": [
    {
     "data": {
      "text/plain": [
       "[<matplotlib.lines.Line2D at 0x123bcfc8730>]"
      ]
     },
     "execution_count": 102,
     "metadata": {},
     "output_type": "execute_result"
    },
    {
     "data": {
      "image/png": "[encoded data removed]",
      "text/plain": [
       "<Figure size 432x288 with 1 Axes>"
      ]
     },
     "metadata": {
      "needs_background": "light"
     },
     "output_type": "display_data"
    }
   ],
   "source": [
    "#2-(21)\n",
    "w = 1/((2)**(1/2))*x-1/((2)**(1/2))*y\n",
    "z = 1/((2)**(1/2))*x+1/((2)**(1/2))*y\n",
    "plt.plot(w,z)"
   ]
  },
  {
   "cell_type": "code",
   "execution_count": 103,
   "id": "d2a6b5b0-7eed-4d46-ab9f-b13bfe6523cb",
   "metadata": {},
   "outputs": [
    {
     "data": {
      "text/plain": [
       "[<matplotlib.lines.Line2D at 0x123bd031130>]"
      ]
     },
     "execution_count": 103,
     "metadata": {},
     "output_type": "execute_result"
    },
    {
     "data": {
      "image/png": "[encoded data removed]",
      "text/plain": [
       "<Figure size 432x288 with 1 Axes>"
      ]
     },
     "metadata": {
      "needs_background": "light"
     },
     "output_type": "display_data"
    }
   ],
   "source": [
    "#다른 풀이\n",
    "w = 1/np.sqrt(2)*x -  1/np.sqrt(2)*y\n",
    "z = 1/np.sqrt(2)*x +  1/np.sqrt(2)*y\n",
    "plt.plot(w,z)"
   ]
  },
  {
   "cell_type": "code",
   "execution_count": 112,
   "id": "c2e3f490-b40c-4f2e-9e97-3f19d55f6481",
   "metadata": {},
   "outputs": [
    {
     "data": {
      "text/plain": [
       "array([[ 2.99930917e+00,  3.14132394e-02],\n",
       "       [ 2.99723725e+00,  6.28103581e-02],\n",
       "       [ 2.99378587e+00,  9.41752452e-02],\n",
       "       ...,\n",
       "       [ 2.99723725e+00, -6.28103581e-02],\n",
       "       [ 2.99930917e+00, -3.14132394e-02],\n",
       "       [ 3.00000000e+00, -1.22464680e-15]])"
      ]
     },
     "execution_count": 112,
     "metadata": {},
     "output_type": "execute_result"
    }
   ],
   "source": [
    "#2-(22)\n",
    "np.concatenate((x.reshape(-1,1), y.reshape(-1,1)), axis=1)"
   ]
  },
  {
   "cell_type": "code",
   "execution_count": 114,
   "id": "175c3915-9514-4350-bf4a-3310ad3684da",
   "metadata": {},
   "outputs": [
    {
     "data": {
      "text/plain": [
       "array([[ 2.99930917e+00,  3.14132394e-02],\n",
       "       [ 2.99723725e+00,  6.28103581e-02],\n",
       "       [ 2.99378587e+00,  9.41752452e-02],\n",
       "       ...,\n",
       "       [ 2.99723725e+00, -6.28103581e-02],\n",
       "       [ 2.99930917e+00, -3.14132394e-02],\n",
       "       [ 3.00000000e+00, -1.22464680e-15]])"
      ]
     },
     "execution_count": 114,
     "metadata": {},
     "output_type": "execute_result"
    }
   ],
   "source": [
    "#다른 방법\n",
    "A=np.stack([x,y]).T\n",
    "A"
   ]
  },
  {
   "cell_type": "code",
   "execution_count": null,
   "id": "51efc927-0256-4c22-a05d-5e95b1c00b7f",
   "metadata": {},
   "outputs": [],
   "source": []
  }
 ],
 "metadata": {
  "kernelspec": {
   "display_name": "Python 3 (ipykernel)",
   "language": "python",
   "name": "python3"
  },
  "language_info": {
   "codemirror_mode": {
    "name": "ipython",
    "version": 3
   },
   "file_extension": ".py",
   "mimetype": "text/x-python",
   "name": "python",
   "nbconvert_exporter": "python",
   "pygments_lexer": "ipython3",
   "version": "3.9.7"
  }
 },
 "nbformat": 4,
 "nbformat_minor": 5
}
